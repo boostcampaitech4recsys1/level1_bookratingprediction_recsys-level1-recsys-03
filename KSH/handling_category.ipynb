{
 "cells": [
   {
   "cell_type": "markdown",
   "metadata": {},
   "source": [
    "# Handling Category\n",
    "---\n",
    "변수별로 threshold 정한 기준:  \n",
    "Clustering의 개수를 정할 때 사용하는 elbow method에서 착안.  \n",
    "카디널리티가 급격하게 줄어드는 값으로 threshold 설정"
   ]
  },
  {
   "cell_type": "code",
   "execution_count": 2,
   "metadata": {},
   "outputs": [],
   "source": [
    "import pandas as pd\n",
    "import numpy as np"
   ]
  },
  {
   "cell_type": "code",
   "execution_count": 12,
   "metadata": {},
   "outputs": [],
   "source": [
    "books = pd.read_csv('data/books_1.0.csv')\n",
    "users = pd.read_csv('data/users_f_location_1.1.csv')\n",
    "ratings = pd.read_csv('data/train_ratings.csv')"
   ]
  },
  {
   "cell_type": "markdown",
   "metadata": {},
   "source": [
    "## user 카테고리 매핑\n",
    "---"
   ]
  },
  {
   "cell_type": "markdown",
   "metadata": {},
   "source": [
    "user의 `country` 카디널리티 줄이기"
   ]
  },
  {
   "cell_type": "code",
   "execution_count": 175,
   "metadata": {},
   "outputs": [],
   "source": [
    "user_country_vc = users.location_country.value_counts()\n",
    "etc_country = user_country_vc.where(user_country_vc < 30).dropna().index\n",
    "many_country = user_country_vc.where(user_country_vc >= 30).dropna().index\n",
    "\n",
    "v = len(users.location_country.unique()) - len(etc_country)\n",
    "\n",
    "country2etc = {country:v+1 for country in etc_country}\n",
    "country2many = {country:idx for idx, country in enumerate(many_country)}\n",
    "country2etc.update(country2many)\n",
    "\n",
    "users.location_country = users.location_country.map(country2etc)\n"
   ]
  },
  {
   "cell_type": "markdown",
   "metadata": {},
   "source": [
    "`state`, `city`는 카디널리티가 너무 높으므로 변수 drop"
   ]
  },
  {
   "cell_type": "code",
   "execution_count": 176,
   "metadata": {},
   "outputs": [],
   "source": [
    "users = users.drop(['location_city', 'location_state'], axis=1)"
   ]
  },
  {
   "cell_type": "markdown",
   "metadata": {},
   "source": [
    "나이 연령대로 매핑"
   ]
  },
  {
   "cell_type": "code",
   "execution_count": 177,
   "metadata": {},
   "outputs": [],
   "source": [
    "def age_map(x: int) -> int:\n",
    "    x = int(x)\n",
    "    if x < 20:\n",
    "        return 1\n",
    "    elif x >= 20 and x < 30:\n",
    "        return 2\n",
    "    elif x >= 30 and x < 40:\n",
    "        return 3\n",
    "    elif x >= 40 and x < 50:\n",
    "        return 4\n",
    "    elif x >= 50 and x < 60:\n",
    "        return 5\n",
    "    else:\n",
    "        return 6"
   ]
  },
  {
   "cell_type": "code",
   "execution_count": 178,
   "metadata": {},
   "outputs": [],
   "source": [
    "# Null 값은 평균으로 대치\n",
    "users = users.fillna(users.age.mean())\n",
    "users.age = users.age.apply(age_map)"
   ]
  },
  {
   "cell_type": "code",
   "execution_count": 179,
   "metadata": {},
   "outputs": [
    {
     "data": {
      "text/html": [
       "<div>\n",
       "<style scoped>\n",
       "    .dataframe tbody tr th:only-of-type {\n",
       "        vertical-align: middle;\n",
       "    }\n",
       "\n",
       "    .dataframe tbody tr th {\n",
       "        vertical-align: top;\n",
       "    }\n",
       "\n",
       "    .dataframe thead th {\n",
       "        text-align: right;\n",
       "    }\n",
       "</style>\n",
       "<table border=\"1\" class=\"dataframe\">\n",
       "  <thead>\n",
       "    <tr style=\"text-align: right;\">\n",
       "      <th></th>\n",
       "      <th>user_id</th>\n",
       "      <th>age</th>\n",
       "      <th>location_country</th>\n",
       "    </tr>\n",
       "  </thead>\n",
       "  <tbody>\n",
       "    <tr>\n",
       "      <th>0</th>\n",
       "      <td>8</td>\n",
       "      <td>3</td>\n",
       "      <td>1.000000</td>\n",
       "    </tr>\n",
       "    <tr>\n",
       "      <th>1</th>\n",
       "      <td>11400</td>\n",
       "      <td>4</td>\n",
       "      <td>1.000000</td>\n",
       "    </tr>\n",
       "    <tr>\n",
       "      <th>2</th>\n",
       "      <td>67544</td>\n",
       "      <td>3</td>\n",
       "      <td>1.000000</td>\n",
       "    </tr>\n",
       "    <tr>\n",
       "      <th>3</th>\n",
       "      <td>85526</td>\n",
       "      <td>3</td>\n",
       "      <td>1.000000</td>\n",
       "    </tr>\n",
       "    <tr>\n",
       "      <th>4</th>\n",
       "      <td>96054</td>\n",
       "      <td>2</td>\n",
       "      <td>1.000000</td>\n",
       "    </tr>\n",
       "    <tr>\n",
       "      <th>...</th>\n",
       "      <td>...</td>\n",
       "      <td>...</td>\n",
       "      <td>...</td>\n",
       "    </tr>\n",
       "    <tr>\n",
       "      <th>68087</th>\n",
       "      <td>156948</td>\n",
       "      <td>3</td>\n",
       "      <td>36.069873</td>\n",
       "    </tr>\n",
       "    <tr>\n",
       "      <th>68088</th>\n",
       "      <td>169489</td>\n",
       "      <td>3</td>\n",
       "      <td>36.069873</td>\n",
       "    </tr>\n",
       "    <tr>\n",
       "      <th>68089</th>\n",
       "      <td>56072</td>\n",
       "      <td>3</td>\n",
       "      <td>36.069873</td>\n",
       "    </tr>\n",
       "    <tr>\n",
       "      <th>68090</th>\n",
       "      <td>64582</td>\n",
       "      <td>3</td>\n",
       "      <td>36.069873</td>\n",
       "    </tr>\n",
       "    <tr>\n",
       "      <th>68091</th>\n",
       "      <td>218092</td>\n",
       "      <td>3</td>\n",
       "      <td>36.069873</td>\n",
       "    </tr>\n",
       "  </tbody>\n",
       "</table>\n",
       "<p>68092 rows × 3 columns</p>\n",
       "</div>"
      ],
      "text/plain": [
       "       user_id  age  location_country\n",
       "0            8    3          1.000000\n",
       "1        11400    4          1.000000\n",
       "2        67544    3          1.000000\n",
       "3        85526    3          1.000000\n",
       "4        96054    2          1.000000\n",
       "...        ...  ...               ...\n",
       "68087   156948    3         36.069873\n",
       "68088   169489    3         36.069873\n",
       "68089    56072    3         36.069873\n",
       "68090    64582    3         36.069873\n",
       "68091   218092    3         36.069873\n",
       "\n",
       "[68092 rows x 3 columns]"
      ]
     },
     "execution_count": 179,
     "metadata": {},
     "output_type": "execute_result"
    }
   ],
   "source": [
    "users"
   ]
  },
  {
   "cell_type": "markdown",
   "metadata": {},
   "source": [
    "## books 데이터 카테고리 매핑"
   ]
  },
  {
   "cell_type": "markdown",
   "metadata": {},
   "source": [
    "카디널리티가 너무 높은 변수 drop"
   ]
  },
  {
   "cell_type": "code",
   "execution_count": 180,
   "metadata": {},
   "outputs": [],
   "source": [
    "books = books.drop(['book_title', 'summary', 'img_path', 'img_url'], axis=1)"
   ]
  },
  {
   "cell_type": "markdown",
   "metadata": {},
   "source": [
    "book_author 변수 정규화 "
   ]
  },
  {
   "cell_type": "code",
   "execution_count": 181,
   "metadata": {},
   "outputs": [],
   "source": [
    "import re\n",
    "books.book_author = books['book_author'].str.strip().str.lower().apply(lambda x: re.sub(r\"[^\\uAC00-\\uD7A30-9a-zA-Z\\s]\", \"\", x))"
   ]
  },
  {
   "cell_type": "markdown",
   "metadata": {},
   "source": [
    "작가별 집필한 책 수\n",
    "\n",
    "박경리: 15 권쯤  \n",
    "박완서: 40 권쯤  \n",
    "신경숙: 15 권쯤  \n",
    "베르나르 베르베르: 15권쯤 "
   ]
  },
  {
   "cell_type": "code",
   "execution_count": 182,
   "metadata": {},
   "outputs": [],
   "source": [
    "book_author_vc = books.book_author.value_counts()\n",
    "etc_author = book_author_vc.where(book_author_vc < 15).dropna().index\n",
    "many_author = book_author_vc.where(book_author_vc >= 15).dropna().index\n",
    "\n",
    "v = len(books.book_author.unique()) - len(etc_author)\n",
    "\n",
    "author2etc = {author:v+1 for author in etc_author}\n",
    "author2many = {author:idx  for idx, author in enumerate(many_author)}\n",
    "author2etc.update(author2many)\n",
    "\n",
    "books.book_author = books.book_author.map(author2etc)"
   ]
  },
  {
   "cell_type": "markdown",
   "metadata": {},
   "source": [
    "year_of_publication 변수 카테고리화  \n",
    "1376~ 2006년 사이 출판"
   ]
  },
  {
   "cell_type": "code",
   "execution_count": 183,
   "metadata": {},
   "outputs": [
    {
     "data": {
      "text/plain": [
       "Float64Index([1376.0, 1378.0, 1806.0, 1900.0, 1901.0, 1902.0, 1904.0, 1906.0,\n",
       "              1908.0, 1911.0, 1920.0, 1923.0, 1924.0, 1925.0, 1926.0, 1927.0,\n",
       "              1928.0, 1929.0, 1930.0, 1931.0, 1932.0, 1933.0, 1934.0, 1935.0,\n",
       "              1936.0, 1937.0, 1938.0, 1939.0, 1940.0, 1941.0, 1942.0, 1943.0,\n",
       "              1944.0, 1945.0, 1946.0, 1947.0, 1948.0, 1949.0, 1950.0, 1951.0,\n",
       "              1952.0, 1953.0, 1954.0, 1955.0, 1956.0, 1957.0, 1958.0, 1959.0,\n",
       "              1960.0, 1961.0, 1962.0, 1963.0, 1964.0, 1965.0, 1966.0, 1967.0,\n",
       "              1968.0, 1969.0, 1970.0, 1971.0, 1972.0, 1973.0, 1974.0, 1975.0,\n",
       "              1976.0, 1977.0, 1978.0, 1979.0, 1980.0, 1981.0, 1982.0, 1983.0,\n",
       "              1984.0, 1985.0, 1986.0, 1987.0, 1988.0, 1989.0, 1990.0, 1991.0,\n",
       "              1992.0, 1993.0, 1994.0, 1995.0, 1996.0, 1997.0, 1998.0, 1999.0,\n",
       "              2000.0, 2001.0, 2002.0, 2003.0, 2004.0, 2005.0, 2006.0],\n",
       "             dtype='float64')"
      ]
     },
     "execution_count": 183,
     "metadata": {},
     "output_type": "execute_result"
    }
   ],
   "source": [
    "books.year_of_publication.value_counts().index.sort_values()"
   ]
  },
  {
   "cell_type": "code",
   "execution_count": 184,
   "metadata": {},
   "outputs": [],
   "source": [
    "def publish_map(x: int) -> int:\n",
    "    x = int(x)\n",
    "    if x < 1940:\n",
    "        return 1\n",
    "    elif x >= 1940 and x < 1950:\n",
    "        return 2\n",
    "    elif x >= 1950 and x < 1960:\n",
    "        return 3\n",
    "    elif x >= 1960 and x < 1970:\n",
    "        return 4\n",
    "    elif x >= 1970 and x < 1980:\n",
    "        return 5\n",
    "    elif x >= 1980 and x < 1990:\n",
    "        return 6\n",
    "    elif x >= 1990 and x < 2000:\n",
    "        return 7\n",
    "    else:\n",
    "        return 8"
   ]
  },
  {
   "cell_type": "code",
   "execution_count": 185,
   "metadata": {},
   "outputs": [],
   "source": [
    "books.year_of_publication = books.year_of_publication.apply(publish_map)"
   ]
  },
  {
   "cell_type": "markdown",
   "metadata": {},
   "source": [
    "### publisher 처리"
   ]
  },
  {
   "cell_type": "code",
   "execution_count": 186,
   "metadata": {},
   "outputs": [],
   "source": [
    "books_publisher_vc = books.publisher.value_counts()\n",
    "etc_publisher = books_publisher_vc.where(books_publisher_vc < 20).dropna().index\n",
    "many_publisher = books_publisher_vc.where(books_publisher_vc >= 20).dropna().index\n",
    "\n",
    "v = len(books.publisher.unique()) - len(etc_publisher)\n",
    "publisher2etc = {publisher:v+1 for publisher in etc_publisher}\n",
    "publisher2many = {publisher:idx for idx, publisher in enumerate(many_publisher)}\n",
    "publisher2etc.update(publisher2many)\n",
    "\n",
    "books.publisher = books.publisher.map(publisher2etc)"
   ]
  },
  {
   "cell_type": "markdown",
   "metadata": {},
   "source": [
    "### category 처리"
   ]
  },
  {
   "cell_type": "code",
   "execution_count": 198,
   "metadata": {},
   "outputs": [],
   "source": [
    "books_category_vc = books.category.value_counts()\n",
    "etc_category = books_category_vc.where(books_category_vc < 10).dropna().index\n",
    "many_category = books_category_vc.where(books_category_vc >= 10).dropna().index\n",
    "\n",
    "v = len(books.category.unique()) - len(etc_category)\n",
    "category2etc =     {category:v+1 for category in etc_category}\n",
    "category2many =    {category:idx for idx, category in enumerate(many_category)}\n",
    "category2etc.update(category2many)\n",
    "\n",
    "books.category = books.category.map(category2etc)\n",
    "books = books.fillna(-1)"
   ]
  },
  {
   "cell_type": "markdown",
   "metadata": {},
   "source": [
    "### language 처리"
   ]
  },
  {
   "cell_type": "code",
   "execution_count": 219,
   "metadata": {},
   "outputs": [],
   "source": [
    "books_language_vc =  books.language.value_counts()\n",
    "etc_lang = books_language_vc.where(books_language_vc < 100).dropna().index\n",
    "many_lang = books_language_vc.where(books_language_vc >= 100).dropna().index\n",
    "\n",
    "v = len(books.language.unique()) - len(etc_lang)\n",
    "lang2etc =     {lang:v+1 for lang in etc_lang}\n",
    "lang2many =    {lang:idx for idx, lang in enumerate(many_lang)}\n",
    "lang2etc.update(lang2many)\n",
    "\n",
    "books.language = books.language.map(lang2etc)"
   ]
  },
  {
   "cell_type": "markdown",
   "metadata": {},
   "source": [
    "## 저장"
   ]
  },
  {
   "cell_type": "code",
   "execution_count": 223,
   "metadata": {},
   "outputs": [],
   "source": [
    "users.to_csv('cate_users.csv', index=None)\n",
    "books.to_csv('cate_books.csv', index=None)"
   ]
  },
  {
   "cell_type": "markdown",
   "metadata": {},
   "source": [
    "# 전체 카테고리 변수에 대해 일괄적인 threshold 값 적용 exp"
   ]
  },
  {
   "cell_type": "code",
   "execution_count": null,
   "metadata": {},
   "outputs": [],
   "source": [
    "def get_core(x):\n",
    "        if x in l:\n",
    "            return\n",
    "        else:\n",
    "            return 'others'"
   ]
  },
  {
   "cell_type": "code",
   "execution_count": null,
   "metadata": {},
   "outputs": [],
   "source": [
    "THRESHOLD = 120\n",
    "\n",
    "books_cate_col = ['category', 'language','publisher','book_author']\n",
    "for col in books_cate_col:\n",
    "\n",
    "    l = list(books[col].value_counts().where(books[col].value_counts() >= THRESHOLD).dropna().index)\n",
    "    books[col] = books[col].apply(get_core)"
   ]
  },
  {
   "cell_type": "code",
   "execution_count": null,
   "metadata": {},
   "outputs": [],
   "source": [
    "users_cate_col = ['location_country']\n",
    "for col in users_cate_col:\n",
    "    l = list(users[col].value_counts().where(users[col].value_counts() >= THRESHOLD).index)\n",
    "    users[col] = users[col].apply(get_core)"
   ]
  },
  {
   "cell_type": "markdown",
   "metadata": {},
   "source": [
    "# 결론"
   ]
  },
  {
   "cell_type": "markdown",
   "metadata": {},
   "source": [
    "FM으로 성능을 실험한 결과 일괄적인 Threshold를 적용했을 때 더 좋은 성능을 보여줬다."
   ]
  }
 ],
 "metadata": {
  "kernelspec": {
   "display_name": "Python 3.10.6",
   "language": "python",
   "name": "python3"
  },
  "language_info": {
   "codemirror_mode": {
    "name": "ipython",
    "version": 3
   },
   "file_extension": ".py",
   "mimetype": "text/x-python",
   "name": "python",
   "nbconvert_exporter": "python",
   "pygments_lexer": "ipython3",
   "version": "3.10.6"
  },
  "orig_nbformat": 4,
  "vscode": {
   "interpreter": {
    "hash": "588a98f76d4c2c93b01931c289ccd1e8fa21bd7260ee0f2302c5d44e9f9df08a"
   }
  }
 },
 "nbformat": 4,
 "nbformat_minor": 2
}
