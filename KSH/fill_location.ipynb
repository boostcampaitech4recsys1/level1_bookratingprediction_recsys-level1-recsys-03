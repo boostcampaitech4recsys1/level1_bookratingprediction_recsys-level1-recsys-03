{
 "cells": [
  {
   "cell_type": "markdown",
   "metadata": {},
   "source": [
    "# Fill Location\n",
    "---\n",
    "user 데이터의 변수들 중, location 변수의 null 값을 처리하는 코드이다.\n",
    "\n",
    "아래 알고리즘과 같이 값을 채우려 한다.\n",
    "\n",
    "```python\n",
    "for user in user_list:\n",
    "    if country is null:\n",
    "        ref (same city user)\n",
    "\n",
    "    if state is null:\n",
    "        ref (same country & city user)\n",
    "```"
   ]
  },
  {
   "cell_type": "code",
   "execution_count": 2,
   "metadata": {},
   "outputs": [],
   "source": [
    "import pandas as pd\n",
    "import numpy as np"
   ]
  },
  {
   "cell_type": "code",
   "execution_count": 3,
   "metadata": {},
   "outputs": [],
   "source": [
    "users = pd.read_csv('data/users_f_location.csv')\n",
    "ratings_train = pd.read_csv('data/train_ratings.csv')\n",
    "ratings_test = pd.read_csv('data/test_ratings.csv')\n",
    "ratings = pd.concat([ratings_train, ratings_test], axis=0)\n",
    "\n",
    "del ratings_test, ratings_train"
   ]
  },
  {
   "cell_type": "markdown",
   "metadata": {},
   "source": [
    "# location이 모두 null인 유저\n",
    "---"
   ]
  },
  {
   "cell_type": "code",
   "execution_count": 4,
   "metadata": {},
   "outputs": [
    {
     "data": {
      "text/html": [
       "<div>\n",
       "<style scoped>\n",
       "    .dataframe tbody tr th:only-of-type {\n",
       "        vertical-align: middle;\n",
       "    }\n",
       "\n",
       "    .dataframe tbody tr th {\n",
       "        vertical-align: top;\n",
       "    }\n",
       "\n",
       "    .dataframe thead th {\n",
       "        text-align: right;\n",
       "    }\n",
       "</style>\n",
       "<table border=\"1\" class=\"dataframe\">\n",
       "  <thead>\n",
       "    <tr style=\"text-align: right;\">\n",
       "      <th></th>\n",
       "      <th>user_id</th>\n",
       "      <th>age</th>\n",
       "      <th>location_city</th>\n",
       "      <th>location_state</th>\n",
       "      <th>location_country</th>\n",
       "    </tr>\n",
       "  </thead>\n",
       "  <tbody>\n",
       "    <tr>\n",
       "      <th>2</th>\n",
       "      <td>11676</td>\n",
       "      <td>NaN</td>\n",
       "      <td>NaN</td>\n",
       "      <td>NaN</td>\n",
       "      <td>NaN</td>\n",
       "    </tr>\n",
       "    <tr>\n",
       "      <th>1679</th>\n",
       "      <td>146804</td>\n",
       "      <td>NaN</td>\n",
       "      <td>NaN</td>\n",
       "      <td>NaN</td>\n",
       "      <td>NaN</td>\n",
       "    </tr>\n",
       "    <tr>\n",
       "      <th>7760</th>\n",
       "      <td>70063</td>\n",
       "      <td>NaN</td>\n",
       "      <td>NaN</td>\n",
       "      <td>NaN</td>\n",
       "      <td>NaN</td>\n",
       "    </tr>\n",
       "    <tr>\n",
       "      <th>8634</th>\n",
       "      <td>112345</td>\n",
       "      <td>39.0</td>\n",
       "      <td>NaN</td>\n",
       "      <td>NaN</td>\n",
       "      <td>NaN</td>\n",
       "    </tr>\n",
       "    <tr>\n",
       "      <th>38772</th>\n",
       "      <td>156948</td>\n",
       "      <td>NaN</td>\n",
       "      <td>NaN</td>\n",
       "      <td>NaN</td>\n",
       "      <td>NaN</td>\n",
       "    </tr>\n",
       "    <tr>\n",
       "      <th>48206</th>\n",
       "      <td>169489</td>\n",
       "      <td>NaN</td>\n",
       "      <td>NaN</td>\n",
       "      <td>NaN</td>\n",
       "      <td>NaN</td>\n",
       "    </tr>\n",
       "    <tr>\n",
       "      <th>58435</th>\n",
       "      <td>56072</td>\n",
       "      <td>NaN</td>\n",
       "      <td>NaN</td>\n",
       "      <td>NaN</td>\n",
       "      <td>NaN</td>\n",
       "    </tr>\n",
       "    <tr>\n",
       "      <th>60682</th>\n",
       "      <td>64582</td>\n",
       "      <td>30.0</td>\n",
       "      <td>NaN</td>\n",
       "      <td>NaN</td>\n",
       "      <td>NaN</td>\n",
       "    </tr>\n",
       "    <tr>\n",
       "      <th>67104</th>\n",
       "      <td>218092</td>\n",
       "      <td>NaN</td>\n",
       "      <td>NaN</td>\n",
       "      <td>NaN</td>\n",
       "      <td>NaN</td>\n",
       "    </tr>\n",
       "  </tbody>\n",
       "</table>\n",
       "</div>"
      ],
      "text/plain": [
       "       user_id   age location_city location_state location_country\n",
       "2        11676   NaN           NaN            NaN              NaN\n",
       "1679    146804   NaN           NaN            NaN              NaN\n",
       "7760     70063   NaN           NaN            NaN              NaN\n",
       "8634    112345  39.0           NaN            NaN              NaN\n",
       "38772   156948   NaN           NaN            NaN              NaN\n",
       "48206   169489   NaN           NaN            NaN              NaN\n",
       "58435    56072   NaN           NaN            NaN              NaN\n",
       "60682    64582  30.0           NaN            NaN              NaN\n",
       "67104   218092   NaN           NaN            NaN              NaN"
      ]
     },
     "execution_count": 4,
     "metadata": {},
     "output_type": "execute_result"
    }
   ],
   "source": [
    "users[users.location_city.isna() &\n",
    "      users.location_country.isna() &\n",
    "      users.location_state.isna()]\n",
    "      "
   ]
  },
  {
   "cell_type": "code",
   "execution_count": 5,
   "metadata": {},
   "outputs": [
    {
     "data": {
      "text/plain": [
       "11676     6939\n",
       "146804       7\n",
       "70063        5\n",
       "156948       1\n",
       "56072        1\n",
       "64582        1\n",
       "218092       1\n",
       "112345       1\n",
       "169489       1\n",
       "Name: user_id, dtype: int64"
      ]
     },
     "execution_count": 5,
     "metadata": {},
     "output_type": "execute_result"
    }
   ],
   "source": [
    "null_user = users[users.location_city.isna() &\n",
    "      users.location_country.isna() &\n",
    "      users.location_state.isna()].user_id.values\n",
    "\n",
    "ratings.query('user_id in @null_user').user_id.value_counts()\n",
    "      "
   ]
  },
  {
   "cell_type": "markdown",
   "metadata": {},
   "source": [
    "location 정보가 모두 null인 유저 중, user_id가 11676인 사람은 rating 기록이 6939개 가량 있음.\n"
   ]
  },
  {
   "cell_type": "markdown",
   "metadata": {},
   "source": [
    "# location 정보 채우기\n",
    "---\n",
    "pseudo algorithm:\n"
   ]
  },
  {
   "cell_type": "markdown",
   "metadata": {},
   "source": [
    "### 모두 null인 유저 제거"
   ]
  },
  {
   "cell_type": "code",
   "execution_count": 6,
   "metadata": {},
   "outputs": [],
   "source": [
    "# 제거하기전 저장\n",
    "all_null = users[users.location_city.isna() &\n",
    "      users.location_country.isna() &\n",
    "      users.location_state.isna()]"
   ]
  },
  {
   "cell_type": "code",
   "execution_count": 7,
   "metadata": {},
   "outputs": [],
   "source": [
    "# 모두 null인 유저 제거\n",
    "users = users.drop(all_null.index, axis=0)"
   ]
  },
  {
   "cell_type": "markdown",
   "metadata": {},
   "source": [
    "## country가 null인 경우 채우기"
   ]
  },
  {
   "cell_type": "code",
   "execution_count": 8,
   "metadata": {},
   "outputs": [
    {
     "name": "stdout",
     "output_type": "stream",
     "text": [
      "93\n"
     ]
    }
   ],
   "source": [
    "country_null_v = users[users.location_country.isna() & \n",
    "      users.location_state.notna() &\n",
    "      users.location_city.notna()\n",
    "].location_city.values\n",
    "\n",
    "print(len(country_null_v))"
   ]
  },
  {
   "cell_type": "code",
   "execution_count": 9,
   "metadata": {},
   "outputs": [],
   "source": [
    "for city in country_null_v:\n",
    "    if len(users.query('location_city == @city')) == 1:\n",
    "        # null 값인 데이터가 유일한 경우(참조할 수 있는 다른 값이 없음)\n",
    "        continue\n",
    "    \n",
    "    mode_value = users.query('location_city == @city').location_country.mode()\n",
    "    if len(mode_value.values) == 0:\n",
    "        # 유일하진 않지만 null 값인 데이터만 있는 경우(참조할 수 있는 다른 값이 없음)\n",
    "        continue\n",
    "    null_df_idx = users.query('location_city == @city').location_country.isna().index\n",
    "\n",
    "    for idx in null_df_idx:\n",
    "        users.loc[idx, 'location_country'] = mode_value.values[0]"
   ]
  },
  {
   "cell_type": "code",
   "execution_count": 10,
   "metadata": {},
   "outputs": [
    {
     "data": {
      "text/plain": [
       "53"
      ]
     },
     "execution_count": 10,
     "metadata": {},
     "output_type": "execute_result"
    }
   ],
   "source": [
    "country_null_v = users[users.location_country.isna() & \n",
    "      users.location_state.notna() &\n",
    "      users.location_city.notna()\n",
    "].location_city.values\n",
    "\n",
    "len(country_null_v)"
   ]
  },
  {
   "cell_type": "markdown",
   "metadata": {},
   "source": [
    "null 값 개수 93 -> 53"
   ]
  },
  {
   "cell_type": "markdown",
   "metadata": {},
   "source": [
    "## state 채우기"
   ]
  },
  {
   "cell_type": "code",
   "execution_count": 11,
   "metadata": {},
   "outputs": [
    {
     "name": "stdout",
     "output_type": "stream",
     "text": [
      "926\n"
     ]
    }
   ],
   "source": [
    "state_null_v = users[users.location_country.notna() & \n",
    "      users.location_state.isna() &\n",
    "      users.location_city.notna()\n",
    "].loc[:, ['location_city', 'location_country']].values\n",
    "\n",
    "print(len(state_null_v))"
   ]
  },
  {
   "cell_type": "code",
   "execution_count": 12,
   "metadata": {},
   "outputs": [],
   "source": [
    "for city, country in state_null_v:\n",
    "    if len(users.query('location_city == @city and location_country == @country')) == 1:\n",
    "        # null 값인 데이터가 유일한 경우(참조할 수 있는 다른 값이 없음)\n",
    "        continue\n",
    "    \n",
    "    mode_value = users.query('location_city == @city and location_country == @country').location_state.mode()\n",
    "    if len(mode_value.values) == 0:\n",
    "        # 유일하진 않지만 null 값인 데이터만 있는 경우(참조할 수 있는 다른 값이 없음)\n",
    "        continue\n",
    "    \n",
    "    null_df_idx = users.query('location_city == @city and location_country == @country').location_state.isna().index\n",
    "\n",
    "    for idx in null_df_idx:\n",
    "        users.loc[idx, 'location_state'] = mode_value.values[0]"
   ]
  },
  {
   "cell_type": "code",
   "execution_count": 13,
   "metadata": {},
   "outputs": [
    {
     "name": "stdout",
     "output_type": "stream",
     "text": [
      "352\n"
     ]
    }
   ],
   "source": [
    "state_null_v = users[users.location_country.notna() & \n",
    "      users.location_state.isna() &\n",
    "      users.location_city.notna()\n",
    "].loc[:, ['location_city', 'location_country']].values\n",
    "\n",
    "print(len(state_null_v))"
   ]
  },
  {
   "cell_type": "markdown",
   "metadata": {},
   "source": [
    "null 값 개수 962 -> 352"
   ]
  },
  {
   "cell_type": "markdown",
   "metadata": {},
   "source": [
    "## 최종 null value 정리"
   ]
  },
  {
   "cell_type": "code",
   "execution_count": 14,
   "metadata": {},
   "outputs": [],
   "source": [
    "# 기존에 빼뒀던 location이 모두 null인 user 다시 Concat\n",
    "users = pd.concat([users, all_null], axis=0)"
   ]
  },
  {
   "cell_type": "code",
   "execution_count": 15,
   "metadata": {},
   "outputs": [
    {
     "data": {
      "text/html": [
       "<div>\n",
       "<style scoped>\n",
       "    .dataframe tbody tr th:only-of-type {\n",
       "        vertical-align: middle;\n",
       "    }\n",
       "\n",
       "    .dataframe tbody tr th {\n",
       "        vertical-align: top;\n",
       "    }\n",
       "\n",
       "    .dataframe thead th {\n",
       "        text-align: right;\n",
       "    }\n",
       "</style>\n",
       "<table border=\"1\" class=\"dataframe\">\n",
       "  <thead>\n",
       "    <tr style=\"text-align: right;\">\n",
       "      <th></th>\n",
       "      <th>user_id</th>\n",
       "      <th>age</th>\n",
       "      <th>location_city</th>\n",
       "      <th>location_state</th>\n",
       "      <th>location_country</th>\n",
       "    </tr>\n",
       "  </thead>\n",
       "  <tbody>\n",
       "    <tr>\n",
       "      <th>633</th>\n",
       "      <td>271622</td>\n",
       "      <td>NaN</td>\n",
       "      <td>malmok</td>\n",
       "      <td>NaN</td>\n",
       "      <td>aruba</td>\n",
       "    </tr>\n",
       "    <tr>\n",
       "      <th>1008</th>\n",
       "      <td>48630</td>\n",
       "      <td>34.0</td>\n",
       "      <td>NaN</td>\n",
       "      <td>newjersey</td>\n",
       "      <td>usa</td>\n",
       "    </tr>\n",
       "    <tr>\n",
       "      <th>1012</th>\n",
       "      <td>49460</td>\n",
       "      <td>37.0</td>\n",
       "      <td>NaN</td>\n",
       "      <td>kansas</td>\n",
       "      <td>usa</td>\n",
       "    </tr>\n",
       "    <tr>\n",
       "      <th>1065</th>\n",
       "      <td>56399</td>\n",
       "      <td>63.0</td>\n",
       "      <td>NaN</td>\n",
       "      <td>surrey</td>\n",
       "      <td>unitedkingdom</td>\n",
       "    </tr>\n",
       "    <tr>\n",
       "      <th>1086</th>\n",
       "      <td>59756</td>\n",
       "      <td>25.0</td>\n",
       "      <td>belgrade</td>\n",
       "      <td>NaN</td>\n",
       "      <td>yugoslavia</td>\n",
       "    </tr>\n",
       "    <tr>\n",
       "      <th>...</th>\n",
       "      <td>...</td>\n",
       "      <td>...</td>\n",
       "      <td>...</td>\n",
       "      <td>...</td>\n",
       "      <td>...</td>\n",
       "    </tr>\n",
       "    <tr>\n",
       "      <th>38772</th>\n",
       "      <td>156948</td>\n",
       "      <td>NaN</td>\n",
       "      <td>NaN</td>\n",
       "      <td>NaN</td>\n",
       "      <td>NaN</td>\n",
       "    </tr>\n",
       "    <tr>\n",
       "      <th>48206</th>\n",
       "      <td>169489</td>\n",
       "      <td>NaN</td>\n",
       "      <td>NaN</td>\n",
       "      <td>NaN</td>\n",
       "      <td>NaN</td>\n",
       "    </tr>\n",
       "    <tr>\n",
       "      <th>58435</th>\n",
       "      <td>56072</td>\n",
       "      <td>NaN</td>\n",
       "      <td>NaN</td>\n",
       "      <td>NaN</td>\n",
       "      <td>NaN</td>\n",
       "    </tr>\n",
       "    <tr>\n",
       "      <th>60682</th>\n",
       "      <td>64582</td>\n",
       "      <td>30.0</td>\n",
       "      <td>NaN</td>\n",
       "      <td>NaN</td>\n",
       "      <td>NaN</td>\n",
       "    </tr>\n",
       "    <tr>\n",
       "      <th>67104</th>\n",
       "      <td>218092</td>\n",
       "      <td>NaN</td>\n",
       "      <td>NaN</td>\n",
       "      <td>NaN</td>\n",
       "      <td>NaN</td>\n",
       "    </tr>\n",
       "  </tbody>\n",
       "</table>\n",
       "<p>678 rows × 5 columns</p>\n",
       "</div>"
      ],
      "text/plain": [
       "       user_id   age location_city location_state location_country\n",
       "633     271622   NaN        malmok            NaN            aruba\n",
       "1008     48630  34.0           NaN      newjersey              usa\n",
       "1012     49460  37.0           NaN         kansas              usa\n",
       "1065     56399  63.0           NaN         surrey    unitedkingdom\n",
       "1086     59756  25.0      belgrade            NaN       yugoslavia\n",
       "...        ...   ...           ...            ...              ...\n",
       "38772   156948   NaN           NaN            NaN              NaN\n",
       "48206   169489   NaN           NaN            NaN              NaN\n",
       "58435    56072   NaN           NaN            NaN              NaN\n",
       "60682    64582  30.0           NaN            NaN              NaN\n",
       "67104   218092   NaN           NaN            NaN              NaN\n",
       "\n",
       "[678 rows x 5 columns]"
      ]
     },
     "execution_count": 15,
     "metadata": {},
     "output_type": "execute_result"
    }
   ],
   "source": [
    "users[users.location_state.isna() |\n",
    "      users.location_city.isna() |\n",
    "      users.location_country.isna()]"
   ]
  },
  {
   "cell_type": "code",
   "execution_count": 16,
   "metadata": {},
   "outputs": [
    {
     "data": {
      "text/plain": [
       "0.009957116841919756"
      ]
     },
     "execution_count": 16,
     "metadata": {},
     "output_type": "execute_result"
    }
   ],
   "source": [
    "(len(users[users.location_state.isna() |\n",
    "      users.location_city.isna() |\n",
    "      users.location_country.isna()]\n",
    ") / len(users))"
   ]
  },
  {
   "cell_type": "markdown",
   "metadata": {},
   "source": [
    "location에서 하나라도 비어있는 값의 개수는 678, 약 1%"
   ]
  },
  {
   "cell_type": "code",
   "execution_count": 17,
   "metadata": {},
   "outputs": [],
   "source": [
    "users.to_csv('users_f_location_1.1.csv', index=None)"
   ]
  }
 ],
 "metadata": {
  "kernelspec": {
   "display_name": "Python 3.6.9 64-bit",
   "language": "python",
   "name": "python3"
  },
  "language_info": {
   "codemirror_mode": {
    "name": "ipython",
    "version": 3
   },
   "file_extension": ".py",
   "mimetype": "text/x-python",
   "name": "python",
   "nbconvert_exporter": "python",
   "pygments_lexer": "ipython3",
   "version": "3.6.9"
  },
  "orig_nbformat": 4,
  "vscode": {
   "interpreter": {
    "hash": "31f2aee4e71d21fbe5cf8b01ff0e069b9275f58929596ceb00d14d90e3e16cd6"
   }
  }
 },
 "nbformat": 4,
 "nbformat_minor": 2
}
