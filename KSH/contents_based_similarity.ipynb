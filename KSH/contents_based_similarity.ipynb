{
 "cells": [
  {
   "cell_type": "markdown",
   "metadata": {},
   "source": [
    "# User Based Filtering with Similarity\n",
    "---\n",
    "\n",
    "모델 기반으로 평점을 예측할 때, cold start 문제에 대해 정확도가 낮음을 확인했다.\n",
    "\n",
    "이를 개선하기 위해 user 기반으로 유사도를 측정해 평점을 예측해보고자 한다.\n",
    "\n",
    "카디널리티를 조정하지 않은 데이터를 사용해서 측정한다."
   ]
  },
  {
   "cell_type": "code",
   "execution_count": 1,
   "metadata": {},
   "outputs": [],
   "source": [
    "import pandas as pd\n",
    "import numpy as np"
   ]
  },
  {
   "cell_type": "code",
   "execution_count": 2,
   "metadata": {},
   "outputs": [],
   "source": [
    "# Load & Shape\n",
    "books = pd.read_csv('data/books_1.0.csv')\n",
    "users = pd.read_csv('data/users_f_location_1.1.csv')\n",
    "\n",
    "ratings = pd.read_csv('data/train_ratings.csv')"
   ]
  },
  {
   "cell_type": "markdown",
   "metadata": {},
   "source": [
    "# user 데이터 전처리"
   ]
  },
  {
   "cell_type": "markdown",
   "metadata": {},
   "source": [
    "### user `age` 카테고리화"
   ]
  },
  {
   "cell_type": "code",
   "execution_count": 3,
   "metadata": {},
   "outputs": [],
   "source": [
    "def age_map(x: int) -> int:\n",
    "    x = int(x)\n",
    "    if x < 20:\n",
    "        return 1\n",
    "    elif x >= 20 and x < 30:\n",
    "        return 2\n",
    "    elif x >= 30 and x < 40:\n",
    "        return 3\n",
    "    elif x >= 40 and x < 50:\n",
    "        return 4\n",
    "    elif x >= 50 and x < 60:\n",
    "        return 5\n",
    "    else:\n",
    "        return 6"
   ]
  },
  {
   "cell_type": "code",
   "execution_count": 4,
   "metadata": {},
   "outputs": [],
   "source": [
    "users.age = users.age.fillna(users.age.mean())\n",
    "users.age = users.age.apply(age_map)"
   ]
  },
  {
   "cell_type": "markdown",
   "metadata": {},
   "source": [
    "`location` 변수 null 값 대치"
   ]
  },
  {
   "cell_type": "code",
   "execution_count": 5,
   "metadata": {},
   "outputs": [],
   "source": [
    "users = users.fillna('other')"
   ]
  },
  {
   "cell_type": "code",
   "execution_count": 6,
   "metadata": {},
   "outputs": [
    {
     "data": {
      "text/html": [
       "<div>\n",
       "<style scoped>\n",
       "    .dataframe tbody tr th:only-of-type {\n",
       "        vertical-align: middle;\n",
       "    }\n",
       "\n",
       "    .dataframe tbody tr th {\n",
       "        vertical-align: top;\n",
       "    }\n",
       "\n",
       "    .dataframe thead th {\n",
       "        text-align: right;\n",
       "    }\n",
       "</style>\n",
       "<table border=\"1\" class=\"dataframe\">\n",
       "  <thead>\n",
       "    <tr style=\"text-align: right;\">\n",
       "      <th></th>\n",
       "      <th>user_id</th>\n",
       "      <th>age</th>\n",
       "      <th>location_city</th>\n",
       "      <th>location_state</th>\n",
       "      <th>location_country</th>\n",
       "    </tr>\n",
       "  </thead>\n",
       "  <tbody>\n",
       "    <tr>\n",
       "      <th>0</th>\n",
       "      <td>8</td>\n",
       "      <td>3</td>\n",
       "      <td>10628</td>\n",
       "      <td>800</td>\n",
       "      <td>46</td>\n",
       "    </tr>\n",
       "    <tr>\n",
       "      <th>1</th>\n",
       "      <td>11400</td>\n",
       "      <td>4</td>\n",
       "      <td>7912</td>\n",
       "      <td>800</td>\n",
       "      <td>46</td>\n",
       "    </tr>\n",
       "    <tr>\n",
       "      <th>2</th>\n",
       "      <td>67544</td>\n",
       "      <td>3</td>\n",
       "      <td>10686</td>\n",
       "      <td>800</td>\n",
       "      <td>46</td>\n",
       "    </tr>\n",
       "    <tr>\n",
       "      <th>3</th>\n",
       "      <td>85526</td>\n",
       "      <td>3</td>\n",
       "      <td>11061</td>\n",
       "      <td>163</td>\n",
       "      <td>46</td>\n",
       "    </tr>\n",
       "    <tr>\n",
       "      <th>4</th>\n",
       "      <td>96054</td>\n",
       "      <td>2</td>\n",
       "      <td>7912</td>\n",
       "      <td>800</td>\n",
       "      <td>46</td>\n",
       "    </tr>\n",
       "    <tr>\n",
       "      <th>...</th>\n",
       "      <td>...</td>\n",
       "      <td>...</td>\n",
       "      <td>...</td>\n",
       "      <td>...</td>\n",
       "      <td>...</td>\n",
       "    </tr>\n",
       "    <tr>\n",
       "      <th>68087</th>\n",
       "      <td>156948</td>\n",
       "      <td>3</td>\n",
       "      <td>7907</td>\n",
       "      <td>812</td>\n",
       "      <td>179</td>\n",
       "    </tr>\n",
       "    <tr>\n",
       "      <th>68088</th>\n",
       "      <td>169489</td>\n",
       "      <td>3</td>\n",
       "      <td>7907</td>\n",
       "      <td>812</td>\n",
       "      <td>179</td>\n",
       "    </tr>\n",
       "    <tr>\n",
       "      <th>68089</th>\n",
       "      <td>56072</td>\n",
       "      <td>3</td>\n",
       "      <td>7907</td>\n",
       "      <td>812</td>\n",
       "      <td>179</td>\n",
       "    </tr>\n",
       "    <tr>\n",
       "      <th>68090</th>\n",
       "      <td>64582</td>\n",
       "      <td>3</td>\n",
       "      <td>7907</td>\n",
       "      <td>812</td>\n",
       "      <td>179</td>\n",
       "    </tr>\n",
       "    <tr>\n",
       "      <th>68091</th>\n",
       "      <td>218092</td>\n",
       "      <td>3</td>\n",
       "      <td>7907</td>\n",
       "      <td>812</td>\n",
       "      <td>179</td>\n",
       "    </tr>\n",
       "  </tbody>\n",
       "</table>\n",
       "<p>68092 rows × 5 columns</p>\n",
       "</div>"
      ],
      "text/plain": [
       "       user_id  age  location_city  location_state  location_country\n",
       "0            8    3          10628             800                46\n",
       "1        11400    4           7912             800                46\n",
       "2        67544    3          10686             800                46\n",
       "3        85526    3          11061             163                46\n",
       "4        96054    2           7912             800                46\n",
       "...        ...  ...            ...             ...               ...\n",
       "68087   156948    3           7907             812               179\n",
       "68088   169489    3           7907             812               179\n",
       "68089    56072    3           7907             812               179\n",
       "68090    64582    3           7907             812               179\n",
       "68091   218092    3           7907             812               179\n",
       "\n",
       "[68092 rows x 5 columns]"
      ]
     },
     "execution_count": 6,
     "metadata": {},
     "output_type": "execute_result"
    }
   ],
   "source": [
    "from sklearn.preprocessing import OneHotEncoder\n",
    "from sklearn.preprocessing import LabelEncoder\n",
    "\n",
    "for col in ['location_city','location_state','location_country']:\n",
    "    le = LabelEncoder()\n",
    "    users[col] = le.fit_transform(users[col])\n",
    "    \n",
    "users"
   ]
  },
  {
   "cell_type": "markdown",
   "metadata": {},
   "source": [
    "## 유저 클러스터링"
   ]
  },
  {
   "cell_type": "markdown",
   "metadata": {},
   "source": [
    "elbow method로 최적의 클러스터 개수 찾기"
   ]
  },
  {
   "cell_type": "code",
   "execution_count": null,
   "metadata": {},
   "outputs": [],
   "source": [
    "from sklearn.cluster import KMeans\n",
    "import matplotlib.pyplot as plt\n",
    "%matplotlib inline \n",
    "\n",
    "distortions = []\n",
    "K = range(1,10)\n",
    "for k in K:\n",
    "    kmeanModel = KMeans(n_clusters=k)\n",
    "    kmeanModel.fit(users.drop('user_id', axis=1)) # user_id를 넣으면 군집이 user_id에 종속됨\n",
    "    distortions.append(kmeanModel.inertia_)\n",
    "    \n"
   ]
  },
  {
   "cell_type": "code",
   "execution_count": 9,
   "metadata": {},
   "outputs": [
    {
     "data": {
      "image/png": "[encoded data removed]",
      "text/plain": [
       "<Figure size 1600x800 with 1 Axes>"
      ]
     },
     "metadata": {},
     "output_type": "display_data"
    }
   ],
   "source": [
    "plt.figure(figsize=(16,8))\n",
    "plt.plot(K, distortions, 'bx-')\n",
    "plt.xlabel('k')\n",
    "plt.ylabel('Distortion')\n",
    "plt.title('The Elbow Method showing the optimal k')\n",
    "plt.show()"
   ]
  },
  {
   "cell_type": "code",
   "execution_count": 10,
   "metadata": {},
   "outputs": [
    {
     "data": {
      "text/plain": [
       "array([1, 1, 1, ..., 1, 1, 1], dtype=int32)"
      ]
     },
     "execution_count": 10,
     "metadata": {},
     "output_type": "execute_result"
    }
   ],
   "source": [
    "kmeans = KMeans(n_clusters=2, random_state=42)\n",
    "kmeans.fit_predict(users.drop('user_id', axis=1))\n"
   ]
  },
  {
   "cell_type": "code",
   "execution_count": 12,
   "metadata": {},
   "outputs": [],
   "source": [
    "from sklearn.metrics import silhouette_samples, silhouette_score\n",
    "\n",
    "score = silhouette_score(users.drop('user_id', axis=1), kmeans.labels_, metric='cosine')\n",
    "print(score)"
   ]
  },
  {
   "cell_type": "markdown",
   "metadata": {},
   "source": [
    "cosine: 0.02931663270172172  \n",
    "jaccard: -0.332741002660775  \n",
    "\n",
    "=> 각 군집별로 실루엣 점수를 계산한 결과 Cosine으로 유사도를 계산하는 것이 더 적합하다"
   ]
  },
  {
   "cell_type": "code",
   "execution_count": 13,
   "metadata": {},
   "outputs": [],
   "source": [
    "users['label'] = kmeans.labels_"
   ]
  },
  {
   "cell_type": "markdown",
   "metadata": {},
   "source": [
    "# user의 유사도 구하기"
   ]
  },
  {
   "cell_type": "code",
   "execution_count": 14,
   "metadata": {},
   "outputs": [],
   "source": [
    "zero_uid = users.query('label==0')['user_id'].values\n",
    "one_uid = users.query('label==1')['user_id'].values\n",
    "                       \n",
    "users = users.drop('user_id', axis=1)\n",
    "zero = users.query('label == 0').drop('label', axis=1)\n",
    "one = users.query('label == 1').drop('label', axis=1)"
   ]
  },
  {
   "cell_type": "code",
   "execution_count": 15,
   "metadata": {},
   "outputs": [
    {
     "data": {
      "text/html": [
       "<div>\n",
       "<style scoped>\n",
       "    .dataframe tbody tr th:only-of-type {\n",
       "        vertical-align: middle;\n",
       "    }\n",
       "\n",
       "    .dataframe tbody tr th {\n",
       "        vertical-align: top;\n",
       "    }\n",
       "\n",
       "    .dataframe thead th {\n",
       "        text-align: right;\n",
       "    }\n",
       "</style>\n",
       "<table border=\"1\" class=\"dataframe\">\n",
       "  <thead>\n",
       "    <tr style=\"text-align: right;\">\n",
       "      <th></th>\n",
       "      <th>age</th>\n",
       "      <th>location_city</th>\n",
       "      <th>location_state</th>\n",
       "      <th>location_country</th>\n",
       "    </tr>\n",
       "  </thead>\n",
       "  <tbody>\n",
       "    <tr>\n",
       "      <th>6</th>\n",
       "      <td>3</td>\n",
       "      <td>5360</td>\n",
       "      <td>800</td>\n",
       "      <td>46</td>\n",
       "    </tr>\n",
       "    <tr>\n",
       "      <th>8</th>\n",
       "      <td>3</td>\n",
       "      <td>2307</td>\n",
       "      <td>800</td>\n",
       "      <td>46</td>\n",
       "    </tr>\n",
       "    <tr>\n",
       "      <th>9</th>\n",
       "      <td>3</td>\n",
       "      <td>4229</td>\n",
       "      <td>800</td>\n",
       "      <td>46</td>\n",
       "    </tr>\n",
       "    <tr>\n",
       "      <th>10</th>\n",
       "      <td>6</td>\n",
       "      <td>4301</td>\n",
       "      <td>777</td>\n",
       "      <td>46</td>\n",
       "    </tr>\n",
       "    <tr>\n",
       "      <th>11</th>\n",
       "      <td>2</td>\n",
       "      <td>3666</td>\n",
       "      <td>716</td>\n",
       "      <td>46</td>\n",
       "    </tr>\n",
       "    <tr>\n",
       "      <th>...</th>\n",
       "      <td>...</td>\n",
       "      <td>...</td>\n",
       "      <td>...</td>\n",
       "      <td>...</td>\n",
       "    </tr>\n",
       "    <tr>\n",
       "      <th>68074</th>\n",
       "      <td>1</td>\n",
       "      <td>5696</td>\n",
       "      <td>358</td>\n",
       "      <td>245</td>\n",
       "    </tr>\n",
       "    <tr>\n",
       "      <th>68076</th>\n",
       "      <td>3</td>\n",
       "      <td>1533</td>\n",
       "      <td>800</td>\n",
       "      <td>46</td>\n",
       "    </tr>\n",
       "    <tr>\n",
       "      <th>68078</th>\n",
       "      <td>5</td>\n",
       "      <td>2609</td>\n",
       "      <td>184</td>\n",
       "      <td>245</td>\n",
       "    </tr>\n",
       "    <tr>\n",
       "      <th>68080</th>\n",
       "      <td>3</td>\n",
       "      <td>4981</td>\n",
       "      <td>21</td>\n",
       "      <td>245</td>\n",
       "    </tr>\n",
       "    <tr>\n",
       "      <th>68082</th>\n",
       "      <td>6</td>\n",
       "      <td>188</td>\n",
       "      <td>722</td>\n",
       "      <td>245</td>\n",
       "    </tr>\n",
       "  </tbody>\n",
       "</table>\n",
       "<p>30231 rows × 4 columns</p>\n",
       "</div>"
      ],
      "text/plain": [
       "       age  location_city  location_state  location_country\n",
       "6        3           5360             800                46\n",
       "8        3           2307             800                46\n",
       "9        3           4229             800                46\n",
       "10       6           4301             777                46\n",
       "11       2           3666             716                46\n",
       "...    ...            ...             ...               ...\n",
       "68074    1           5696             358               245\n",
       "68076    3           1533             800                46\n",
       "68078    5           2609             184               245\n",
       "68080    3           4981              21               245\n",
       "68082    6            188             722               245\n",
       "\n",
       "[30231 rows x 4 columns]"
      ]
     },
     "execution_count": 15,
     "metadata": {},
     "output_type": "execute_result"
    }
   ],
   "source": [
    "zero"
   ]
  },
  {
   "cell_type": "markdown",
   "metadata": {},
   "source": [
    "코사인 유사도를 계산하기 위해 각 변수를 임베딩"
   ]
  },
  {
   "cell_type": "code",
   "execution_count": 16,
   "metadata": {},
   "outputs": [],
   "source": [
    "from sklearn.feature_extraction import DictVectorizer\n",
    "vec = DictVectorizer()\n",
    "zero_vec = vec.fit_transform(zero.T.to_dict().values())\n",
    "\n",
    "one_vec = vec.fit_transform(one.T.to_dict().values())"
   ]
  },
  {
   "cell_type": "code",
   "execution_count": 17,
   "metadata": {},
   "outputs": [],
   "source": [
    "from sklearn.metrics.pairwise import cosine_similarity\n",
    "zero_cosine = cosine_similarity(zero_vec)\n",
    "one_cosine = cosine_similarity(one_vec)"
   ]
  },
  {
   "cell_type": "code",
   "execution_count": 18,
   "metadata": {},
   "outputs": [
    {
     "name": "stdout",
     "output_type": "stream",
     "text": [
      "(30231, 30231)\n",
      "(37861, 37861)\n",
      "30231\n",
      "37861\n"
     ]
    }
   ],
   "source": [
    "print(zero_cosine.shape)\n",
    "print(one_cosine.shape)\n",
    "print(len(zero_uid))\n",
    "print(len(one_uid))\n"
   ]
  },
  {
   "cell_type": "markdown",
   "metadata": {},
   "source": [
    "36003  \n",
    "49713\n",
    "\n",
    "adding bias?"
   ]
  },
  {
   "cell_type": "code",
   "execution_count": 21,
   "metadata": {},
   "outputs": [],
   "source": [
    "cold_id = ratings.user_id.value_counts().where(ratings.user_id.value_counts() == 1).dropna().index\n",
    "warm_id = ratings.user_id.value_counts().where(ratings.user_id.value_counts() == 5).dropna().index"
   ]
  },
  {
   "cell_type": "code",
   "execution_count": 59,
   "metadata": {},
   "outputs": [
    {
     "name": "stderr",
     "output_type": "stream",
     "text": [
      "100%|██████████| 34617/34617 [43:42<00:00, 13.20it/s]  \n"
     ]
    }
   ],
   "source": [
    "import random\n",
    "from tqdm import tqdm\n",
    "THRESHOLD = 0.7\n",
    "pred = []\n",
    "actu = []\n",
    "uid_rec = []\n",
    "for ra in tqdm(cold_id):\n",
    "    if ra in zero_uid:\n",
    "        result = UBCF(zero_uid, zero_cosine, ra)\n",
    "        l = result.user_id.values\n",
    "    else:\n",
    "        result = UBCF(one_uid, one_cosine, ra)\n",
    "        l = result.user_id.values\n",
    "\n",
    "\n",
    "    isbn_1 = ratings.query('user_id == @ra').isbn.values[0]\n",
    "    a = ratings.query('user_id in @l and isbn == @isbn_1').query('user_id != @ra')\n",
    "    if len(a) == 0:\n",
    "        continue\n",
    "    \n",
    "    b = 0\n",
    "    actual = ratings.query('user_id == @ra').rating.values[0]\n",
    "    for uid, r in a[['user_id', 'rating']].values:\n",
    "        weight = result.query('user_id == @uid').similarity.values[0]\n",
    "        b += r * weight\n",
    "\n",
    "    uid_rec.append(ra)\n",
    "    pred.append(b / len(a))\n",
    "    actu.append(actual)\n"
   ]
  },
  {
   "cell_type": "code",
   "execution_count": 66,
   "metadata": {},
   "outputs": [
    {
     "name": "stderr",
     "output_type": "stream",
     "text": [
      "100%|██████████| 18081/18081 [26:47<00:00, 11.25it/s] \n"
     ]
    }
   ],
   "source": [
    "import random\n",
    "from tqdm import tqdm\n",
    "THRESHOLD = 0.7\n",
    "pred_ctow = []\n",
    "actu_ctow = []\n",
    "uid_rec_ctow = []\n",
    "for ra in tqdm(ctow.user_id.values):\n",
    "    if ra in zero_uid:\n",
    "        result = UBCF(zero_uid, zero_cosine, ra)\n",
    "        l = result.user_id.values\n",
    "    else:\n",
    "        result = UBCF(one_uid, one_cosine, ra)\n",
    "        l = result.user_id.values\n",
    "\n",
    "\n",
    "    isbn_1 = ratings.query('user_id == @ra').isbn.values[0]\n",
    "    a = ratings.query('user_id in @l and isbn == @isbn_1').query('user_id != @ra')\n",
    "    if len(a) == 0:\n",
    "        continue\n",
    "    \n",
    "    b = 0\n",
    "    actual = ratings.query('user_id == @ra').rating.values[0]\n",
    "    for uid, r in a[['user_id', 'rating']].values:\n",
    "        weight = result.query('user_id == @uid').similarity.values[0]\n",
    "        b += r * weight\n",
    "\n",
    "    uid_rec_ctow.append(ra)\n",
    "    pred_ctow.append(b / len(a))\n",
    "    actu_ctow.append(actual)\n"
   ]
  },
  {
   "cell_type": "code",
   "execution_count": 61,
   "metadata": {},
   "outputs": [
    {
     "data": {
      "text/plain": [
       "(array([   34,    45,    97,   237,  1208,  2265,  2638,  3350,  3733,\n",
       "         4774,  4920,  5356,  5500,  5576,  6002,  6212,  6328,  6342,\n",
       "         8066, 11819, 15568, 15712, 17950, 18160, 18232, 20122, 21756]),)"
      ]
     },
     "execution_count": 61,
     "metadata": {},
     "output_type": "execute_result"
    }
   ],
   "source": [
    "print(len(actu))\n",
    "uio = np.abs(np.subtract(actu, pred))\n",
    "np.where(uio>9)"
   ]
  },
  {
   "cell_type": "markdown",
   "metadata": {},
   "source": [
    "전체 평점에 대한 rmse"
   ]
  },
  {
   "cell_type": "code",
   "execution_count": 46,
   "metadata": {},
   "outputs": [
    {
     "name": "stdout",
     "output_type": "stream",
     "text": [
      "2.6549281992605014\n"
     ]
    }
   ],
   "source": [
    "from sklearn.metrics import mean_squared_error\n",
    "\n",
    "RMSE = mean_squared_error(actu, pred)**0.5\n",
    "print(RMSE)"
   ]
  },
  {
   "cell_type": "code",
   "execution_count": 67,
   "metadata": {},
   "outputs": [
    {
     "name": "stdout",
     "output_type": "stream",
     "text": [
      "17936\n"
     ]
    },
    {
     "data": {
      "text/plain": [
       "(array([13948]),)"
      ]
     },
     "execution_count": 67,
     "metadata": {},
     "output_type": "execute_result"
    }
   ],
   "source": [
    "print(len(actu_ctow))\n",
    "uio_ctow = np.abs(np.subtract(actu_ctow, pred_ctow))\n",
    "np.where(uio_ctow>9)"
   ]
  },
  {
   "cell_type": "markdown",
   "metadata": {},
   "source": [
    "평점을 한번도 내리지 않은 유저가(cold-user) 평가가 많은 아이템(warm-item)에 대한 평점에 대한 rmse"
   ]
  },
  {
   "cell_type": "code",
   "execution_count": null,
   "metadata": {},
   "outputs": [
    {
     "name": "stdout",
     "output_type": "stream",
     "text": [
      "2.4782892334279887\n"
     ]
    }
   ],
   "source": [
    "from sklearn.metrics import mean_squared_error\n",
    "\n",
    "RMSE_ctow = mean_squared_error(actu_ctow, pred_ctow)**0.5\n",
    "print(RMSE_ctow)"
   ]
  },
  {
   "cell_type": "markdown",
   "metadata": {},
   "source": [
    "## 결론\n",
    "cold user에 대해 fm 모델의 rmse는 2.3이었다.\n",
    "\n",
    "user 유사도 기반 예측의 rmse는 2.4가 나왔으므로 이는 사용할 수 없다고 판단했다."
   ]
  }
 ],
 "metadata": {
  "kernelspec": {
   "display_name": "Python 3.6.9 64-bit",
   "language": "python",
   "name": "python3"
  },
  "language_info": {
   "codemirror_mode": {
    "name": "ipython",
    "version": 3
   },
   "file_extension": ".py",
   "mimetype": "text/x-python",
   "name": "python",
   "nbconvert_exporter": "python",
   "pygments_lexer": "ipython3",
   "version": "3"
  },
  "orig_nbformat": 4,
  "vscode": {
   "interpreter": {
    "hash": "31f2aee4e71d21fbe5cf8b01ff0e069b9275f58929596ceb00d14d90e3e16cd6"
   }
  }
 },
 "nbformat": 4,
 "nbformat_minor": 2
}
