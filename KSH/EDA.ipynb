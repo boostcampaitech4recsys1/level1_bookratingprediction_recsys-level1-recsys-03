{
 "cells": [
  {
   "cell_type": "markdown",
   "id": "9bf54e25",
   "metadata": {},
   "source": [
    "# EDA\n",
    "---"
   ]
  },
  {
   "cell_type": "code",
   "execution_count": 1,
   "id": "312efec4",
   "metadata": {},
   "outputs": [],
   "source": [
    "import pandas as pd\n",
    "import re\n",
    "import warnings\n",
    "warnings.filterwarnings('ignore')"
   ]
  },
  {
   "cell_type": "code",
   "execution_count": null,
   "id": "50abbe37",
   "metadata": {},
   "outputs": [],
   "source": [
    "books = pd.read_csv('data/books.csv')\n",
    "rating = pd.read_csv('data/ratings.csv')"
   ]
  },
  {
   "cell_type": "code",
   "execution_count": 3,
   "id": "d025ad6b",
   "metadata": {},
   "outputs": [
    {
     "data": {
      "text/plain": [
       "0         False\n",
       "1         False\n",
       "2         False\n",
       "3         False\n",
       "4         False\n",
       "          ...  \n",
       "149565     True\n",
       "149566    False\n",
       "149567    False\n",
       "149568    False\n",
       "149569    False\n",
       "Name: book_title, Length: 149570, dtype: bool"
      ]
     },
     "execution_count": 3,
     "metadata": {},
     "output_type": "execute_result"
    }
   ],
   "source": [
    "books['book_title'].duplicated()"
   ]
  },
  {
   "cell_type": "markdown",
   "id": "a120689d",
   "metadata": {},
   "source": [
    "---\n",
    "## 고전 명서는 인기가 많을까? 평가는 어떨까?\n",
    "고전 명서: \n",
    "같은 제목, 작가로 다양한 출판사, 연도 등이 존재하는 책"
   ]
  },
  {
   "cell_type": "code",
   "execution_count": 5,
   "id": "de09df39",
   "metadata": {},
   "outputs": [],
   "source": [
    "classic = books['book_title'].value_counts()[:100].index"
   ]
  },
  {
   "cell_type": "code",
   "execution_count": 8,
   "id": "899f06af",
   "metadata": {},
   "outputs": [],
   "source": [
    "top_dup_book = list(books.query('book_title in @classic').isbn)"
   ]
  },
  {
   "cell_type": "code",
   "execution_count": 11,
   "id": "142136ff",
   "metadata": {},
   "outputs": [
    {
     "data": {
      "text/plain": [
       "7.62625"
      ]
     },
     "execution_count": 11,
     "metadata": {},
     "output_type": "execute_result"
    }
   ],
   "source": [
    "rating.query('isbn == @top_dup_book').rating.mean()"
   ]
  },
  {
   "cell_type": "markdown",
   "id": "3d3dcacb",
   "metadata": {},
   "source": [
    "고전 명서의 평균 평점은 약 7.6점이다"
   ]
  },
  {
   "cell_type": "markdown",
   "id": "8789107c",
   "metadata": {},
   "source": [
    "## 파레토 법칙: 전체 소비의 80%는 20%의 인기있는 아이템에서 발생한다.\n",
    "---"
   ]
  },
  {
   "cell_type": "code",
   "execution_count": 12,
   "id": "a7af6d82",
   "metadata": {},
   "outputs": [],
   "source": [
    "PARETO = int(len(rating['isbn'].unique()) * 0.2)"
   ]
  },
  {
   "cell_type": "code",
   "execution_count": 13,
   "id": "5ffc1899",
   "metadata": {},
   "outputs": [
    {
     "name": "stdout",
     "output_type": "stream",
     "text": [
      "ratio of top 3020: 0.6112974461774149\n"
     ]
    }
   ],
   "source": [
    "top_20 = rating['isbn'].value_counts()[:PARETO]\n",
    "print(f'ratio of top 20: {sum(top_20) / len(rating)}')"
   ]
  },
  {
   "cell_type": "markdown",
   "id": "282c9d72",
   "metadata": {},
   "source": [
    "전체 소비의 61%가 인기순 상위 20%에서 발생한다."
   ]
  },
  {
   "cell_type": "markdown",
   "id": "b1cdd4bf",
   "metadata": {},
   "source": [
    "## 콜드 스타트\n",
    "---"
   ]
  },
  {
   "cell_type": "code",
   "execution_count": 16,
   "id": "4c89f7de",
   "metadata": {},
   "outputs": [],
   "source": [
    "test = pd.read_csv('data/test_ratings.csv')\n",
    "train = pd.read_csv('data/train_ratings.csv')\n",
    "books = pd.read_csv('data/books_1.0.csv')\n",
    "both_rating = pd.concat([train, test], axis=0)"
   ]
  },
  {
   "cell_type": "code",
   "execution_count": 34,
   "id": "45eb3066",
   "metadata": {},
   "outputs": [],
   "source": [
    "test_user = test.user_id.unique()\n",
    "train_user = train.user_id.unique()\n",
    "test_item = test.isbn.unique()\n",
    "train_item = train.isbn.unique()"
   ]
  },
  {
   "cell_type": "code",
   "execution_count": 36,
   "id": "6e7370ce",
   "metadata": {},
   "outputs": [
    {
     "data": {
      "text/html": [
       "<div>\n",
       "<style scoped>\n",
       "    .dataframe tbody tr th:only-of-type {\n",
       "        vertical-align: middle;\n",
       "    }\n",
       "\n",
       "    .dataframe tbody tr th {\n",
       "        vertical-align: top;\n",
       "    }\n",
       "\n",
       "    .dataframe thead th {\n",
       "        text-align: right;\n",
       "    }\n",
       "</style>\n",
       "<table border=\"1\" class=\"dataframe\">\n",
       "  <thead>\n",
       "    <tr style=\"text-align: right;\">\n",
       "      <th></th>\n",
       "      <th>user_id</th>\n",
       "      <th>isbn</th>\n",
       "      <th>rating</th>\n",
       "    </tr>\n",
       "  </thead>\n",
       "  <tbody>\n",
       "    <tr>\n",
       "      <th>7</th>\n",
       "      <td>11676</td>\n",
       "      <td>0671870432</td>\n",
       "      <td>0</td>\n",
       "    </tr>\n",
       "    <tr>\n",
       "      <th>64</th>\n",
       "      <td>14</td>\n",
       "      <td>0689821166</td>\n",
       "      <td>0</td>\n",
       "    </tr>\n",
       "    <tr>\n",
       "      <th>420</th>\n",
       "      <td>53</td>\n",
       "      <td>0245542957</td>\n",
       "      <td>0</td>\n",
       "    </tr>\n",
       "    <tr>\n",
       "      <th>538</th>\n",
       "      <td>87</td>\n",
       "      <td>0375509038</td>\n",
       "      <td>0</td>\n",
       "    </tr>\n",
       "    <tr>\n",
       "      <th>929</th>\n",
       "      <td>176</td>\n",
       "      <td>1900850303</td>\n",
       "      <td>0</td>\n",
       "    </tr>\n",
       "    <tr>\n",
       "      <th>...</th>\n",
       "      <td>...</td>\n",
       "      <td>...</td>\n",
       "      <td>...</td>\n",
       "    </tr>\n",
       "    <tr>\n",
       "      <th>76694</th>\n",
       "      <td>278543</td>\n",
       "      <td>1576734218</td>\n",
       "      <td>0</td>\n",
       "    </tr>\n",
       "    <tr>\n",
       "      <th>76695</th>\n",
       "      <td>278563</td>\n",
       "      <td>3492223710</td>\n",
       "      <td>0</td>\n",
       "    </tr>\n",
       "    <tr>\n",
       "      <th>76696</th>\n",
       "      <td>278633</td>\n",
       "      <td>1896095186</td>\n",
       "      <td>0</td>\n",
       "    </tr>\n",
       "    <tr>\n",
       "      <th>76697</th>\n",
       "      <td>278668</td>\n",
       "      <td>8408044079</td>\n",
       "      <td>0</td>\n",
       "    </tr>\n",
       "    <tr>\n",
       "      <th>76698</th>\n",
       "      <td>278851</td>\n",
       "      <td>0767907566</td>\n",
       "      <td>0</td>\n",
       "    </tr>\n",
       "  </tbody>\n",
       "</table>\n",
       "<p>19793 rows × 3 columns</p>\n",
       "</div>"
      ],
      "text/plain": [
       "       user_id        isbn  rating\n",
       "7        11676  0671870432       0\n",
       "64          14  0689821166       0\n",
       "420         53  0245542957       0\n",
       "538         87  0375509038       0\n",
       "929        176  1900850303       0\n",
       "...        ...         ...     ...\n",
       "76694   278543  1576734218       0\n",
       "76695   278563  3492223710       0\n",
       "76696   278633  1896095186       0\n",
       "76697   278668  8408044079       0\n",
       "76698   278851  0767907566       0\n",
       "\n",
       "[19793 rows x 3 columns]"
      ]
     },
     "execution_count": 36,
     "metadata": {},
     "output_type": "execute_result"
    }
   ],
   "source": [
    "test.query('isbn not in @train_item')"
   ]
  },
  {
   "cell_type": "markdown",
   "id": "f8133c73",
   "metadata": {},
   "source": [
    "Test 셋에서 처음 등장하는 유저의 수"
   ]
  },
  {
   "cell_type": "code",
   "execution_count": 37,
   "id": "578d4d50",
   "metadata": {},
   "outputs": [
    {
     "name": "stdout",
     "output_type": "stream",
     "text": [
      "number of cold start user: 8266\n",
      "cold start ratio: 0.10777193966023026\n"
     ]
    }
   ],
   "source": [
    "import numpy as np\n",
    "cold_user = (set(test_user) - set(train_user))\n",
    "print(f'number of cold start user: {len(cold_user)}')\n",
    "print(f'cold start ratio: {len(cold_user) / len(test)}')\n",
    "\n",
    "np.save('no_train_user',np.array(cold_user))"
   ]
  },
  {
   "cell_type": "code",
   "execution_count": 19,
   "id": "f55f2f7e",
   "metadata": {},
   "outputs": [
    {
     "data": {
      "text/plain": [
       "11676     5520\n",
       "98391     4560\n",
       "189835    1503\n",
       "153662    1496\n",
       "23902      956\n",
       "          ... \n",
       "54908        1\n",
       "236844       1\n",
       "44531        1\n",
       "93836        1\n",
       "278713       1\n",
       "Name: user_id, Length: 59803, dtype: int64"
      ]
     },
     "execution_count": 19,
     "metadata": {},
     "output_type": "execute_result"
    }
   ],
   "source": [
    "train.user_id.value_counts()"
   ]
  },
  {
   "cell_type": "code",
   "execution_count": null,
   "id": "30653254",
   "metadata": {},
   "outputs": [],
   "source": [
    "import matplotlib.pyplot as plt\n",
    "import numpy as np\n",
    "from scipy import stats\n",
    "\n",
    "plt.bar(np.arange(len(train_user[:100])),train.user_id.value_counts().iloc[:100])\n",
    "plt.show()"
   ]
  },
  {
   "cell_type": "code",
   "execution_count": 21,
   "id": "997f41d1",
   "metadata": {},
   "outputs": [
    {
     "name": "stdout",
     "output_type": "stream",
     "text": [
      "mean of user's ratings: 5.130093808002943\n",
      "median of user's ratings: 1.0\n",
      "median of user's ratings: ModeResult(mode=array([1]), count=array([34617]))\n"
     ]
    }
   ],
   "source": [
    "print(f\"mean of user's ratings: {train.user_id.value_counts().values.mean()}\")\n",
    "print(f\"median of user's ratings: {np.median(train.user_id.value_counts().values)}\")\n",
    "print(f\"median of user's ratings: {stats.mode(train.user_id.value_counts().values)}\")"
   ]
  },
  {
   "cell_type": "code",
   "execution_count": 22,
   "id": "5acde329",
   "metadata": {},
   "outputs": [],
   "source": [
    "users = pd.read_csv('data/users_f_location_1.1.csv')"
   ]
  },
  {
   "cell_type": "code",
   "execution_count": 23,
   "id": "697e49e6",
   "metadata": {},
   "outputs": [
    {
     "data": {
      "text/plain": [
       "0"
      ]
     },
     "execution_count": 23,
     "metadata": {},
     "output_type": "execute_result"
    }
   ],
   "source": [
    "len(set(test_user) - set(users.user_id.unique()))"
   ]
  },
  {
   "cell_type": "markdown",
   "id": "564c83ec",
   "metadata": {},
   "source": [
    "구매를 한번도 하지 않았어도 유저에 대한 정보(`location`, `age`)는 존재한다"
   ]
  },
  {
   "cell_type": "markdown",
   "id": "f99c1e9f",
   "metadata": {},
   "source": [
    "### Cold user & Cold item"
   ]
  },
  {
   "cell_type": "code",
   "execution_count": 24,
   "id": "36ea097c",
   "metadata": {},
   "outputs": [
    {
     "name": "stdout",
     "output_type": "stream",
     "text": [
      "전체 사람 수: 59803\n",
      "5권 이하로 읽은 사람의 수(비율):49119, 0.82\n"
     ]
    }
   ],
   "source": [
    "train_user_vc = train.user_id.value_counts()\n",
    "print(f'전체 사람 수: {len(train.user_id.unique())}')\n",
    "print(f'5권 이하로 읽은 사람의 수(비율):{train_user_vc.where(train_user_vc < 5).count()}, {train_user_vc.where(train_user_vc < 5).count() / len(train.user_id.unique()):.2f}')"
   ]
  },
  {
   "cell_type": "code",
   "execution_count": 25,
   "id": "1c9208a9",
   "metadata": {},
   "outputs": [
    {
     "name": "stdout",
     "output_type": "stream",
     "text": [
      "전체 책 수: 129777\n",
      "5번 이하로 읽은 책의 수(비율):119456, 0.92\n"
     ]
    }
   ],
   "source": [
    "train_book_vc = train.isbn.value_counts()\n",
    "print(f'전체 책 수: {len(train.isbn.unique())}')\n",
    "print(f'5번 이하로 읽은 책의 수(비율):{train_book_vc.where(train_book_vc < 5).count()}, {train_book_vc.where(train_book_vc < 5).count() / len(train.isbn.unique()):.2f}')"
   ]
  },
  {
   "cell_type": "code",
   "execution_count": 26,
   "id": "d8267327",
   "metadata": {},
   "outputs": [
    {
     "name": "stdout",
     "output_type": "stream",
     "text": [
      "콜드 유저 수: 49119\n",
      "콜드 아이템 수: 119456\n",
      "콜드 유저가 콜드 아이템을 평가한 수: 34804\n",
      "전체 평가 수: 306795\n"
     ]
    }
   ],
   "source": [
    "cold_user_id = train_user_vc.where(train_user_vc < 5).dropna().index\n",
    "cold_book_isbn = train_book_vc.where(train_book_vc < 5).dropna().index\n",
    "\n",
    "print(f'콜드 유저 수: {len(cold_user_id)}')\n",
    "print(f'콜드 아이템 수: {len(cold_book_isbn)}')\n",
    "print(f\"콜드 유저가 콜드 아이템을 평가한 수: {len(train.query('user_id in @cold_user_id and isbn in @cold_book_isbn'))}\")\n",
    "print(f'전체 평가 수: {len(train)}')"
   ]
  },
  {
   "cell_type": "markdown",
   "id": "0e5e1ea6",
   "metadata": {},
   "source": [
    "### Warm user & Warm item"
   ]
  },
  {
   "cell_type": "code",
   "execution_count": 27,
   "id": "36ea097c",
   "metadata": {},
   "outputs": [
    {
     "name": "stdout",
     "output_type": "stream",
     "text": [
      "전체 사람 수: 59803\n",
      "5권 이하로 읽은 사람의 수(비율):10684, 0.18\n"
     ]
    }
   ],
   "source": [
    "train_user_vc = train.user_id.value_counts()\n",
    "print(f'전체 사람 수: {len(train.user_id.unique())}')\n",
    "print(f'5권 이하로 읽은 사람의 수(비율):{train_user_vc.where(train_user_vc >= 5).count()}, {train_user_vc.where(train_user_vc >= 5).count() / len(train.user_id.unique()):.2f}')"
   ]
  },
  {
   "cell_type": "code",
   "execution_count": 28,
   "id": "1c9208a9",
   "metadata": {},
   "outputs": [
    {
     "name": "stdout",
     "output_type": "stream",
     "text": [
      "전체 책 수: 129777\n",
      "5번 이하로 읽은 책의 수(비율):10321, 0.08\n"
     ]
    }
   ],
   "source": [
    "train_book_vc = train.isbn.value_counts()\n",
    "print(f'전체 책 수: {len(train.isbn.unique())}')\n",
    "print(f'5번 이하로 읽은 책의 수(비율):{train_book_vc.where(train_book_vc >= 5).count()}, {train_book_vc.where(train_book_vc >= 5).count() / len(train.isbn.unique()):.2f}')"
   ]
  },
  {
   "cell_type": "code",
   "execution_count": 29,
   "id": "67ee283b",
   "metadata": {},
   "outputs": [
    {
     "name": "stdout",
     "output_type": "stream",
     "text": [
      "warm 유저 수: 10684\n",
      "warm 아이템 수: 10321\n",
      "warm 유저가 warm 아이템을 평가한 수: 101866\n",
      "전체 평가 수: 306795\n"
     ]
    }
   ],
   "source": [
    "warm_user_id = train_user_vc.where(train_user_vc >= 5).dropna().index\n",
    "warm_book_isbn = train_book_vc.where(train_book_vc >= 5).dropna().index\n",
    "\n",
    "print(f'warm 유저 수: {len(warm_user_id)}')\n",
    "print(f'warm 아이템 수: {len(warm_book_isbn)}')\n",
    "print(f\"warm 유저가 warm 아이템을 평가한 수: {len(train.query('user_id in @warm_user_id and isbn in @warm_book_isbn'))}\")\n",
    "print(f'전체 평가 수: {len(train)}')"
   ]
  },
  {
   "cell_type": "code",
   "execution_count": 30,
   "id": "97b7b0c3",
   "metadata": {},
   "outputs": [],
   "source": [
    "np.save('data/cold_book_isbn',np.array(cold_book_isbn))\n",
    "np.save('data/cold_user_id', np.array(cold_user_id))\n",
    "np.save('data/warm_book_isbn',np.array( warm_book_isbn))\n",
    "np.save('data/warm_user_id',np.array(warm_user_id))"
   ]
  },
  {
   "cell_type": "code",
   "execution_count": 31,
   "metadata": {},
   "outputs": [
    {
     "name": "stdout",
     "output_type": "stream",
     "text": [
      "<class 'numpy.int64'>\n"
     ]
    }
   ],
   "source": [
    "print(type(train.user_id.unique()[0]))"
   ]
  }
 ],
 "metadata": {
  "kernelspec": {
   "display_name": "Python 3.6.9 64-bit",
   "language": "python",
   "name": "python3"
  },
  "language_info": {
   "codemirror_mode": {
    "name": "ipython",
    "version": 3
   },
   "file_extension": ".py",
   "mimetype": "text/x-python",
   "name": "python",
   "nbconvert_exporter": "python",
   "pygments_lexer": "ipython3",
   "version": "3.6.9"
  },
  "vscode": {
   "interpreter": {
    "hash": "31f2aee4e71d21fbe5cf8b01ff0e069b9275f58929596ceb00d14d90e3e16cd6"
   }
  }
 },
 "nbformat": 4,
 "nbformat_minor": 5
}
