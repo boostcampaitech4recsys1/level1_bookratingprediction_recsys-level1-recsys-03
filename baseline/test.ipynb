{
 "cells": [
  {
   "cell_type": "code",
   "execution_count": null,
   "id": "7aca426e-4874-4ec4-9943-3c333d558f58",
   "metadata": {
    "collapsed": true,
    "jupyter": {
     "outputs_hidden": true
    },
    "tags": []
   },
   "outputs": [],
   "source": [
    "!python3 main.py --MODEL FFM --DATA_PATH data_custom/ --SEED 8746 --EPOCHS 2 --FFM_EMBED_DIM 1 --LR 2e-3 --BATCH_SIZE 128 --WEIGHT_DECAY 1e-4 --FOLD True"
   ]
  },
  {
   "cell_type": "code",
   "execution_count": null,
   "id": "14e40232-5d3d-4681-a81f-5f5e5a84942a",
   "metadata": {
    "collapsed": true,
    "jupyter": {
     "outputs_hidden": true
    },
    "tags": []
   },
   "outputs": [],
   "source": [
    "!python3 main.py --MODEL DCN --DATA_PATH data_custom/ --SEED 8746 --DCN_MLP_DIMS 128 --DCN_EMBED_DIM 16 --DCN_NUM_LAYERS 3 --EPOCHS 4 --LR 2e-3 --BATCH_SIZE 128 --WEIGHT_DECAY 4.5e-3 --FOLD True"
   ]
  },
  {
   "cell_type": "code",
   "execution_count": null,
   "id": "fd9e17a9-f911-44da-b19a-45d16d41fee9",
   "metadata": {
    "collapsed": true,
    "jupyter": {
     "outputs_hidden": true
    },
    "tags": []
   },
   "outputs": [],
   "source": [
    "!python3 main.py --MODEL DCN --DATA_PATH data_custom/ --SEED 8746 --DCN_MLP_DIMS 128 --DCN_EMBED_DIM 16 --DCN_NUM_LAYERS 3 --EPOCHS 4 --LR 2e-3 --BATCH_SIZE 128 --WEIGHT_DECAY 4.5e-3 --FOLD True"
   ]
  },
  {
   "cell_type": "code",
   "execution_count": 23,
   "id": "9f02a315",
   "metadata": {},
   "outputs": [
    {
     "name": "stdout",
     "output_type": "stream",
     "text": [
      "--------------- FMDCN Load Data ---------------\n",
      "--------------- FMDCN Train/Valid Split ---------------\n",
      "--------------- INIT FMDCN ---------------\n",
      "--------------- FMDCN TRAINING ---------------\n",
      "100%|████████████████████████████| 1917/1917 [00:27<00:00, 69.28it/s, loss=2.52]\n",
      "100%|███████████████████████████████████████| 479/479 [00:00<00:00, 1326.45it/s]\n",
      "epoch: 0 validation: rmse: 2.589777641610825\n",
      "100%|████████████████████████████| 1917/1917 [00:27<00:00, 69.35it/s, loss=2.47]\n",
      "100%|███████████████████████████████████████| 479/479 [00:00<00:00, 1324.51it/s]\n",
      "epoch: 1 validation: rmse: 2.5223750337863957\n",
      "100%|████████████████████████████| 1917/1917 [00:27<00:00, 69.63it/s, loss=2.48]\n",
      "100%|███████████████████████████████████████| 479/479 [00:00<00:00, 1324.90it/s]\n",
      "epoch: 2 validation: rmse: 2.5267687177779496\n",
      "100%|████████████████████████████| 1917/1917 [00:27<00:00, 68.79it/s, loss=2.47]\n",
      "100%|███████████████████████████████████████| 479/479 [00:00<00:00, 1345.11it/s]\n",
      "epoch: 3 validation: rmse: 2.5516488270535165\n",
      "2.5223750337863957\n",
      "--------------- FMDCN PREDICT ---------------\n",
      "100%|███████████████████████████████████████| 599/599 [00:00<00:00, 1940.51it/s]\n",
      "--------------- SAVE FMDCN PREDICT ---------------\n",
      "Traceback (most recent call last):\n",
      "  File \"/Users/parksom/Downloads/level1_bookratingprediction_recsys-level1-recsys-03/baseline/main.py\", line 211, in <module>\n",
      "    main(args)\n",
      "  File \"/Users/parksom/Downloads/level1_bookratingprediction_recsys-level1-recsys-03/baseline/main.py\", line 128, in main\n",
      "    submission['rating'] = predicts\n",
      "  File \"/Users/parksom/miniconda3/lib/python3.9/site-packages/pandas/core/frame.py\", line 3977, in __setitem__\n",
      "    self._set_item(key, value)\n",
      "  File \"/Users/parksom/miniconda3/lib/python3.9/site-packages/pandas/core/frame.py\", line 4171, in _set_item\n",
      "    value = self._sanitize_column(value)\n",
      "  File \"/Users/parksom/miniconda3/lib/python3.9/site-packages/pandas/core/frame.py\", line 4904, in _sanitize_column\n",
      "    com.require_length_match(value, self.index)\n",
      "  File \"/Users/parksom/miniconda3/lib/python3.9/site-packages/pandas/core/common.py\", line 561, in require_length_match\n",
      "    raise ValueError(\n",
      "ValueError: Length of values (76672) does not match length of index (76699)\n"
     ]
    }
   ],
   "source": [
    "!python3 main.py --MODEL FMDCN --DATA_PATH data/ --SEED 8746 --DCN_MLP_DIMS 128 --DCN_EMBED_DIM 16 --DCN_NUM_LAYERS 3 --EPOCHS 4 --LR 2e-3 --BATCH_SIZE 128 --WEIGHT_DECAY 4.5e-3 --FM_EMBED_DIM 1"
   ]
  },
  {
   "cell_type": "code",
   "execution_count": null,
   "id": "d5da11b2",
   "metadata": {},
   "outputs": [],
   "source": []
  },
  {
   "cell_type": "code",
   "execution_count": null,
   "id": "51e8a460-6756-4632-aafd-578553f5a8a0",
   "metadata": {},
   "outputs": [],
   "source": [
    "# 130, 16, 3 , 4.5e-3 / 2.1877\n",
    "# 132, 16, 3 , 4.5e-3 / 2.1956\n",
    "# 128, 16, 3 , 5e-3 / 2.189\n",
    "# 128, 16, 3 , 4.5e-3 / 2.1895\n",
    "# 140, 16, 3 , 4.5e-3 / 2.1920\n",
    "# 135, 16, 3 , 4.5e-3 / 2.1916\n",
    "# 128, 16, 3 , 4e-3 / 2.1896\n",
    "# 128, 16, 3 , 6e-3 / 2.191"
   ]
  },
  {
   "cell_type": "code",
   "execution_count": 32,
   "id": "847ca099-4aa6-49ce-ab60-bb3d4f33c375",
   "metadata": {
    "tags": []
   },
   "outputs": [
    {
     "name": "stdout",
     "output_type": "stream",
     "text": [
      "--------------- FM Load Data ---------------\n",
      "--------------- FM Train/Valid Split ---------------\n",
      "--------------- INIT FM ---------------\n",
      "--------------- FM TRAINING ---------------\n",
      "100%|███████████████████████████| 1918/1918 [00:04<00:00, 445.81it/s, loss=2.23]\n",
      "100%|███████████████████████████████████████| 480/480 [00:00<00:00, 2203.33it/s]\n",
      "epoch: 0 validation: rmse: 2.233712898446188\n",
      "100%|███████████████████████████| 1918/1918 [00:04<00:00, 468.89it/s, loss=2.08]\n",
      "100%|███████████████████████████████████████| 480/480 [00:00<00:00, 2189.64it/s]\n",
      "epoch: 1 validation: rmse: 2.1736589562581985\n",
      "100%|██████████████████████████████| 1918/1918 [00:04<00:00, 450.77it/s, loss=2]\n",
      "100%|███████████████████████████████████████| 480/480 [00:00<00:00, 2231.59it/s]\n",
      "epoch: 2 validation: rmse: 2.171934081752636\n",
      "100%|███████████████████████████| 1918/1918 [00:04<00:00, 441.56it/s, loss=1.89]\n",
      "100%|███████████████████████████████████████| 480/480 [00:00<00:00, 2147.60it/s]\n",
      "epoch: 3 validation: rmse: 2.1774096703610546\n",
      "2.171934081752636\n",
      "--------------- FM PREDICT ---------------\n",
      "100%|███████████████████████████████████████| 600/600 [00:00<00:00, 3720.88it/s]\n",
      "--------------- SAVE FM PREDICT ---------------\n"
     ]
    }
   ],
   "source": [
    "!python3 main.py --MODEL FM --DATA_PATH data/ --SEED 8746 --EPOCHS 4 --FM_EMBED_DIM 1 --LR 2e-3 --BATCH_SIZE 128 --WEIGHT_DECAY 1e-4 #--FOLD True"
   ]
  },
  {
   "cell_type": "code",
   "execution_count": 29,
   "id": "2d8eba96",
   "metadata": {
    "collapsed": true,
    "jupyter": {
     "outputs_hidden": true
    },
    "tags": []
   },
   "outputs": [
    {
     "name": "stdout",
     "output_type": "stream",
     "text": [
      "--------------- HOFM Load Data ---------------\n",
      "Traceback (most recent call last):\n",
      "  File \"/Users/parksom/Downloads/level1_bookratingprediction_recsys-level1-recsys-03/baseline/main.py\", line 211, in <module>\n",
      "    main(args)\n",
      "  File \"/Users/parksom/Downloads/level1_bookratingprediction_recsys-level1-recsys-03/baseline/main.py\", line 24, in main\n",
      "    data = context_data_load(args)\n",
      "  File \"/Users/parksom/Downloads/level1_bookratingprediction_recsys-level1-recsys-03/baseline/src/data/context_data.py\", line 92, in context_data_load\n",
      "    users = pd.read_csv(args.DATA_PATH + 'users_f_location_1.1.csv')\n",
      "  File \"/Users/parksom/miniconda3/lib/python3.9/site-packages/pandas/util/_decorators.py\", line 211, in wrapper\n",
      "    return func(*args, **kwargs)\n",
      "  File \"/Users/parksom/miniconda3/lib/python3.9/site-packages/pandas/util/_decorators.py\", line 331, in wrapper\n",
      "    return func(*args, **kwargs)\n",
      "  File \"/Users/parksom/miniconda3/lib/python3.9/site-packages/pandas/io/parsers/readers.py\", line 950, in read_csv\n",
      "    return _read(filepath_or_buffer, kwds)\n",
      "  File \"/Users/parksom/miniconda3/lib/python3.9/site-packages/pandas/io/parsers/readers.py\", line 605, in _read\n",
      "    parser = TextFileReader(filepath_or_buffer, **kwds)\n",
      "  File \"/Users/parksom/miniconda3/lib/python3.9/site-packages/pandas/io/parsers/readers.py\", line 1442, in __init__\n",
      "    self._engine = self._make_engine(f, self.engine)\n",
      "  File \"/Users/parksom/miniconda3/lib/python3.9/site-packages/pandas/io/parsers/readers.py\", line 1735, in _make_engine\n",
      "    self.handles = get_handle(\n",
      "  File \"/Users/parksom/miniconda3/lib/python3.9/site-packages/pandas/io/common.py\", line 856, in get_handle\n",
      "    handle = open(\n",
      "FileNotFoundError: [Errno 2] No such file or directory: 'data_custom/users_f_location_1.1.csv'\n"
     ]
    }
   ],
   "source": [
    "!python3 main.py --MODEL HOFM --DATA_PATH data_custom/ --SEED 8746 --EPOCHS 8 --ORDER 10 --HOFM_EMBED_DIM 1 --LR 2e-3 --BATCH_SIZE 128 --WEIGHT_DECAY 1e-4 #--FOLD True"
   ]
  },
  {
   "cell_type": "code",
   "execution_count": 25,
   "id": "a30ca263-bf39-414a-8b36-3ac460e081c2",
   "metadata": {},
   "outputs": [
    {
     "name": "stdout",
     "output_type": "stream",
     "text": [
      "/opt/ml/.local/share/Trash\n"
     ]
    }
   ],
   "source": [
    "# !ls ../../../ml\n",
    "!pwd\n",
    "!mv files/submit3/20221030_073151_HOFM.csv ../../../.\n",
    "#~.local/share/Trash "
   ]
  },
  {
   "cell_type": "code",
   "execution_count": 45,
   "id": "a42f5916-02d1-4c4a-afb6-c4cca2d10fab",
   "metadata": {},
   "outputs": [
    {
     "name": "stdout",
     "output_type": "stream",
     "text": [
      "tokenizers\n"
     ]
    }
   ],
   "source": [
    "!ls nltk_data"
   ]
  },
  {
   "cell_type": "code",
   "execution_count": 2,
   "id": "8fca81f0-0160-481b-b8a6-70a55b7809ee",
   "metadata": {
    "collapsed": true,
    "jupyter": {
     "outputs_hidden": true
    },
    "tags": []
   },
   "outputs": [
    {
     "name": "stdout",
     "output_type": "stream",
     "text": [
      "--------------- F4 Load Data ---------------\n",
      "--------------- F4 Train/Valid Split ---------------\n",
      "--------------- INIT F4 ---------------\n",
      "/opt/conda/lib/python3.8/site-packages/torch/nn/modules/container.py:435: UserWarning: Setting attributes on ParameterList is not supported.\n",
      "  warnings.warn(\"Setting attributes on ParameterList is not supported.\")\n",
      "100%|███████████████████████████| 1918/1918 [00:14<00:00, 135.13it/s, loss=2.29]\n",
      "100%|████████████████████████████████████████| 480/480 [00:01<00:00, 479.08it/s]\n",
      "save_dcn\n",
      "epoch: 0 validation: rmse: 2.246735488934316\n",
      "100%|███████████████████████████| 1918/1918 [00:14<00:00, 136.44it/s, loss=2.24]\n",
      "100%|████████████████████████████████████████| 480/480 [00:01<00:00, 477.08it/s]\n",
      "save_dcn\n",
      "epoch: 1 validation: rmse: 2.216561491004958\n",
      "100%|███████████████████████████| 1918/1918 [00:13<00:00, 137.57it/s, loss=2.22]\n",
      "100%|████████████████████████████████████████| 480/480 [00:01<00:00, 472.84it/s]\n",
      "save_dcn\n",
      "epoch: 2 validation: rmse: 2.195686258613263\n",
      "100%|████████████████████████████| 1918/1918 [00:14<00:00, 135.72it/s, loss=2.2]\n",
      "100%|████████████████████████████████████████| 480/480 [00:01<00:00, 462.40it/s]\n",
      "save_dcn\n",
      "epoch: 3 validation: rmse: 2.198057160945103\n",
      "-----2.198057160945103------\n"
     ]
    }
   ],
   "source": [
    "!python3 main.py --MODEL F4 --SEED 8746 --DATA_PATH data_custom/"
   ]
  },
  {
   "cell_type": "code",
   "execution_count": null,
   "id": "6f04e776-3fb8-4bee-973f-e38be4b88881",
   "metadata": {},
   "outputs": [],
   "source": [
    "# FM : 2.170 FFM 2.191\n",
    "# city - 2.167\n",
    "# state - 2.170\n",
    "# city state - FM : 2.1651 FFM : 2.1812\n",
    "# city state country - FM : 2.1651 FFM : 2.178 HOFM : 2.177\n",
    "# city state language - FM : 2.1655\n",
    "# city state author - FM : 2.1670\n",
    "# city state title author - FM : 2.1666\n",
    "# city state title age - FM : 2.1652\n",
    "# city state title publisher - FM : 2.1655\n",
    "# city state title category - FM : 2.1656\n",
    "\n",
    "# city state title - FM : 2.163674 FFM : 2.181\n",
    "# dataset > \n",
    "\n",
    "\n",
    "\n"
   ]
  },
  {
   "cell_type": "code",
   "execution_count": null,
   "id": "469d2817-26ef-400e-ace1-7dc74e4d81e7",
   "metadata": {},
   "outputs": [],
   "source": [
    "#DCN\n",
    "# before 2.20330685576783\n",
    "# city state title 2.2002512150556877\n",
    "# title 2.203714473058508\n",
    "# count 120 > \n",
    "\n",
    "# (dcn 5 fm 5 (ffm 5)) > 2.14~ \n",
    "# dcn 5 fm 5 ffm 5 > 14~ > 13\n",
    "# > "
   ]
  },
  {
   "cell_type": "code",
   "execution_count": 48,
   "id": "4f6fffb2-e1dd-4711-aafc-6497834cb6b3",
   "metadata": {
    "tags": []
   },
   "outputs": [],
   "source": [
    "# SEED : 8746\n",
    "# FM : 2.2385 --epoch 14 --fold True LB : 2.1849 // 1th 2.13 2th 2.15 3th 16\n",
    "\n",
    "# 2.172 age author \n",
    "# !python3 main.py --MODEL FM --DATA_PATH data_custom/ --SEED 8746 --EPOCHS 3 --FM_EMBED_DIM 1 --LR 2e-3 --BATCH_SIZE 128 --WEIGHT_DECAY 1e-4\n",
    "\n",
    "# FFM\n",
    "# 2.180241214580843\n",
    "\n",
    "# 2.1897833770806403 age author language\n",
    "# --MODEL HOFM --DATA_PATH data_custom/ --SEED 8746 --EPOCHS 5 --ORDER 10 --HOFM_EMBED_DIM 1 --LR 2e-3 --BATCH_SIZE 128 --WEIGHT_DECAY 1e-4\n",
    "\n",
    "# 2.2050 (12, 12)\n",
    "# !python3 main.py --MODEL DCN --DCN_NUM_LAYERS 1 --DATA_PATH data_custom/ --SEED 8746 --DCN_EMBED_DIM 8 --EPOCHS 12 --LR 5e-3 --BATCH_SIZE 128 --WEIGHT_DECAY 5e-3"
   ]
  },
  {
   "cell_type": "code",
   "execution_count": null,
   "id": "6d60f6b1-cc59-4f41-ab95-012f9a47a673",
   "metadata": {},
   "outputs": [],
   "source": []
  },
  {
   "cell_type": "code",
   "execution_count": 22,
   "id": "d47d7dd4-b495-4e82-b219-35ef380a2695",
   "metadata": {},
   "outputs": [],
   "source": [
    "b = pd.read_csv('data_custom/books_1.csv')\n",
    "\n",
    "def year_map(x):\n",
    "    x = int(x)\n",
    "    if x < 1980:\n",
    "        return 1\n",
    "    elif x < 1990:\n",
    "        return 2\n",
    "    elif x < 2000:\n",
    "        return 3\n",
    "    else:\n",
    "        return 4\n",
    "    \n",
    "b.year_of_publication = b.year_of_publication.apply(year_map)\n",
    "b.to_csv('data_custom/book_1.csv', index=False)"
   ]
  },
  {
   "cell_type": "code",
   "execution_count": 77,
   "id": "52733b2b-b170-4163-b7cb-c337c8d14125",
   "metadata": {},
   "outputs": [],
   "source": [
    "a = pd.read_csv('s/output-2.csv') # 2.163674\n",
    "b = pd.read_csv('s/output-3.csv') # 2.1812\n",
    "\n",
    "e = (a['rating'] + b['rating'])/2\n",
    "a['rating'] = e\n",
    "for i in a.index:\n",
    "    if a.loc[i, 'rating'] > 10:\n",
    "        a.loc[i, 'rating'] = 10\n",
    "        \n",
    "a.to_csv('s/fm_ffm_dcn_3.8.csv', index=False)"
   ]
  },
  {
   "cell_type": "code",
   "execution_count": 76,
   "id": "5aa34280-65b8-4d7c-a52f-3e8e11411454",
   "metadata": {},
   "outputs": [],
   "source": [
    "import pandas as pd\n",
    "\n",
    "a = pd.read_csv('submit/20221103_083940_FM.csv') # 2.163674\n",
    "b = pd.read_csv('submit/20221102_063127_FFM.csv') # 2.1812\n",
    "#c = pd.read_csv('submit/20221030_073151_HOFM.csv') # 2.1695\n",
    "d = pd.read_csv('submit/DCN_ 2.1929143681151557.csv') # 2.1929143681\n",
    "w = [0.42110103, 0.2840177 , 0.29488127]\n",
    "#e = a['rating']*w[0] + b['rating']*w[1] + c['rating']*w[2]\n",
    "e = (a['rating'] + b['rating']  + d['rating'])/3\n",
    "a['rating'] = e\n",
    "for i in a.index:\n",
    "    if a.loc[i, 'rating'] > 10:\n",
    "        a.loc[i, 'rating'] = 10\n",
    "        \n",
    "a.to_csv('submit/fm_ffm_dcn_3.6.csv', index=False)\n"
   ]
  },
  {
   "cell_type": "code",
   "execution_count": 7,
   "id": "2f4945ac-a50a-4235-a0cb-7e4dad50ee21",
   "metadata": {},
   "outputs": [],
   "source": [
    "a = pd.read_csv('submit/fm_ffm_dcn.csv')\n",
    "b = pd.read_csv('submit/fm_ffm_dcn_2.1.csv') \n",
    "c = pd.read_csv('submit/fm_ffm_dcn_3.1.csv')\n",
    "e = (a['rating'] + b['rating'] + c['rating'])/3\n",
    "a['rating'] = e\n",
    "for i in a.index:\n",
    "    if a.loc[i, 'rating'] > 10:\n",
    "        a.loc[i, 'rating'] = 10\n",
    "        \n",
    "a.to_csv('submit/fm_ffm_dcn_3.2.csv', index=False)"
   ]
  },
  {
   "cell_type": "code",
   "execution_count": 23,
   "id": "6599dab4-9979-474a-8dc0-f248b2a8802c",
   "metadata": {},
   "outputs": [],
   "source": [
    "t1 = pd.read_csv('data_custom/train_ratings.csv')\n",
    "t2 = pd.read_csv('submit/fm_ffm_dcn_2.2.csv')\n",
    "\n",
    "t3 = pd.concat([t1,t2]).reset_index(drop=True)\n",
    "t3.to_csv('data_custom/train_rating_1.0.csv', index=False)\n",
    "\n"
   ]
  },
  {
   "cell_type": "code",
   "execution_count": 24,
   "id": "9778b081-0765-49b7-b761-7f4f9a7a6e65",
   "metadata": {},
   "outputs": [
    {
     "data": {
      "text/plain": [
       "2.5696908595518697"
      ]
     },
     "execution_count": 24,
     "metadata": {},
     "output_type": "execute_result"
    }
   ],
   "source": [
    "import pandas as pd\n",
    "c2c = pd.read_csv('w_c/ctoc_rating.csv')\n",
    "c = (sum((c2c.rating - 7.1)**2)/len(c2c))**0.5\n",
    "c"
   ]
  },
  {
   "cell_type": "code",
   "execution_count": 3,
   "id": "e2040c79-aff5-48d4-b6d8-96cf47bab203",
   "metadata": {},
   "outputs": [
    {
     "data": {
      "text/plain": [
       "{'rmse': 2.156229820456509,\n",
       " 'weight': array([0.25379746, 0.28894993, 0.25081127, 0.20644134])}"
      ]
     },
     "execution_count": 3,
     "metadata": {},
     "output_type": "execute_result"
    }
   ],
   "source": [
    "import numpy as np\n",
    "import pandas as pd\n",
    "def optimal_weighted(output_list: list, n:int)->dict:\n",
    "    record = {'rmse':10,'weight':[]}\n",
    "    \n",
    "    for _ in range(n):\n",
    "        random_weight = np.random.dirichlet(np.ones(len(output_list)),size=1).squeeze()\n",
    "        pred_weight_zip = zip(output_list,random_weight)\n",
    "        pred_weight_list = [pred*np.array(weight) for pred, weight in pred_weight_zip]\n",
    "        pred_result = np.sum(pred_weight_list, axis=0)\n",
    "        rmse_v = rmse(y_test,pred_result)\n",
    "        if rmse_v < record['rmse']:\n",
    "            record['rmse'] = rmse_v\n",
    "            record['weight'] = random_weight\n",
    "    return record\n",
    "def modify_range(rating):\n",
    "    if rating < 0:\n",
    "        return 0\n",
    "    elif rating > 10:\n",
    "        return 10\n",
    "    else:\n",
    "        return rating\n",
    "def rmse(real, predict):\n",
    "    pred = list(map(modify_range, predict))  \n",
    "    pred = np.array(pred)\n",
    "    return np.sqrt(np.mean((real-pred) ** 2))\n",
    "\n",
    "a = pd.read_csv('fm.csv') # 2.1696\n",
    "b = pd.read_csv('ffm.csv') # 2.1721\n",
    "c = pd.read_csv('hofm.csv')\n",
    "d = pd.read_csv('dcn.csv') # 2.2050\n",
    "y_test = a['targets']\n",
    "optimal_weighted([a['predicts'], b['predicts'], c['predicts'], d['predicts']], 100)\n",
    "#optimal_weighted([a['predicts'], b['predicts'], d['predicts']], 100)"
   ]
  },
  {
   "cell_type": "code",
   "execution_count": 15,
   "id": "7b7ff7d1-7983-4869-8724-0ae426ac3797",
   "metadata": {},
   "outputs": [
    {
     "data": {
      "text/plain": [
       "2.1562979752214755"
      ]
     },
     "execution_count": 15,
     "metadata": {},
     "output_type": "execute_result"
    }
   ],
   "source": []
  },
  {
   "cell_type": "code",
   "execution_count": 25,
   "id": "cc54ce50-6c6a-4576-b3f0-b88779933af4",
   "metadata": {
    "tags": []
   },
   "outputs": [
    {
     "data": {
      "text/html": [
       "<div>\n",
       "<style scoped>\n",
       "    .dataframe tbody tr th:only-of-type {\n",
       "        vertical-align: middle;\n",
       "    }\n",
       "\n",
       "    .dataframe tbody tr th {\n",
       "        vertical-align: top;\n",
       "    }\n",
       "\n",
       "    .dataframe thead th {\n",
       "        text-align: right;\n",
       "    }\n",
       "</style>\n",
       "<table border=\"1\" class=\"dataframe\">\n",
       "  <thead>\n",
       "    <tr style=\"text-align: right;\">\n",
       "      <th></th>\n",
       "      <th>user_id</th>\n",
       "      <th>isbn</th>\n",
       "      <th>rating</th>\n",
       "    </tr>\n",
       "  </thead>\n",
       "  <tbody>\n",
       "    <tr>\n",
       "      <th>0</th>\n",
       "      <td>2</td>\n",
       "      <td>0</td>\n",
       "      <td>6.705961</td>\n",
       "    </tr>\n",
       "    <tr>\n",
       "      <th>1</th>\n",
       "      <td>6</td>\n",
       "      <td>0</td>\n",
       "      <td>7.716805</td>\n",
       "    </tr>\n",
       "    <tr>\n",
       "      <th>2</th>\n",
       "      <td>14</td>\n",
       "      <td>1</td>\n",
       "      <td>7.576705</td>\n",
       "    </tr>\n",
       "    <tr>\n",
       "      <th>3</th>\n",
       "      <td>19</td>\n",
       "      <td>2</td>\n",
       "      <td>7.130717</td>\n",
       "    </tr>\n",
       "    <tr>\n",
       "      <th>4</th>\n",
       "      <td>29</td>\n",
       "      <td>3</td>\n",
       "      <td>7.910608</td>\n",
       "    </tr>\n",
       "    <tr>\n",
       "      <th>...</th>\n",
       "      <td>...</td>\n",
       "      <td>...</td>\n",
       "      <td>...</td>\n",
       "    </tr>\n",
       "    <tr>\n",
       "      <th>76694</th>\n",
       "      <td>12914</td>\n",
       "      <td>149546</td>\n",
       "      <td>6.344631</td>\n",
       "    </tr>\n",
       "    <tr>\n",
       "      <th>76695</th>\n",
       "      <td>42566</td>\n",
       "      <td>149551</td>\n",
       "      <td>6.194444</td>\n",
       "    </tr>\n",
       "    <tr>\n",
       "      <th>76696</th>\n",
       "      <td>7376</td>\n",
       "      <td>149556</td>\n",
       "      <td>6.911035</td>\n",
       "    </tr>\n",
       "    <tr>\n",
       "      <th>76697</th>\n",
       "      <td>49879</td>\n",
       "      <td>149561</td>\n",
       "      <td>5.333254</td>\n",
       "    </tr>\n",
       "    <tr>\n",
       "      <th>76698</th>\n",
       "      <td>4744</td>\n",
       "      <td>149566</td>\n",
       "      <td>5.817051</td>\n",
       "    </tr>\n",
       "  </tbody>\n",
       "</table>\n",
       "<p>76699 rows × 3 columns</p>\n",
       "</div>"
      ],
      "text/plain": [
       "       user_id    isbn    rating\n",
       "0            2       0  6.705961\n",
       "1            6       0  7.716805\n",
       "2           14       1  7.576705\n",
       "3           19       2  7.130717\n",
       "4           29       3  7.910608\n",
       "...        ...     ...       ...\n",
       "76694    12914  149546  6.344631\n",
       "76695    42566  149551  6.194444\n",
       "76696     7376  149556  6.911035\n",
       "76697    49879  149561  5.333254\n",
       "76698     4744  149566  5.817051\n",
       "\n",
       "[76699 rows x 3 columns]"
      ]
     },
     "execution_count": 25,
     "metadata": {},
     "output_type": "execute_result"
    }
   ],
   "source": [
    "import pandas as pd\n",
    "p = pd.read_csv('submit/fm_ffm_hofm_dcn.csv')\n",
    "u = pd.read_csv('data/users_origin.csv')\n",
    "b = pd.read_csv('data/books_origin.csv')\n",
    "\n",
    "ids = u['user_id'].unique() # 전체 유저\n",
    "isbns = b['isbn'].unique() # 전체 item\n",
    "\n",
    "idx2user = {idx:id for idx, id in enumerate(ids)} \n",
    "idx2isbn = {idx:isbn for idx, isbn in enumerate(isbns)}\n",
    "\n",
    "user2idx = {id:idx for idx, id in idx2user.items()} #label encoding\n",
    "isbn2idx = {isbn:idx for idx, isbn in idx2isbn.items()} #label encoding\n",
    "    \n",
    "p['user_id'] = p['user_id'].map(user2idx)\n",
    "p['isbn'] = p['isbn'].map(isbn2idx)\n",
    "p"
   ]
  },
  {
   "cell_type": "code",
   "execution_count": 43,
   "id": "39e3fbdf-5e13-4fee-9997-d3c836cbee56",
   "metadata": {},
   "outputs": [],
   "source": [
    "import pandas as pd\n",
    "p = pd.read_csv('submit/20221030_065318_FM.csv')\n",
    "for i in p.index:\n",
    "    if p.loc[i, 'rating'] > 10:\n",
    "        p.loc[i, 'rating'] = 10\n",
    "p.to_csv('submit/20221030_065318_FM2.csv')"
   ]
  },
  {
   "cell_type": "code",
   "execution_count": 18,
   "id": "673cbf23-b6b2-4988-a2ca-0bb2f4f4b4d2",
   "metadata": {},
   "outputs": [],
   "source": [
    "u = pd.read_csv('data_custom/users_f_location_1.1.csv')\n",
    "u.age = n\n",
    "u.to_csv('data_custom/users_f_location_2.0.csv', index=False)"
   ]
  },
  {
   "cell_type": "code",
   "execution_count": 54,
   "id": "0d0029d4-b246-48d2-848e-56c93f097a13",
   "metadata": {},
   "outputs": [],
   "source": [
    "from sklearn.tree import DecisionTreeClassifier\n",
    "from sklearn.ensemble import RandomForestClassifier\n",
    "from sklearn.model_selection import train_test_split\n",
    "from sklearn.model_selection import KFold\n",
    "\n",
    "age = pd.read_csv('age.csv')\n",
    "age.dropna(axis=0, subset=['age'],inplace=True)\n",
    "age_data = age['age']\n",
    "\n",
    "data = age.drop(columns = ['age', 'user_id', 'language', 'year_of_publication', 'location_country'])\n",
    "X_train, X_test, y_train, y_test = train_test_split(data, age_data, test_size=0.2, random_state=42)"
   ]
  },
  {
   "cell_type": "code",
   "execution_count": 3,
   "id": "aae1a31f-3d98-4ce0-bf83-7ef91d583c39",
   "metadata": {},
   "outputs": [],
   "source": [
    "import pandas as pd"
   ]
  },
  {
   "cell_type": "code",
   "execution_count": 7,
   "id": "d9530ce6-ed1e-45ec-a5f7-16a9b5a1e19a",
   "metadata": {},
   "outputs": [],
   "source": [
    "books = pd.read_csv('age_data/books.csv')\n",
    "books = books.drop_duplicates(['isbn'])\n",
    "books.to_csv('age_data/books.csv', index=False)"
   ]
  },
  {
   "cell_type": "code",
   "execution_count": 16,
   "id": "5a684928-d798-453b-8397-04958890b641",
   "metadata": {},
   "outputs": [
    {
     "data": {
      "text/plain": [
       "(306795, 383494, 76699)"
      ]
     },
     "execution_count": 16,
     "metadata": {},
     "output_type": "execute_result"
    }
   ],
   "source": [
    "books = pd.read_csv('data/train_ratings.csv')\n",
    "books2 = pd.read_csv('age_data/train_ratings.csv')\n",
    "test = pd.read_csv('data/test_ratings.csv')\n",
    "len(books), len(books2), len(test)"
   ]
  },
  {
   "cell_type": "code",
   "execution_count": 18,
   "id": "65ebb57b-e3c9-46e8-919b-3bdcab86988d",
   "metadata": {},
   "outputs": [],
   "source": [
    "books2[books2['rating'] > 0].to_csv('age_data/train_ratings.csv', index=False)"
   ]
  },
  {
   "cell_type": "code",
   "execution_count": 15,
   "id": "046e92b7-bf10-46e5-8239-04d178a8a150",
   "metadata": {},
   "outputs": [
    {
     "data": {
      "text/plain": [
       "array([ 4,  7,  8,  9,  5,  6, 10,  2,  3,  1])"
      ]
     },
     "execution_count": 15,
     "metadata": {},
     "output_type": "execute_result"
    }
   ],
   "source": [
    "books = pd.read_csv('data/train_ratings.csv')\n",
    "books['rating'].unique()"
   ]
  },
  {
   "cell_type": "code",
   "execution_count": 13,
   "id": "5769fbf3-4e5c-4a37-91c8-b0642711edc5",
   "metadata": {},
   "outputs": [
    {
     "data": {
      "text/plain": [
       "383494"
      ]
     },
     "execution_count": 13,
     "metadata": {},
     "output_type": "execute_result"
    }
   ],
   "source": [
    "books = pd.read_csv('age_data/train_ratings.csv')\n",
    "books = books.drop_duplicates(['user_id', 'isbn'])\n",
    "len(books)\n",
    "#books.to_csv('age_data/train_ratings.csv', index=False)"
   ]
  },
  {
   "cell_type": "code",
   "execution_count": 174,
   "id": "349ec5c7-af68-49a3-96f6-1b4effd0f90f",
   "metadata": {
    "tags": []
   },
   "outputs": [
    {
     "data": {
      "text/html": [
       "<div>\n",
       "<style scoped>\n",
       "    .dataframe tbody tr th:only-of-type {\n",
       "        vertical-align: middle;\n",
       "    }\n",
       "\n",
       "    .dataframe tbody tr th {\n",
       "        vertical-align: top;\n",
       "    }\n",
       "\n",
       "    .dataframe thead th {\n",
       "        text-align: right;\n",
       "    }\n",
       "</style>\n",
       "<table border=\"1\" class=\"dataframe\">\n",
       "  <thead>\n",
       "    <tr style=\"text-align: right;\">\n",
       "      <th></th>\n",
       "      <th>user_id</th>\n",
       "      <th>isbn</th>\n",
       "      <th>rating</th>\n",
       "      <th>age</th>\n",
       "      <th>location_city</th>\n",
       "      <th>location_state</th>\n",
       "      <th>location_country</th>\n",
       "      <th>category</th>\n",
       "      <th>publisher</th>\n",
       "      <th>language</th>\n",
       "      <th>book_author</th>\n",
       "      <th>year_of_publication</th>\n",
       "    </tr>\n",
       "  </thead>\n",
       "  <tbody>\n",
       "    <tr>\n",
       "      <th>0</th>\n",
       "      <td>0</td>\n",
       "      <td>0</td>\n",
       "      <td>4</td>\n",
       "      <td>3.0</td>\n",
       "      <td>0</td>\n",
       "      <td>0</td>\n",
       "      <td>0</td>\n",
       "      <td>0</td>\n",
       "      <td>0</td>\n",
       "      <td>0</td>\n",
       "      <td>0</td>\n",
       "      <td>5</td>\n",
       "    </tr>\n",
       "    <tr>\n",
       "      <th>1</th>\n",
       "      <td>1</td>\n",
       "      <td>0</td>\n",
       "      <td>7</td>\n",
       "      <td>3.0</td>\n",
       "      <td>1</td>\n",
       "      <td>0</td>\n",
       "      <td>0</td>\n",
       "      <td>0</td>\n",
       "      <td>0</td>\n",
       "      <td>0</td>\n",
       "      <td>0</td>\n",
       "      <td>5</td>\n",
       "    </tr>\n",
       "    <tr>\n",
       "      <th>2</th>\n",
       "      <td>2</td>\n",
       "      <td>0</td>\n",
       "      <td>8</td>\n",
       "      <td>3.0</td>\n",
       "      <td>2</td>\n",
       "      <td>0</td>\n",
       "      <td>0</td>\n",
       "      <td>0</td>\n",
       "      <td>0</td>\n",
       "      <td>0</td>\n",
       "      <td>0</td>\n",
       "      <td>5</td>\n",
       "    </tr>\n",
       "    <tr>\n",
       "      <th>3</th>\n",
       "      <td>3</td>\n",
       "      <td>0</td>\n",
       "      <td>8</td>\n",
       "      <td>3.0</td>\n",
       "      <td>3</td>\n",
       "      <td>0</td>\n",
       "      <td>0</td>\n",
       "      <td>0</td>\n",
       "      <td>0</td>\n",
       "      <td>0</td>\n",
       "      <td>0</td>\n",
       "      <td>5</td>\n",
       "    </tr>\n",
       "    <tr>\n",
       "      <th>4</th>\n",
       "      <td>4</td>\n",
       "      <td>0</td>\n",
       "      <td>9</td>\n",
       "      <td>3.0</td>\n",
       "      <td>4</td>\n",
       "      <td>0</td>\n",
       "      <td>0</td>\n",
       "      <td>0</td>\n",
       "      <td>0</td>\n",
       "      <td>0</td>\n",
       "      <td>0</td>\n",
       "      <td>5</td>\n",
       "    </tr>\n",
       "    <tr>\n",
       "      <th>...</th>\n",
       "      <td>...</td>\n",
       "      <td>...</td>\n",
       "      <td>...</td>\n",
       "      <td>...</td>\n",
       "      <td>...</td>\n",
       "      <td>...</td>\n",
       "      <td>...</td>\n",
       "      <td>...</td>\n",
       "      <td>...</td>\n",
       "      <td>...</td>\n",
       "      <td>...</td>\n",
       "      <td>...</td>\n",
       "    </tr>\n",
       "    <tr>\n",
       "      <th>383489</th>\n",
       "      <td>7728</td>\n",
       "      <td>149565</td>\n",
       "      <td>0</td>\n",
       "      <td>3.0</td>\n",
       "      <td>3070</td>\n",
       "      <td>5</td>\n",
       "      <td>1</td>\n",
       "      <td>41</td>\n",
       "      <td>160</td>\n",
       "      <td>0</td>\n",
       "      <td>1275</td>\n",
       "      <td>4</td>\n",
       "    </tr>\n",
       "    <tr>\n",
       "      <th>383490</th>\n",
       "      <td>47785</td>\n",
       "      <td>149566</td>\n",
       "      <td>0</td>\n",
       "      <td>3.0</td>\n",
       "      <td>323</td>\n",
       "      <td>102</td>\n",
       "      <td>18</td>\n",
       "      <td>1</td>\n",
       "      <td>69</td>\n",
       "      <td>2</td>\n",
       "      <td>10774</td>\n",
       "      <td>4</td>\n",
       "    </tr>\n",
       "    <tr>\n",
       "      <th>383491</th>\n",
       "      <td>4209</td>\n",
       "      <td>149567</td>\n",
       "      <td>0</td>\n",
       "      <td>3.0</td>\n",
       "      <td>20</td>\n",
       "      <td>13</td>\n",
       "      <td>1</td>\n",
       "      <td>3</td>\n",
       "      <td>433</td>\n",
       "      <td>0</td>\n",
       "      <td>62056</td>\n",
       "      <td>5</td>\n",
       "    </tr>\n",
       "    <tr>\n",
       "      <th>383492</th>\n",
       "      <td>40779</td>\n",
       "      <td>149568</td>\n",
       "      <td>0</td>\n",
       "      <td>4.0</td>\n",
       "      <td>210</td>\n",
       "      <td>67</td>\n",
       "      <td>13</td>\n",
       "      <td>5</td>\n",
       "      <td>405</td>\n",
       "      <td>1</td>\n",
       "      <td>62057</td>\n",
       "      <td>5</td>\n",
       "    </tr>\n",
       "    <tr>\n",
       "      <th>383493</th>\n",
       "      <td>1879</td>\n",
       "      <td>149569</td>\n",
       "      <td>0</td>\n",
       "      <td>3.0</td>\n",
       "      <td>19</td>\n",
       "      <td>10</td>\n",
       "      <td>1</td>\n",
       "      <td>6</td>\n",
       "      <td>116</td>\n",
       "      <td>0</td>\n",
       "      <td>62058</td>\n",
       "      <td>5</td>\n",
       "    </tr>\n",
       "  </tbody>\n",
       "</table>\n",
       "<p>383494 rows × 12 columns</p>\n",
       "</div>"
      ],
      "text/plain": [
       "        user_id    isbn  rating  age  location_city  location_state  \\\n",
       "0             0       0       4  3.0              0               0   \n",
       "1             1       0       7  3.0              1               0   \n",
       "2             2       0       8  3.0              2               0   \n",
       "3             3       0       8  3.0              3               0   \n",
       "4             4       0       9  3.0              4               0   \n",
       "...         ...     ...     ...  ...            ...             ...   \n",
       "383489     7728  149565       0  3.0           3070               5   \n",
       "383490    47785  149566       0  3.0            323             102   \n",
       "383491     4209  149567       0  3.0             20              13   \n",
       "383492    40779  149568       0  4.0            210              67   \n",
       "383493     1879  149569       0  3.0             19              10   \n",
       "\n",
       "        location_country  category  publisher  language  book_author  \\\n",
       "0                      0         0          0         0            0   \n",
       "1                      0         0          0         0            0   \n",
       "2                      0         0          0         0            0   \n",
       "3                      0         0          0         0            0   \n",
       "4                      0         0          0         0            0   \n",
       "...                  ...       ...        ...       ...          ...   \n",
       "383489                 1        41        160         0         1275   \n",
       "383490                18         1         69         2        10774   \n",
       "383491                 1         3        433         0        62056   \n",
       "383492                13         5        405         1        62057   \n",
       "383493                 1         6        116         0        62058   \n",
       "\n",
       "        year_of_publication  \n",
       "0                         5  \n",
       "1                         5  \n",
       "2                         5  \n",
       "3                         5  \n",
       "4                         5  \n",
       "...                     ...  \n",
       "383489                    4  \n",
       "383490                    4  \n",
       "383491                    5  \n",
       "383492                    5  \n",
       "383493                    5  \n",
       "\n",
       "[383494 rows x 12 columns]"
      ]
     },
     "execution_count": 174,
     "metadata": {},
     "output_type": "execute_result"
    }
   ],
   "source": [
    "a = pd.read_csv('age.csv')\n",
    "b = pd.read_csv('data_custom/get_age.csv')\n",
    "c = b['age']\n",
    "d = []\n",
    "index = 0\n",
    "for i in a.index:\n",
    "    if np.isnan(a.loc[i, 'age']):\n",
    "        d.append(c[index])\n",
    "        index += 1\n",
    "\n",
    "    else:\n",
    "        d.append(a.loc[i, 'age'])\n",
    "a['age'] = d\n",
    "a"
   ]
  },
  {
   "cell_type": "code",
   "execution_count": 176,
   "id": "f98ae240-b842-435f-8b60-750482993a4b",
   "metadata": {},
   "outputs": [],
   "source": [
    "a.loc[:, ['user_id', 'age', 'location_city', 'location_state', 'location_country']].to_csv('age_data/users.csv', index=False)\n",
    "a.loc[:, ['user_id', 'isbn', 'rating']].to_csv('age_data/train_ratings.csv',index=False)\n",
    "a.loc[:, ['isbn', 'category', 'publisher', 'language', 'book_author', 'year_of_publication']].to_csv('age_data/books.csv', index=False)\n"
   ]
  },
  {
   "cell_type": "code",
   "execution_count": 171,
   "id": "8342fd2b-9ae7-42b0-ad70-48469c9416ef",
   "metadata": {},
   "outputs": [
    {
     "data": {
      "text/plain": [
       "115787"
      ]
     },
     "execution_count": 171,
     "metadata": {},
     "output_type": "execute_result"
    }
   ],
   "source": [
    "a['age'].isna().sum()"
   ]
  },
  {
   "cell_type": "code",
   "execution_count": 55,
   "id": "23c7a3ee-cdee-4ff2-9d28-c96b630384b7",
   "metadata": {
    "collapsed": true,
    "jupyter": {
     "outputs_hidden": true
    },
    "tags": []
   },
   "outputs": [
    {
     "name": "stdout",
     "output_type": "stream",
     "text": [
      " Max Depth  Average Accuracy\n",
      "         1          0.314165\n",
      "         2          0.314336\n",
      "         3          0.351216\n",
      "         4          0.359266\n",
      "         5          0.365661\n",
      "         6          0.373385\n",
      "         7          0.383120\n",
      "         8          0.395970\n",
      "         9          0.413040\n",
      "        10          0.430526\n",
      "        11          0.447241\n",
      "        12          0.466281\n",
      "        13          0.484442\n",
      "        14          0.500855\n",
      "        15          0.519346\n",
      "        16          0.533686\n",
      "        17          0.548321\n",
      "        18          0.559139\n",
      "        19          0.569445\n",
      "        20          0.578383\n",
      "        21          0.582855\n",
      "        22          0.587587\n",
      "        23          0.590639\n",
      "        24          0.592402\n",
      "        25          0.594670\n",
      "        26          0.597852\n",
      "        27          0.595794\n",
      "        28          0.596306\n",
      "        29          0.599141\n"
     ]
    }
   ],
   "source": [
    "cv = KFold(n_splits=5)            # Desired number of Cross Validation folds  #n_splits값이 클수록 오래걸림\n",
    "accuracies = list()\n",
    "max_attributes = X_test.shape[1]\n",
    "depth_range = range(1, 30)\n",
    "\n",
    "# Testing max_depths from 1 to max attributes\n",
    "# Uncomment prints for details about each Cross Validation pass\n",
    "for depth in depth_range:\n",
    "    fold_accuracy = []\n",
    "    rand_clf = RandomForestClassifier(max_depth = depth)\n",
    "    # print(\"Current max depth: \", depth, \"\\n\")\n",
    "    for train_fold, valid_fold in cv.split(train):\n",
    "        f_train = train.loc[train_fold] # Extract train data with cv indices\n",
    "        f_valid = train.loc[valid_fold] # Extract valid data with cv indices\n",
    "\n",
    "        model = rand_clf.fit(X_train, y_train)\n",
    "        valid_acc = model.score(X_test, y_test)\n",
    "        fold_accuracy.append(valid_acc)\n",
    "\n",
    "    avg = sum(fold_accuracy)/len(fold_accuracy)\n",
    "    accuracies.append(avg)\n",
    "    # print(\"Accuracy per fold: \", fold_accuracy, \"\\n\")\n",
    "    # print(\"Average accuracy: \", avg)\n",
    "    # print(\"\\n\")\n",
    "    # 29\n",
    "# Just to show results conveniently\n",
    "df = pd.DataFrame({\"Max Depth\": depth_range, \"Average Accuracy\": accuracies})\n",
    "df = df[[\"Max Depth\", \"Average Accuracy\"]]\n",
    "print(df.to_string(index=False))"
   ]
  },
  {
   "cell_type": "code",
   "execution_count": 26,
   "id": "3033bb1a-24d8-4a1f-9bed-fdee0f147eb5",
   "metadata": {},
   "outputs": [],
   "source": [
    "from sklearn.tree import DecisionTreeClassifier\n",
    "from sklearn.ensemble import RandomForestClassifier\n",
    "from sklearn.model_selection import train_test_split\n",
    "from sklearn.model_selection import KFold\n",
    "\n",
    "age = pd.read_csv('age.csv')\n",
    "age = age[age['rating']>0]\n",
    "age['age'] = age['age'].fillna(3)\n",
    "rating_data = age['rating']\n",
    "\n",
    "data = age.drop(columns = ['rating'])\n",
    "X_train, X_test, y_train, y_test = train_test_split(data, rating_data, test_size=0.2, random_state=42)"
   ]
  },
  {
   "cell_type": "code",
   "execution_count": 27,
   "id": "c784232b-8dac-4cdb-a940-ccda97f7b49f",
   "metadata": {},
   "outputs": [
    {
     "name": "stdout",
     "output_type": "stream",
     "text": [
      "훈련세트 정확도: 1.000\n",
      "테스트세트 정확도: 0.251\n"
     ]
    }
   ],
   "source": [
    "rand_clf = RandomForestClassifier(criterion='entropy', bootstrap=True, random_state=42, max_depth=29)\n",
    "\n",
    "rand_clf.fit(X_train, y_train)\n",
    "y_pred = rand_clf.predict(X_test)\n",
    "\n",
    "print('훈련세트 정확도: {:.3f}' .format(rand_clf.score(X_train, y_train)))\n",
    "print('테스트세트 정확도: {:.3f}' .format(rand_clf.score(X_test, y_test)))"
   ]
  },
  {
   "cell_type": "code",
   "execution_count": 33,
   "id": "4cc82c21-12bd-4fff-b9f0-88c4ec1f32ff",
   "metadata": {},
   "outputs": [
    {
     "data": {
      "text/plain": [
       "Index(['user_id', 'isbn', 'rating', 'age', 'location_city', 'location_state',\n",
       "       'location_country', 'category', 'publisher', 'language', 'book_author',\n",
       "       'year_of_publication'],\n",
       "      dtype='object')"
      ]
     },
     "execution_count": 33,
     "metadata": {},
     "output_type": "execute_result"
    }
   ],
   "source": [
    "col = ['user_id', 'isbn', 'age', 'location_city', 'location_state',\n",
    "       'location_country', 'category', 'publisher', 'language', 'book_author',\n",
    "       'year_of_publication']\n",
    "age.columns"
   ]
  },
  {
   "cell_type": "code",
   "execution_count": 34,
   "id": "ba52a231-3ec3-45a6-a8cf-7944e516ac23",
   "metadata": {
    "collapsed": true,
    "jupyter": {
     "outputs_hidden": true
    },
    "tags": []
   },
   "outputs": [
    {
     "name": "stdout",
     "output_type": "stream",
     "text": [
      "Feature importances:\n",
      "[0.143 0.173 0.029 0.127 0.101 0.023 0.052 0.133 0.024 0.161 0.034]\n",
      "user_id : 0.143\n",
      "isbn : 0.173\n",
      "age : 0.029\n",
      "location_city : 0.127\n",
      "location_state : 0.101\n",
      "location_country : 0.023\n",
      "category : 0.052\n",
      "publisher : 0.133\n",
      "language : 0.024\n",
      "book_author : 0.161\n",
      "year_of_publication : 0.034\n"
     ]
    },
    {
     "data": {
      "text/plain": [
       "<AxesSubplot: >"
      ]
     },
     "execution_count": 34,
     "metadata": {},
     "output_type": "execute_result"
    },
    {
     "data": {
      "image/png": "[encoded data removed]",
      "text/plain": [
       "<Figure size 640x480 with 1 Axes>"
      ]
     },
     "metadata": {},
     "output_type": "display_data"
    }
   ],
   "source": [
    "import seaborn as sns\n",
    "import numpy as np\n",
    "%matplotlib inline\n",
    "\n",
    "# feature importance 추출 \n",
    "print(\"Feature importances:\\n{0}\".format(np.round(rand_clf.feature_importances_, 3)))\n",
    "\n",
    "# feature별 importance 매핑\n",
    "for name, value in zip(col , rand_clf.feature_importances_):\n",
    "    print('{0} : {1:.3f}'.format(name, value))\n",
    "\n",
    "# feature importance를 column 별로 시각화 하기 \n",
    "sns.barplot(x=rand_clf.feature_importances_ , y=col)"
   ]
  },
  {
   "cell_type": "code",
   "execution_count": 49,
   "id": "7640d58c-6151-4ab8-840d-0fc944a29329",
   "metadata": {
    "tags": []
   },
   "outputs": [
    {
     "name": "stdout",
     "output_type": "stream",
     "text": [
      "훈련세트 정확도: 0.998\n",
      "테스트세트 정확도: 0.615\n"
     ]
    }
   ],
   "source": [
    "rand_clf = RandomForestClassifier(criterion='entropy', bootstrap=True, random_state=42, max_depth=29)\n",
    "\n",
    "rand_clf.fit(X_train, y_train)\n",
    "y_pred = rand_clf.predict(X_test)\n",
    "\n",
    "print('훈련세트 정확도: {:.3f}' .format(rand_clf.score(X_train, y_train)))\n",
    "print('테스트세트 정확도: {:.3f}' .format(rand_clf.score(X_test, y_test)))"
   ]
  },
  {
   "cell_type": "code",
   "execution_count": 52,
   "id": "58fee235-72d4-4ad8-8da6-a679425348bd",
   "metadata": {},
   "outputs": [],
   "source": [
    "col = ['isbn', 'rating', 'location_city', 'location_state',\n",
    "       'category', 'publisher', 'book_author']"
   ]
  },
  {
   "cell_type": "code",
   "execution_count": 53,
   "id": "abfa9b71-a2d7-43cc-a83a-319de9833b1b",
   "metadata": {
    "collapsed": true,
    "jupyter": {
     "outputs_hidden": true
    },
    "tags": []
   },
   "outputs": [
    {
     "name": "stdout",
     "output_type": "stream",
     "text": [
      "Feature importances:\n",
      "[0.16  0.083 0.235 0.135 0.034 0.047 0.115 0.02  0.144 0.029]\n",
      "isbn : 0.160\n",
      "rating : 0.083\n",
      "location_city : 0.235\n",
      "location_state : 0.135\n",
      "location_country : 0.034\n",
      "category : 0.047\n",
      "publisher : 0.115\n",
      "language : 0.020\n",
      "book_author : 0.144\n",
      "year_of_publication : 0.029\n"
     ]
    },
    {
     "data": {
      "text/plain": [
       "<AxesSubplot: >"
      ]
     },
     "execution_count": 53,
     "metadata": {},
     "output_type": "execute_result"
    },
    {
     "data": {
      "image/png": "[encoded data removed]",
      "text/plain": [
       "<Figure size 640x480 with 1 Axes>"
      ]
     },
     "metadata": {},
     "output_type": "display_data"
    }
   ],
   "source": [
    "import seaborn as sns\n",
    "import numpy as np\n",
    "%matplotlib inline\n",
    "\n",
    "# feature importance 추출 \n",
    "print(\"Feature importances:\\n{0}\".format(np.round(rand_clf.feature_importances_, 3)))\n",
    "\n",
    "# feature별 importance 매핑\n",
    "for name, value in zip(col , rand_clf.feature_importances_):\n",
    "    print('{0} : {1:.3f}'.format(name, value))\n",
    "\n",
    "# feature importance를 column 별로 시각화 하기 \n",
    "sns.barplot(x=rand_clf.feature_importances_ , y=col)"
   ]
  },
  {
   "cell_type": "code",
   "execution_count": 7,
   "id": "e98f82e2-99bc-4781-a361-072e034a2bfa",
   "metadata": {
    "collapsed": true,
    "jupyter": {
     "outputs_hidden": true
    },
    "tags": []
   },
   "outputs": [
    {
     "name": "stdout",
     "output_type": "stream",
     "text": [
      "--------------- DeepCoNN Load Data ---------------\n",
      "[nltk_data] Downloading package punkt to /opt/ml/nltk_data...\n",
      "[nltk_data]   Package punkt is already up-to-date!\n",
      "Some weights of the model checkpoint at bert-base-uncased were not used when initializing BertModel: ['cls.seq_relationship.weight', 'cls.predictions.transform.LayerNorm.bias', 'cls.predictions.decoder.weight', 'cls.predictions.transform.dense.bias', 'cls.predictions.transform.LayerNorm.weight', 'cls.predictions.transform.dense.weight', 'cls.seq_relationship.bias', 'cls.predictions.bias']\n",
      "- This IS expected if you are initializing BertModel from the checkpoint of a model trained on another task or with another architecture (e.g. initializing a BertForSequenceClassification model from a BertForPreTraining model).\n",
      "- This IS NOT expected if you are initializing BertModel from the checkpoint of a model that you expect to be exactly identical (initializing a BertForSequenceClassification model from a BertForSequenceClassification model).\n",
      "Check Vectorizer\n",
      "Vector Load\n",
      "Some weights of the model checkpoint at bert-base-uncased were not used when initializing BertModel: ['cls.seq_relationship.weight', 'cls.predictions.transform.LayerNorm.bias', 'cls.predictions.decoder.weight', 'cls.predictions.transform.dense.bias', 'cls.predictions.transform.LayerNorm.weight', 'cls.predictions.transform.dense.weight', 'cls.seq_relationship.bias', 'cls.predictions.bias']\n",
      "- This IS expected if you are initializing BertModel from the checkpoint of a model trained on another task or with another architecture (e.g. initializing a BertForSequenceClassification model from a BertForPreTraining model).\n",
      "- This IS NOT expected if you are initializing BertModel from the checkpoint of a model that you expect to be exactly identical (initializing a BertForSequenceClassification model from a BertForSequenceClassification model).\n",
      "Check Vectorizer\n",
      "Vector Load\n",
      "--------------- DeepCoNN Train/Valid Split ---------------\n",
      "--------------- INIT DeepCoNN ---------------\n",
      "--------------- DeepCoNN TRAINING ---------------\n",
      "  0%|                                                    | 0/50 [00:00<?, ?it/s]train_loss: 9.755519491434097 valid_loss: 2.810731558005015\n",
      "  2%|▏         | 1/50 [00:19<16:00, 19.61s/it, train_loss=9.76, valid_loss=2.81]train_loss: 3.8707347999016446 valid_loss: 1.9914778093496959\n",
      "  4%|▍         | 2/50 [00:37<15:09, 18.94s/it, train_loss=3.87, valid_loss=1.99]train_loss: 3.1582899500926334 valid_loss: 1.7081257363160451\n",
      "  6%|▌         | 3/50 [00:55<14:35, 18.62s/it, train_loss=3.16, valid_loss=1.71]train_loss: 2.8855558067560194 valid_loss: 1.5863179922103883\n",
      "  8%|▊         | 4/50 [01:14<14:11, 18.51s/it, train_loss=2.89, valid_loss=1.59]train_loss: 2.680593192577362 valid_loss: 1.526598459482193\n",
      " 10%|█         | 5/50 [01:33<14:01, 18.70s/it, train_loss=2.68, valid_loss=1.53]train_loss: 2.5067544748385746 valid_loss: 1.4840194245179494\n",
      " 12%|█▏        | 6/50 [01:52<13:44, 18.74s/it, train_loss=2.51, valid_loss=1.48]train_loss: 2.3274196118116377 valid_loss: 1.4588282922903697\n",
      " 14%|█▍        | 7/50 [02:12<13:30, 18.86s/it, train_loss=2.33, valid_loss=1.46]train_loss: 2.153259572386742 valid_loss: 1.438078894217809\n",
      " 16%|█▌        | 8/50 [02:32<13:23, 19.12s/it, train_loss=2.15, valid_loss=1.44]train_loss: 1.9942997684081396 valid_loss: 1.4255728562672934\n",
      " 18%|█▊        | 9/50 [02:52<13:05, 19.16s/it, train_loss=1.99, valid_loss=1.43]train_loss: 1.8494174381097157 valid_loss: 1.4132292151451111\n",
      " 20%|█▊       | 10/50 [03:13<12:52, 19.31s/it, train_loss=1.85, valid_loss=1.41]train_loss: 1.7193159997463225 valid_loss: 1.3936136782169342\n",
      " 22%|█▉       | 11/50 [03:33<12:36, 19.40s/it, train_loss=1.72, valid_loss=1.39]train_loss: 1.6034710129102072 valid_loss: 1.370168008406957\n",
      " 24%|██▍       | 12/50 [03:52<12:15, 19.35s/it, train_loss=1.6, valid_loss=1.37]train_loss: 1.4996077919999757 valid_loss: 1.3370864868164063\n",
      " 26%|██▌       | 13/50 [04:12<11:59, 19.43s/it, train_loss=1.5, valid_loss=1.34]train_loss: 1.4119313091039658 valid_loss: 1.300381245215734\n",
      " 28%|██▊       | 14/50 [04:33<11:43, 19.53s/it, train_loss=1.41, valid_loss=1.3]train_loss: 1.3359391748905183 valid_loss: 1.26175696849823\n",
      " 30%|██▋      | 15/50 [04:53<11:25, 19.58s/it, train_loss=1.34, valid_loss=1.26]train_loss: 1.2738575731714568 valid_loss: 1.2195609927177429\n",
      " 32%|██▉      | 16/50 [05:13<11:06, 19.60s/it, train_loss=1.27, valid_loss=1.22]train_loss: 1.217173731327057 valid_loss: 1.1832771678765615\n",
      " 34%|███      | 17/50 [05:35<10:50, 19.72s/it, train_loss=1.22, valid_loss=1.18]train_loss: 1.1685618336002033 valid_loss: 1.1408470193545024\n",
      " 36%|███▏     | 18/50 [05:55<10:32, 19.76s/it, train_loss=1.17, valid_loss=1.14]train_loss: 1.1249407803018887 valid_loss: 1.1054451247056325\n",
      " 38%|███▍     | 19/50 [06:15<10:12, 19.76s/it, train_loss=1.12, valid_loss=1.11]train_loss: 1.0853816812237105 valid_loss: 1.0659017364184062\n",
      " 40%|███▌     | 20/50 [06:34<09:52, 19.75s/it, train_loss=1.09, valid_loss=1.07]train_loss: 1.048240802437067 valid_loss: 1.0343826154867808\n",
      " 42%|███▊     | 21/50 [06:56<09:35, 19.84s/it, train_loss=1.05, valid_loss=1.03]train_loss: 1.015471992144982 valid_loss: 0.9993021686871847\n",
      " 44%|███▌    | 22/50 [07:16<09:15, 19.84s/it, train_loss=1.02, valid_loss=0.999]train_loss: 0.9825130288799604 valid_loss: 0.9707818607489268\n",
      " 46%|███▏   | 23/50 [07:36<08:55, 19.83s/it, train_loss=0.983, valid_loss=0.971]train_loss: 0.9526074565947056 valid_loss: 0.9413884083429972\n",
      " 48%|███▎   | 24/50 [07:55<08:35, 19.83s/it, train_loss=0.953, valid_loss=0.941]train_loss: 0.9252165677646796 valid_loss: 0.9146781504154206\n",
      " 50%|███▌   | 25/50 [08:17<08:17, 19.89s/it, train_loss=0.925, valid_loss=0.915]train_loss: 0.8996952243149281 valid_loss: 0.8899572889010111\n",
      " 52%|█████▏    | 26/50 [08:36<07:56, 19.86s/it, train_loss=0.9, valid_loss=0.89]train_loss: 0.8753243813912074 valid_loss: 0.867033435901006\n",
      " 54%|███▊   | 27/50 [08:56<07:36, 19.86s/it, train_loss=0.875, valid_loss=0.867]train_loss: 0.8491848312318325 valid_loss: 0.8393659353256225\n",
      " 56%|███▉   | 28/50 [09:16<07:17, 19.87s/it, train_loss=0.849, valid_loss=0.839]train_loss: 0.8237820689876875 valid_loss: 0.8149761299292246\n",
      " 58%|████   | 29/50 [09:36<06:57, 19.88s/it, train_loss=0.824, valid_loss=0.815]train_loss: 0.7986007253328959 valid_loss: 0.7928776999314626\n",
      " 60%|████▏  | 30/50 [09:56<06:37, 19.87s/it, train_loss=0.799, valid_loss=0.793]train_loss: 0.7736720338463783 valid_loss: 0.7693613270918528\n",
      " 62%|████▎  | 31/50 [10:17<06:18, 19.91s/it, train_loss=0.774, valid_loss=0.769]train_loss: 0.749327028542757 valid_loss: 0.7449330161015193\n",
      " 64%|████▍  | 32/50 [10:37<05:58, 19.92s/it, train_loss=0.749, valid_loss=0.745]train_loss: 0.7264216654002666 valid_loss: 0.724733246366183\n",
      " 66%|████▌  | 33/50 [10:56<05:37, 19.88s/it, train_loss=0.726, valid_loss=0.725]train_loss: 0.7054249626894792 valid_loss: 0.7034949630498886\n",
      " 68%|████▊  | 34/50 [11:15<05:17, 19.86s/it, train_loss=0.705, valid_loss=0.703]train_loss: 0.6851851145426432 valid_loss: 0.6842073460419973\n",
      " 70%|████▉  | 35/50 [11:36<04:58, 19.90s/it, train_loss=0.685, valid_loss=0.684]train_loss: 0.6676014433304469 valid_loss: 0.6691317607959112\n",
      " 72%|█████  | 36/50 [11:56<04:38, 19.91s/it, train_loss=0.668, valid_loss=0.669]train_loss: 0.6505320419867834 valid_loss: 0.653572357694308\n",
      " 74%|█████▏ | 37/50 [12:16<04:18, 19.90s/it, train_loss=0.651, valid_loss=0.654]train_loss: 0.6356774064401786 valid_loss: 0.6370488117138545\n",
      " 76%|█████▎ | 38/50 [12:37<03:59, 19.94s/it, train_loss=0.636, valid_loss=0.637]train_loss: 0.6219738607605299 valid_loss: 0.6210229595502218\n",
      " 78%|█████▍ | 39/50 [12:58<03:39, 19.97s/it, train_loss=0.622, valid_loss=0.621]train_loss: 0.6082234834631284 valid_loss: 0.607202610373497\n",
      " 80%|█████▌ | 40/50 [13:17<03:19, 19.93s/it, train_loss=0.608, valid_loss=0.607]train_loss: 0.5945816998680432 valid_loss: 0.5949912001689275\n",
      " 82%|█████▋ | 41/50 [13:37<02:59, 19.94s/it, train_loss=0.595, valid_loss=0.595]train_loss: 0.5829031358162562 valid_loss: 0.581358794371287\n",
      " 84%|█████▉ | 42/50 [13:58<02:39, 19.97s/it, train_loss=0.583, valid_loss=0.581]train_loss: 0.5713292886813481 valid_loss: 0.5690874417622884\n",
      " 86%|██████ | 43/50 [14:17<02:19, 19.95s/it, train_loss=0.571, valid_loss=0.569]train_loss: 0.5592060469090938 valid_loss: 0.5573491324981054\n",
      " 88%|██████▏| 44/50 [14:37<01:59, 19.94s/it, train_loss=0.559, valid_loss=0.557]train_loss: 0.5473482144375642 valid_loss: 0.548302165667216\n",
      " 90%|██████▎| 45/50 [14:58<01:39, 19.97s/it, train_loss=0.547, valid_loss=0.548]train_loss: 0.5368147416661183 valid_loss: 0.5342151800791423\n",
      " 92%|██████▍| 46/50 [15:22<01:20, 20.06s/it, train_loss=0.537, valid_loss=0.534]train_loss: 0.5261562367280325 valid_loss: 0.5236347377300262\n",
      " 94%|██████▌| 47/50 [15:43<01:00, 20.07s/it, train_loss=0.526, valid_loss=0.524]train_loss: 0.5152263373136521 valid_loss: 0.5137193024158477\n",
      " 96%|██████▋| 48/50 [16:04<00:40, 20.09s/it, train_loss=0.515, valid_loss=0.514]train_loss: 0.5059586506336927 valid_loss: 0.5028354848424593\n",
      " 98%|██████▊| 49/50 [16:25<00:20, 20.11s/it, train_loss=0.506, valid_loss=0.503]train_loss: 0.4963826914628347 valid_loss: 0.49314550757408143\n",
      "100%|███████| 50/50 [16:45<00:00, 20.10s/it, train_loss=0.496, valid_loss=0.493]\n",
      "--------------- DeepCoNN PREDICT ---------------\n",
      "--------------- SAVE DeepCoNN PREDICT ---------------\n"
     ]
    }
   ],
   "source": [
    "!python3 main.py --MODEL DeepCoNN --DATA_PATH data/ --SEED 42 --BATCH_SIZE 1024 --EPOCHS 50 --EX_VAL_LOSS 0.297 --LOAD_MODEL text_model.pt"
   ]
  },
  {
   "cell_type": "code",
   "execution_count": 19,
   "id": "98538fe2-aa21-428a-a464-78c4eaaea80f",
   "metadata": {},
   "outputs": [],
   "source": [
    "import pandas as pd\n",
    "\n",
    "users = pd.read_csv('data/' + 'users_origin.csv')\n",
    "#users_origin = pd.read_csv('data/' + 'users_origin.csv')\n",
    "books = pd.read_csv('data_custom/' + 'books_2.csv')\n",
    "train, test = pd.read_csv('data/train_ratings.csv'), pd.read_csv('data/test_ratings.csv')\n",
    "sub = pd.read_csv('data/' + 'sample_submission.csv')"
   ]
  },
  {
   "cell_type": "code",
   "execution_count": 20,
   "id": "c93a98ce-bc4e-4cf8-aa8d-28169a8125fb",
   "metadata": {},
   "outputs": [
    {
     "data": {
      "text/plain": [
       "Index(['isbn', 'book_title', 'book_author', 'year_of_publication', 'publisher',\n",
       "       'img_url', 'language', 'category', 'summary', 'img_path'],\n",
       "      dtype='object')"
      ]
     },
     "execution_count": 20,
     "metadata": {},
     "output_type": "execute_result"
    }
   ],
   "source": [
    "books.columns"
   ]
  },
  {
   "cell_type": "code",
   "execution_count": 14,
   "id": "c8b25612-8fca-485c-8e9b-791f5e65bec5",
   "metadata": {},
   "outputs": [],
   "source": [
    "def age_map(x: int) -> int:\n",
    "    x = int(x)\n",
    "    if x < 20:\n",
    "        return 1\n",
    "    elif x >= 20 and x < 30:\n",
    "        return 2\n",
    "    elif x >= 30 and x < 40:\n",
    "        return 3\n",
    "    elif x >= 40 and x < 50:\n",
    "        return 4\n",
    "    elif x >= 50 and x < 60:\n",
    "        return 5\n",
    "    else:\n",
    "        return 6 "
   ]
  },
  {
   "cell_type": "code",
   "execution_count": 4,
   "id": "8ea56f2c-dda7-4353-ac35-703311ac71b0",
   "metadata": {
    "tags": []
   },
   "outputs": [],
   "source": [
    "import pandas as pd\n",
    "p = pd.read_csv('context_df.csv')#.drop(['n_id'], axis=1)\n",
    "train_df = p#.loc[:, ['user_id', 'isbn', 'age','rating']]\n",
    "\n",
    "# train_df['age'] = train_df['age'].fillna(int(train_df['age'].mean()))\n",
    "# train_df['age'] = train_df['age'].apply(age_map)\n",
    "\n",
    "train_df = pd.get_dummies(\n",
    "    train_df,\n",
    "    columns=['location_city', 'location_state', 'location_country', 'language'])\n",
    "\n",
    "train_df = train_df.dropna(axis=0, subset=['age'])\n",
    "train_df['age'] = train_df['age'].apply(age_map)\n",
    "\n",
    "from sklearn.model_selection import train_test_split\n",
    "#l = ['rating', 'n_id', 'location_city', 'location_state', 'location_country']\n",
    "X_train, X_test, y_train, y_test = train_test_split(train_df.drop(['age', 'rating'], axis=1), train_df['age'], \n",
    "                                                    test_size=0.2, shuffle=True, random_state=8746)\n"
   ]
  },
  {
   "cell_type": "code",
   "execution_count": 10,
   "id": "ec5ba6e4-1825-429a-9fe6-2af4a3db4a79",
   "metadata": {
    "tags": []
   },
   "outputs": [],
   "source": [
    "p = pd.read_csv('df_train.csv')#.drop(['n_id'], axis=1)\n",
    "train_df = p#.loc[:, ['user_id', 'isbn', 'age','rating']]\n",
    "train_df = pd.get_dummies(\n",
    "    train_df,\n",
    "    columns=['location_city', 'location_state', 'location_country', 'language'])\n",
    "train_df = train_df[train_df['age'].isnull()]\n",
    "\n",
    "train_df = train_df.drop(['age'], axis=1)\n",
    "preds = lgbm_cl.predict(train_df)"
   ]
  },
  {
   "cell_type": "code",
   "execution_count": 11,
   "id": "8f38bbbe-9e77-433e-b20f-7096d4061216",
   "metadata": {
    "tags": []
   },
   "outputs": [],
   "source": [
    "from collections import deque\n",
    "preds = deque(preds)\n",
    "def ice_age(x):\n",
    "    try:\n",
    "        return int(x)\n",
    "    except:\n",
    "        return preds.popleft()*10\n",
    "p = pd.read_csv('df_train.csv')#.drop(['n_id'], axis=1)\n",
    "train_df = p\n",
    "\n",
    "train_df['age'] = train_df['age'].apply(ice_age)"
   ]
  },
  {
   "cell_type": "code",
   "execution_count": 13,
   "id": "ffba9f31-c4ab-4c43-b2af-03278f2d5988",
   "metadata": {},
   "outputs": [],
   "source": [
    "train_df['age'] = train_df['age'].apply(age_map)\n",
    "train_df.to_csv('age_df.csv',index=False)"
   ]
  },
  {
   "cell_type": "code",
   "execution_count": 9,
   "id": "40b62f73-2a95-413b-a50d-5b9757288a95",
   "metadata": {},
   "outputs": [],
   "source": [
    "train_df = pd.read_csv('age_df.csv')\n",
    "u = train_df[~train_df.duplicated(subset='user_id')].loc[:,['user_id', 'age', 'location_city', 'location_state', 'location_country']]\n",
    "u.to_csv('age/users.csv', index=False)\n",
    "b = train_df[~train_df.duplicated(subset='isbn')].loc[:,['isbn', 'category', 'publisher', 'language', 'book_author']]\n",
    "b.to_csv('age/books_1.csv', index=False)"
   ]
  },
  {
   "cell_type": "code",
   "execution_count": 5,
   "id": "70381dc6-deb8-4abc-b56a-f5aa0a64a175",
   "metadata": {
    "tags": []
   },
   "outputs": [
    {
     "name": "stdout",
     "output_type": "stream",
     "text": [
      "ACC :  0.4652795935900788\n",
      "RMSE :  1.2717569761093972\n",
      "MAE :  0.832262522879235\n"
     ]
    }
   ],
   "source": [
    "from lightgbm import LGBMRegressor, LGBMClassifier\n",
    "from sklearn.metrics import accuracy_score\n",
    "import numpy as np\n",
    "\n",
    "def rmse(real, predict):\n",
    "    return np.sqrt(np.mean((real-predict) ** 2))\n",
    "def mae(real, predict):\n",
    "    return np.mean(np.abs(real-predict))\n",
    "\n",
    "lgbm_cl = LGBMClassifier()\n",
    "lgbm_cl.fit(X_train, y_train)\n",
    "preds = lgbm_cl.predict(X_test)\n",
    "\n",
    "print('ACC : ', accuracy_score(y_test, preds))\n",
    "print('RMSE : ', rmse(y_test, preds))\n",
    "print('MAE : ', mae(y_test, preds))\n",
    "# ACC :  0.25433275563258234\n",
    "# RMSE :  2.6252836770049632\n",
    "# MAE :  1.7921721548238012"
   ]
  },
  {
   "cell_type": "code",
   "execution_count": 33,
   "id": "83e96183-ee2c-4136-81ed-2263c1307ceb",
   "metadata": {},
   "outputs": [
    {
     "data": {
      "text/html": [
       "<div>\n",
       "<style scoped>\n",
       "    .dataframe tbody tr th:only-of-type {\n",
       "        vertical-align: middle;\n",
       "    }\n",
       "\n",
       "    .dataframe tbody tr th {\n",
       "        vertical-align: top;\n",
       "    }\n",
       "\n",
       "    .dataframe thead th {\n",
       "        text-align: right;\n",
       "    }\n",
       "</style>\n",
       "<table border=\"1\" class=\"dataframe\">\n",
       "  <thead>\n",
       "    <tr style=\"text-align: right;\">\n",
       "      <th></th>\n",
       "      <th>user_id</th>\n",
       "      <th>isbn</th>\n",
       "      <th>rating</th>\n",
       "      <th>location_city</th>\n",
       "      <th>location_state</th>\n",
       "      <th>location_country</th>\n",
       "      <th>publisher</th>\n",
       "      <th>book_author</th>\n",
       "      <th>age_1</th>\n",
       "      <th>age_2</th>\n",
       "      <th>...</th>\n",
       "      <th>category_403</th>\n",
       "      <th>category_404</th>\n",
       "      <th>category_405</th>\n",
       "      <th>category_406</th>\n",
       "      <th>category_407</th>\n",
       "      <th>category_408</th>\n",
       "      <th>category_409</th>\n",
       "      <th>category_410</th>\n",
       "      <th>category_411</th>\n",
       "      <th>category_412</th>\n",
       "    </tr>\n",
       "  </thead>\n",
       "  <tbody>\n",
       "    <tr>\n",
       "      <th>2</th>\n",
       "      <td>2.0</td>\n",
       "      <td>0.0</td>\n",
       "      <td>8.0</td>\n",
       "      <td>2.0</td>\n",
       "      <td>0.0</td>\n",
       "      <td>0.0</td>\n",
       "      <td>0.0</td>\n",
       "      <td>0.0</td>\n",
       "      <td>0.0</td>\n",
       "      <td>0.0</td>\n",
       "      <td>...</td>\n",
       "      <td>0.0</td>\n",
       "      <td>0.0</td>\n",
       "      <td>0.0</td>\n",
       "      <td>0.0</td>\n",
       "      <td>0.0</td>\n",
       "      <td>0.0</td>\n",
       "      <td>0.0</td>\n",
       "      <td>0.0</td>\n",
       "      <td>0.0</td>\n",
       "      <td>0.0</td>\n",
       "    </tr>\n",
       "    <tr>\n",
       "      <th>3</th>\n",
       "      <td>3.0</td>\n",
       "      <td>0.0</td>\n",
       "      <td>8.0</td>\n",
       "      <td>3.0</td>\n",
       "      <td>0.0</td>\n",
       "      <td>0.0</td>\n",
       "      <td>0.0</td>\n",
       "      <td>0.0</td>\n",
       "      <td>0.0</td>\n",
       "      <td>0.0</td>\n",
       "      <td>...</td>\n",
       "      <td>0.0</td>\n",
       "      <td>0.0</td>\n",
       "      <td>0.0</td>\n",
       "      <td>0.0</td>\n",
       "      <td>0.0</td>\n",
       "      <td>0.0</td>\n",
       "      <td>0.0</td>\n",
       "      <td>0.0</td>\n",
       "      <td>0.0</td>\n",
       "      <td>0.0</td>\n",
       "    </tr>\n",
       "    <tr>\n",
       "      <th>20</th>\n",
       "      <td>20.0</td>\n",
       "      <td>3.0</td>\n",
       "      <td>8.0</td>\n",
       "      <td>19.0</td>\n",
       "      <td>10.0</td>\n",
       "      <td>1.0</td>\n",
       "      <td>3.0</td>\n",
       "      <td>3.0</td>\n",
       "      <td>0.0</td>\n",
       "      <td>0.0</td>\n",
       "      <td>...</td>\n",
       "      <td>0.0</td>\n",
       "      <td>0.0</td>\n",
       "      <td>0.0</td>\n",
       "      <td>0.0</td>\n",
       "      <td>0.0</td>\n",
       "      <td>0.0</td>\n",
       "      <td>0.0</td>\n",
       "      <td>0.0</td>\n",
       "      <td>0.0</td>\n",
       "      <td>0.0</td>\n",
       "    </tr>\n",
       "    <tr>\n",
       "      <th>21</th>\n",
       "      <td>21.0</td>\n",
       "      <td>3.0</td>\n",
       "      <td>7.0</td>\n",
       "      <td>20.0</td>\n",
       "      <td>13.0</td>\n",
       "      <td>1.0</td>\n",
       "      <td>3.0</td>\n",
       "      <td>3.0</td>\n",
       "      <td>0.0</td>\n",
       "      <td>0.0</td>\n",
       "      <td>...</td>\n",
       "      <td>0.0</td>\n",
       "      <td>0.0</td>\n",
       "      <td>0.0</td>\n",
       "      <td>0.0</td>\n",
       "      <td>0.0</td>\n",
       "      <td>0.0</td>\n",
       "      <td>0.0</td>\n",
       "      <td>0.0</td>\n",
       "      <td>0.0</td>\n",
       "      <td>0.0</td>\n",
       "    </tr>\n",
       "    <tr>\n",
       "      <th>22</th>\n",
       "      <td>22.0</td>\n",
       "      <td>3.0</td>\n",
       "      <td>7.0</td>\n",
       "      <td>21.0</td>\n",
       "      <td>10.0</td>\n",
       "      <td>1.0</td>\n",
       "      <td>3.0</td>\n",
       "      <td>3.0</td>\n",
       "      <td>0.0</td>\n",
       "      <td>0.0</td>\n",
       "      <td>...</td>\n",
       "      <td>0.0</td>\n",
       "      <td>0.0</td>\n",
       "      <td>0.0</td>\n",
       "      <td>0.0</td>\n",
       "      <td>0.0</td>\n",
       "      <td>0.0</td>\n",
       "      <td>0.0</td>\n",
       "      <td>0.0</td>\n",
       "      <td>0.0</td>\n",
       "      <td>0.0</td>\n",
       "    </tr>\n",
       "    <tr>\n",
       "      <th>...</th>\n",
       "      <td>...</td>\n",
       "      <td>...</td>\n",
       "      <td>...</td>\n",
       "      <td>...</td>\n",
       "      <td>...</td>\n",
       "      <td>...</td>\n",
       "      <td>...</td>\n",
       "      <td>...</td>\n",
       "      <td>...</td>\n",
       "      <td>...</td>\n",
       "      <td>...</td>\n",
       "      <td>...</td>\n",
       "      <td>...</td>\n",
       "      <td>...</td>\n",
       "      <td>...</td>\n",
       "      <td>...</td>\n",
       "      <td>...</td>\n",
       "      <td>...</td>\n",
       "      <td>...</td>\n",
       "      <td>...</td>\n",
       "      <td>...</td>\n",
       "    </tr>\n",
       "    <tr>\n",
       "      <th>59798</th>\n",
       "      <td>2869.0</td>\n",
       "      <td>4768.0</td>\n",
       "      <td>9.0</td>\n",
       "      <td>1582.0</td>\n",
       "      <td>47.0</td>\n",
       "      <td>1.0</td>\n",
       "      <td>30.0</td>\n",
       "      <td>1246.0</td>\n",
       "      <td>0.0</td>\n",
       "      <td>0.0</td>\n",
       "      <td>...</td>\n",
       "      <td>0.0</td>\n",
       "      <td>0.0</td>\n",
       "      <td>0.0</td>\n",
       "      <td>0.0</td>\n",
       "      <td>0.0</td>\n",
       "      <td>0.0</td>\n",
       "      <td>0.0</td>\n",
       "      <td>0.0</td>\n",
       "      <td>0.0</td>\n",
       "      <td>0.0</td>\n",
       "    </tr>\n",
       "    <tr>\n",
       "      <th>59799</th>\n",
       "      <td>811.0</td>\n",
       "      <td>4768.0</td>\n",
       "      <td>10.0</td>\n",
       "      <td>613.0</td>\n",
       "      <td>45.0</td>\n",
       "      <td>1.0</td>\n",
       "      <td>30.0</td>\n",
       "      <td>1246.0</td>\n",
       "      <td>0.0</td>\n",
       "      <td>0.0</td>\n",
       "      <td>...</td>\n",
       "      <td>0.0</td>\n",
       "      <td>0.0</td>\n",
       "      <td>0.0</td>\n",
       "      <td>0.0</td>\n",
       "      <td>0.0</td>\n",
       "      <td>0.0</td>\n",
       "      <td>0.0</td>\n",
       "      <td>0.0</td>\n",
       "      <td>0.0</td>\n",
       "      <td>0.0</td>\n",
       "    </tr>\n",
       "    <tr>\n",
       "      <th>59800</th>\n",
       "      <td>1159.0</td>\n",
       "      <td>4768.0</td>\n",
       "      <td>8.0</td>\n",
       "      <td>373.0</td>\n",
       "      <td>10.0</td>\n",
       "      <td>1.0</td>\n",
       "      <td>30.0</td>\n",
       "      <td>1246.0</td>\n",
       "      <td>0.0</td>\n",
       "      <td>0.0</td>\n",
       "      <td>...</td>\n",
       "      <td>0.0</td>\n",
       "      <td>0.0</td>\n",
       "      <td>0.0</td>\n",
       "      <td>0.0</td>\n",
       "      <td>0.0</td>\n",
       "      <td>0.0</td>\n",
       "      <td>0.0</td>\n",
       "      <td>0.0</td>\n",
       "      <td>0.0</td>\n",
       "      <td>0.0</td>\n",
       "    </tr>\n",
       "    <tr>\n",
       "      <th>59801</th>\n",
       "      <td>81.0</td>\n",
       "      <td>4768.0</td>\n",
       "      <td>4.0</td>\n",
       "      <td>78.0</td>\n",
       "      <td>6.0</td>\n",
       "      <td>1.0</td>\n",
       "      <td>30.0</td>\n",
       "      <td>1246.0</td>\n",
       "      <td>0.0</td>\n",
       "      <td>0.0</td>\n",
       "      <td>...</td>\n",
       "      <td>0.0</td>\n",
       "      <td>0.0</td>\n",
       "      <td>0.0</td>\n",
       "      <td>0.0</td>\n",
       "      <td>0.0</td>\n",
       "      <td>0.0</td>\n",
       "      <td>0.0</td>\n",
       "      <td>0.0</td>\n",
       "      <td>0.0</td>\n",
       "      <td>0.0</td>\n",
       "    </tr>\n",
       "    <tr>\n",
       "      <th>59802</th>\n",
       "      <td>4699.0</td>\n",
       "      <td>4768.0</td>\n",
       "      <td>10.0</td>\n",
       "      <td>1089.0</td>\n",
       "      <td>29.0</td>\n",
       "      <td>1.0</td>\n",
       "      <td>30.0</td>\n",
       "      <td>1246.0</td>\n",
       "      <td>0.0</td>\n",
       "      <td>1.0</td>\n",
       "      <td>...</td>\n",
       "      <td>0.0</td>\n",
       "      <td>0.0</td>\n",
       "      <td>0.0</td>\n",
       "      <td>0.0</td>\n",
       "      <td>0.0</td>\n",
       "      <td>0.0</td>\n",
       "      <td>0.0</td>\n",
       "      <td>0.0</td>\n",
       "      <td>0.0</td>\n",
       "      <td>0.0</td>\n",
       "    </tr>\n",
       "  </tbody>\n",
       "</table>\n",
       "<p>46580 rows × 452 columns</p>\n",
       "</div>"
      ],
      "text/plain": [
       "       user_id    isbn  rating  location_city  location_state  \\\n",
       "2          2.0     0.0     8.0            2.0             0.0   \n",
       "3          3.0     0.0     8.0            3.0             0.0   \n",
       "20        20.0     3.0     8.0           19.0            10.0   \n",
       "21        21.0     3.0     7.0           20.0            13.0   \n",
       "22        22.0     3.0     7.0           21.0            10.0   \n",
       "...        ...     ...     ...            ...             ...   \n",
       "59798   2869.0  4768.0     9.0         1582.0            47.0   \n",
       "59799    811.0  4768.0    10.0          613.0            45.0   \n",
       "59800   1159.0  4768.0     8.0          373.0            10.0   \n",
       "59801     81.0  4768.0     4.0           78.0             6.0   \n",
       "59802   4699.0  4768.0    10.0         1089.0            29.0   \n",
       "\n",
       "       location_country  publisher  book_author  age_1  age_2  ...  \\\n",
       "2                   0.0        0.0          0.0    0.0    0.0  ...   \n",
       "3                   0.0        0.0          0.0    0.0    0.0  ...   \n",
       "20                  1.0        3.0          3.0    0.0    0.0  ...   \n",
       "21                  1.0        3.0          3.0    0.0    0.0  ...   \n",
       "22                  1.0        3.0          3.0    0.0    0.0  ...   \n",
       "...                 ...        ...          ...    ...    ...  ...   \n",
       "59798               1.0       30.0       1246.0    0.0    0.0  ...   \n",
       "59799               1.0       30.0       1246.0    0.0    0.0  ...   \n",
       "59800               1.0       30.0       1246.0    0.0    0.0  ...   \n",
       "59801               1.0       30.0       1246.0    0.0    0.0  ...   \n",
       "59802               1.0       30.0       1246.0    0.0    1.0  ...   \n",
       "\n",
       "       category_403  category_404  category_405  category_406  category_407  \\\n",
       "2               0.0           0.0           0.0           0.0           0.0   \n",
       "3               0.0           0.0           0.0           0.0           0.0   \n",
       "20              0.0           0.0           0.0           0.0           0.0   \n",
       "21              0.0           0.0           0.0           0.0           0.0   \n",
       "22              0.0           0.0           0.0           0.0           0.0   \n",
       "...             ...           ...           ...           ...           ...   \n",
       "59798           0.0           0.0           0.0           0.0           0.0   \n",
       "59799           0.0           0.0           0.0           0.0           0.0   \n",
       "59800           0.0           0.0           0.0           0.0           0.0   \n",
       "59801           0.0           0.0           0.0           0.0           0.0   \n",
       "59802           0.0           0.0           0.0           0.0           0.0   \n",
       "\n",
       "       category_408  category_409  category_410  category_411  category_412  \n",
       "2               0.0           0.0           0.0           0.0           0.0  \n",
       "3               0.0           0.0           0.0           0.0           0.0  \n",
       "20              0.0           0.0           0.0           0.0           0.0  \n",
       "21              0.0           0.0           0.0           0.0           0.0  \n",
       "22              0.0           0.0           0.0           0.0           0.0  \n",
       "...             ...           ...           ...           ...           ...  \n",
       "59798           0.0           0.0           0.0           0.0           0.0  \n",
       "59799           0.0           0.0           0.0           0.0           0.0  \n",
       "59800           0.0           0.0           0.0           0.0           0.0  \n",
       "59801           0.0           0.0           0.0           0.0           0.0  \n",
       "59802           0.0           0.0           0.0           0.0           0.0  \n",
       "\n",
       "[46580 rows x 452 columns]"
      ]
     },
     "execution_count": 33,
     "metadata": {},
     "output_type": "execute_result"
    }
   ],
   "source": [
    "p = pd.read_csv('df_train.csv')\n",
    "item_base = train_df.where(train_df.groupby('user_id')['isbn'].count()<=3).dropna(axis=0)\n",
    "item_base"
   ]
  },
  {
   "cell_type": "code",
   "execution_count": 167,
   "id": "17b69156-acbf-4edf-a3e4-30f482f3d3bf",
   "metadata": {},
   "outputs": [
    {
     "data": {
      "text/html": [
       "<div>\n",
       "<style scoped>\n",
       "    .dataframe tbody tr th:only-of-type {\n",
       "        vertical-align: middle;\n",
       "    }\n",
       "\n",
       "    .dataframe tbody tr th {\n",
       "        vertical-align: top;\n",
       "    }\n",
       "\n",
       "    .dataframe thead th {\n",
       "        text-align: right;\n",
       "    }\n",
       "</style>\n",
       "<table border=\"1\" class=\"dataframe\">\n",
       "  <thead>\n",
       "    <tr style=\"text-align: right;\">\n",
       "      <th></th>\n",
       "      <th>user_id</th>\n",
       "      <th>isbn</th>\n",
       "      <th>rating</th>\n",
       "      <th>book_author</th>\n",
       "      <th>year_of_publication</th>\n",
       "      <th>publisher</th>\n",
       "      <th>language</th>\n",
       "      <th>category</th>\n",
       "      <th>age</th>\n",
       "      <th>location_city</th>\n",
       "      <th>location_state</th>\n",
       "      <th>location_country</th>\n",
       "    </tr>\n",
       "  </thead>\n",
       "  <tbody>\n",
       "    <tr>\n",
       "      <th>7</th>\n",
       "      <td>67544</td>\n",
       "      <td>0002005018</td>\n",
       "      <td>7</td>\n",
       "      <td>Richard Bruce Wright</td>\n",
       "      <td>2001.0</td>\n",
       "      <td>0</td>\n",
       "      <td>0</td>\n",
       "      <td>['Actresses']</td>\n",
       "      <td>30.0</td>\n",
       "      <td>toronto</td>\n",
       "      <td>ontario</td>\n",
       "      <td>canada</td>\n",
       "    </tr>\n",
       "    <tr>\n",
       "      <th>8</th>\n",
       "      <td>67544</td>\n",
       "      <td>0316601950</td>\n",
       "      <td>8</td>\n",
       "      <td>Anita Shreve</td>\n",
       "      <td>1999.0</td>\n",
       "      <td>316</td>\n",
       "      <td>0</td>\n",
       "      <td>NaN</td>\n",
       "      <td>30.0</td>\n",
       "      <td>toronto</td>\n",
       "      <td>ontario</td>\n",
       "      <td>canada</td>\n",
       "    </tr>\n",
       "    <tr>\n",
       "      <th>9</th>\n",
       "      <td>67544</td>\n",
       "      <td>0316569321</td>\n",
       "      <td>7</td>\n",
       "      <td>Janet Fitch</td>\n",
       "      <td>1999.0</td>\n",
       "      <td>316</td>\n",
       "      <td>0</td>\n",
       "      <td>NaN</td>\n",
       "      <td>30.0</td>\n",
       "      <td>toronto</td>\n",
       "      <td>ontario</td>\n",
       "      <td>canada</td>\n",
       "    </tr>\n",
       "    <tr>\n",
       "      <th>10</th>\n",
       "      <td>67544</td>\n",
       "      <td>0002244098</td>\n",
       "      <td>7</td>\n",
       "      <td>Timothy Findley</td>\n",
       "      <td>1997.0</td>\n",
       "      <td>0</td>\n",
       "      <td>0</td>\n",
       "      <td>NaN</td>\n",
       "      <td>30.0</td>\n",
       "      <td>toronto</td>\n",
       "      <td>ontario</td>\n",
       "      <td>canada</td>\n",
       "    </tr>\n",
       "    <tr>\n",
       "      <th>11</th>\n",
       "      <td>67544</td>\n",
       "      <td>0440214009</td>\n",
       "      <td>7</td>\n",
       "      <td>Belva Plain</td>\n",
       "      <td>1993.0</td>\n",
       "      <td>440</td>\n",
       "      <td>0</td>\n",
       "      <td>['Fiction']</td>\n",
       "      <td>30.0</td>\n",
       "      <td>toronto</td>\n",
       "      <td>ontario</td>\n",
       "      <td>canada</td>\n",
       "    </tr>\n",
       "    <tr>\n",
       "      <th>12</th>\n",
       "      <td>67544</td>\n",
       "      <td>0020811853</td>\n",
       "      <td>7</td>\n",
       "      <td>E. Annie Proulx</td>\n",
       "      <td>1993.0</td>\n",
       "      <td>2</td>\n",
       "      <td>0</td>\n",
       "      <td>NaN</td>\n",
       "      <td>30.0</td>\n",
       "      <td>toronto</td>\n",
       "      <td>ontario</td>\n",
       "      <td>canada</td>\n",
       "    </tr>\n",
       "    <tr>\n",
       "      <th>13</th>\n",
       "      <td>67544</td>\n",
       "      <td>0688077080</td>\n",
       "      <td>8</td>\n",
       "      <td>John Irving</td>\n",
       "      <td>1989.0</td>\n",
       "      <td>688</td>\n",
       "      <td>0</td>\n",
       "      <td>NaN</td>\n",
       "      <td>30.0</td>\n",
       "      <td>toronto</td>\n",
       "      <td>ontario</td>\n",
       "      <td>canada</td>\n",
       "    </tr>\n",
       "  </tbody>\n",
       "</table>\n",
       "</div>"
      ],
      "text/plain": [
       "    user_id        isbn  rating           book_author  year_of_publication  \\\n",
       "7     67544  0002005018       7  Richard Bruce Wright               2001.0   \n",
       "8     67544  0316601950       8          Anita Shreve               1999.0   \n",
       "9     67544  0316569321       7           Janet Fitch               1999.0   \n",
       "10    67544  0002244098       7       Timothy Findley               1997.0   \n",
       "11    67544  0440214009       7           Belva Plain               1993.0   \n",
       "12    67544  0020811853       7       E. Annie Proulx               1993.0   \n",
       "13    67544  0688077080       8           John Irving               1989.0   \n",
       "\n",
       "    publisher  language       category   age location_city location_state  \\\n",
       "7           0         0  ['Actresses']  30.0       toronto        ontario   \n",
       "8         316         0            NaN  30.0       toronto        ontario   \n",
       "9         316         0            NaN  30.0       toronto        ontario   \n",
       "10          0         0            NaN  30.0       toronto        ontario   \n",
       "11        440         0    ['Fiction']  30.0       toronto        ontario   \n",
       "12          2         0            NaN  30.0       toronto        ontario   \n",
       "13        688         0            NaN  30.0       toronto        ontario   \n",
       "\n",
       "   location_country  \n",
       "7            canada  \n",
       "8            canada  \n",
       "9            canada  \n",
       "10           canada  \n",
       "11           canada  \n",
       "12           canada  \n",
       "13           canada  "
      ]
     },
     "execution_count": 167,
     "metadata": {},
     "output_type": "execute_result"
    }
   ],
   "source": [
    "data = pd.read_csv('data.csv')\n",
    "data[data['user_id'] == idx2user[1]]\n"
   ]
  },
  {
   "cell_type": "code",
   "execution_count": 16,
   "id": "ef3ddb92-21c0-4921-97b4-4570bc33ff58",
   "metadata": {},
   "outputs": [],
   "source": [
    "def age_map(x: int) -> int:\n",
    "    try:\n",
    "        x = int(x)\n",
    "        if x < 20:\n",
    "            return 1\n",
    "        elif x >= 20 and x < 30:\n",
    "            return 2\n",
    "        elif x >= 30 and x < 40:\n",
    "            return 3\n",
    "        elif x >= 40 and x < 50:\n",
    "            return 4\n",
    "        elif x >= 50 and x < 60:\n",
    "            return 5\n",
    "        else:\n",
    "            return 6\n",
    "    except:\n",
    "        return None\n",
    "    \n",
    "u = pd.read_csv('data_custom/users.csv')\n",
    "u2 = pd.read_csv('age/users.csv')\n",
    "\n",
    "a, b = u['age'].apply(age_map), u2['age']\n",
    "\n",
    "for i in range(len(b)):\n",
    "    a[i] = b[i]\n",
    "    \n",
    "u['age'] = a\n",
    "\n",
    "u.to_csv('age/users_1.csv', index=False)"
   ]
  }
 ],
 "metadata": {
  "kernelspec": {
   "display_name": "Python 3.9.12 ('base')",
   "language": "python",
   "name": "python3"
  },
  "language_info": {
   "codemirror_mode": {
    "name": "ipython",
    "version": 3
   },
   "file_extension": ".py",
   "mimetype": "text/x-python",
   "name": "python",
   "nbconvert_exporter": "python",
   "pygments_lexer": "ipython3",
   "version": "3.9.12"
  },
  "vscode": {
   "interpreter": {
    "hash": "c92ccc66e7205d195a44f7cc62fc3e1b528447f87a486c50465508a22faea08c"
   }
  }
 },
 "nbformat": 4,
 "nbformat_minor": 5
}
