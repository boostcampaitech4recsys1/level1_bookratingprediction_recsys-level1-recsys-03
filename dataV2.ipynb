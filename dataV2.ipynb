{
 "cells": [
  {
   "cell_type": "code",
   "execution_count": 12,
   "metadata": {},
   "outputs": [],
   "source": [
    "import pandas as pd\n",
    "import numpy as np\n",
    "\n",
    "\n",
    "users=pd.read_csv('data/users_f_location_1.1.csv')\n",
    "books=pd.read_csv('data/books_1.0.csv')\n",
    "ratings=pd.read_csv('data/train_ratings.csv')\n",
    "submission_test=pd.read_csv('data/sample_submission.csv')\n",
    "datasets=ratings.merge(users, on='user_id', how='left').merge(books, on='isbn', how='left')\n",
    "\n",
    "dictionary=pd.concat([ratings,submission_test])\n",
    "user2idx = {v:k for k,v in enumerate(dictionary['user_id'].unique())}\n",
    "book2idx = {v:k for k,v in enumerate(dictionary['isbn'].unique())}"
   ]
  },
  {
   "cell_type": "code",
   "execution_count": 13,
   "metadata": {},
   "outputs": [
    {
     "data": {
      "text/html": [
       "<div>\n",
       "<style scoped>\n",
       "    .dataframe tbody tr th:only-of-type {\n",
       "        vertical-align: middle;\n",
       "    }\n",
       "\n",
       "    .dataframe tbody tr th {\n",
       "        vertical-align: top;\n",
       "    }\n",
       "\n",
       "    .dataframe thead th {\n",
       "        text-align: right;\n",
       "    }\n",
       "</style>\n",
       "<table border=\"1\" class=\"dataframe\">\n",
       "  <thead>\n",
       "    <tr style=\"text-align: right;\">\n",
       "      <th></th>\n",
       "      <th>user_id</th>\n",
       "      <th>age</th>\n",
       "      <th>location_city</th>\n",
       "      <th>location_state</th>\n",
       "      <th>location_country</th>\n",
       "    </tr>\n",
       "  </thead>\n",
       "  <tbody>\n",
       "    <tr>\n",
       "      <th>0</th>\n",
       "      <td>8</td>\n",
       "      <td>NaN</td>\n",
       "      <td>timmins</td>\n",
       "      <td>ontario</td>\n",
       "      <td>canada</td>\n",
       "    </tr>\n",
       "    <tr>\n",
       "      <th>1</th>\n",
       "      <td>11400</td>\n",
       "      <td>49.0</td>\n",
       "      <td>ottawa</td>\n",
       "      <td>ontario</td>\n",
       "      <td>canada</td>\n",
       "    </tr>\n",
       "    <tr>\n",
       "      <th>2</th>\n",
       "      <td>67544</td>\n",
       "      <td>30.0</td>\n",
       "      <td>toronto</td>\n",
       "      <td>ontario</td>\n",
       "      <td>canada</td>\n",
       "    </tr>\n",
       "    <tr>\n",
       "      <th>3</th>\n",
       "      <td>85526</td>\n",
       "      <td>36.0</td>\n",
       "      <td>victoria</td>\n",
       "      <td>britishcolumbia</td>\n",
       "      <td>canada</td>\n",
       "    </tr>\n",
       "    <tr>\n",
       "      <th>4</th>\n",
       "      <td>96054</td>\n",
       "      <td>29.0</td>\n",
       "      <td>ottawa</td>\n",
       "      <td>ontario</td>\n",
       "      <td>canada</td>\n",
       "    </tr>\n",
       "  </tbody>\n",
       "</table>\n",
       "</div>"
      ],
      "text/plain": [
       "   user_id   age location_city   location_state location_country\n",
       "0        8   NaN       timmins          ontario           canada\n",
       "1    11400  49.0        ottawa          ontario           canada\n",
       "2    67544  30.0       toronto          ontario           canada\n",
       "3    85526  36.0      victoria  britishcolumbia           canada\n",
       "4    96054  29.0        ottawa          ontario           canada"
      ]
     },
     "execution_count": 13,
     "metadata": {},
     "output_type": "execute_result"
    }
   ],
   "source": [
    "users.head()"
   ]
  },
  {
   "cell_type": "markdown",
   "metadata": {},
   "source": [
    "- age: 결측치인 유저가 읽은 책들을 보고 그 책들을 읽은 유저의 평균으로 결측치 채움\n",
    "- location_country: 8개의 카테고리로 변환\n",
    "    - 1: 남아메리카\n",
    "    - 2: 북아메리카\n",
    "    - 3: 유럽\n",
    "    - 4: 오세아니아\n",
    "    - 5: 아시아(서북)\n",
    "    - 6: 아시아(동남)\n",
    "    - 7: 중동\n",
    "    - 8: 아프리카"
   ]
  },
  {
   "cell_type": "code",
   "execution_count": 14,
   "metadata": {},
   "outputs": [],
   "source": [
    "#책의 isbn을 키로가지고 그에따른 평균유저나이를 나타내는 딕셔너리\n",
    "isbn_age=datasets.groupby('isbn').mean()['age'].dropna().to_dict()"
   ]
  },
  {
   "cell_type": "code",
   "execution_count": 15,
   "metadata": {},
   "outputs": [],
   "source": [
    "#전체 데이터셋에서 나이가 결측치인 부분만 채우기\n",
    "datasets['newage']=np.where(datasets['age'].isna(),datasets['isbn'].map(isbn_age),datasets['age'])\n",
    "#datasets이용해 유저아이디별로 나이\n",
    "userid_age=datasets.groupby('user_id').mean()['newage'].to_dict()"
   ]
  },
  {
   "cell_type": "code",
   "execution_count": 16,
   "metadata": {},
   "outputs": [],
   "source": [
    "users['age']=users['user_id'].map(userid_age)"
   ]
  },
  {
   "cell_type": "code",
   "execution_count": 17,
   "metadata": {},
   "outputs": [],
   "source": [
    "#나머지 결측치 location평균으로 채우면 성능더떨어짐\n",
    "#loca_age=users.groupby('location_state').mean()['age'].to_dict() \n",
    "\n",
    "#users['age']=np.where(users['age'].isna(),users['location_country'].map(loca_age),users['age'])\n",
    "\n",
    "\n",
    "users.drop(['location_state','location_city'],axis=1,inplace=True)"
   ]
  },
  {
   "cell_type": "code",
   "execution_count": 18,
   "metadata": {},
   "outputs": [],
   "source": [
    "cntr_cate={\n",
    "    'usa': 2, 'canada': 2, 'unitedkingdom': 3, 'germany': 3, 'spain': 3, 'australia':4, 'france': 3, 'portugal': 3, 'malaysia': 5, \n",
    "    'netherlands': 3, 'switzerland': 3, 'newzealand': 4, 'italy': 3, 'austria': 3, 'singapore' :6, 'philippines': 6, 'romania': 3, \n",
    "    'iran':7 , 'brazil':1, 'belgium': 3, 'dominicanrepublic':1 , 'sweden': 3, 'finland': 3, 'japan':6, 'china':6, 'england': 3, \n",
    "    'norway': 3, 'argentina':1, 'mexico':1 , 'poland': 3, 'denmark': 3, 'ireland': 3, 'newyork':2, 'israel':7, 'caymanislands': 3, \n",
    "    'southafrica':8, 'hongkong':6, 'us':2 , 'india':6, 'taiwan':6, 'aruba':3, 'kuwait':7,'phillipines':6, 'southkorea':6, 'okinawa':6, \n",
    "    'bulgaria':3\n",
    "}\n",
    "\n",
    "users['location_country']=users['location_country'].map(cntr_cate)"
   ]
  },
  {
   "cell_type": "code",
   "execution_count": 19,
   "metadata": {},
   "outputs": [
    {
     "data": {
      "text/html": [
       "<div>\n",
       "<style scoped>\n",
       "    .dataframe tbody tr th:only-of-type {\n",
       "        vertical-align: middle;\n",
       "    }\n",
       "\n",
       "    .dataframe tbody tr th {\n",
       "        vertical-align: top;\n",
       "    }\n",
       "\n",
       "    .dataframe thead th {\n",
       "        text-align: right;\n",
       "    }\n",
       "</style>\n",
       "<table border=\"1\" class=\"dataframe\">\n",
       "  <thead>\n",
       "    <tr style=\"text-align: right;\">\n",
       "      <th></th>\n",
       "      <th>isbn</th>\n",
       "      <th>book_title</th>\n",
       "      <th>book_author</th>\n",
       "      <th>year_of_publication</th>\n",
       "      <th>publisher</th>\n",
       "      <th>img_url</th>\n",
       "      <th>language</th>\n",
       "      <th>category</th>\n",
       "      <th>summary</th>\n",
       "      <th>img_path</th>\n",
       "    </tr>\n",
       "  </thead>\n",
       "  <tbody>\n",
       "    <tr>\n",
       "      <th>0</th>\n",
       "      <td>0002005018</td>\n",
       "      <td>Clara Callan</td>\n",
       "      <td>Richard Bruce Wright</td>\n",
       "      <td>2001.0</td>\n",
       "      <td>0</td>\n",
       "      <td>http://images.amazon.com/images/P/0002005018.0...</td>\n",
       "      <td>0</td>\n",
       "      <td>['Actresses']</td>\n",
       "      <td>In a small town in Canada, Clara Callan reluct...</td>\n",
       "      <td>images/0002005018.01.THUMBZZZ.jpg</td>\n",
       "    </tr>\n",
       "    <tr>\n",
       "      <th>1</th>\n",
       "      <td>0060973129</td>\n",
       "      <td>Decision in Normandy</td>\n",
       "      <td>Carlo D'Este</td>\n",
       "      <td>1991.0</td>\n",
       "      <td>6</td>\n",
       "      <td>http://images.amazon.com/images/P/0060973129.0...</td>\n",
       "      <td>0</td>\n",
       "      <td>['1940-1949']</td>\n",
       "      <td>Here, for the first time in paperback, is an o...</td>\n",
       "      <td>images/0060973129.01.THUMBZZZ.jpg</td>\n",
       "    </tr>\n",
       "    <tr>\n",
       "      <th>2</th>\n",
       "      <td>0374157065</td>\n",
       "      <td>Flu: The Story of the Great Influenza Pandemic...</td>\n",
       "      <td>Gina Bari Kolata</td>\n",
       "      <td>1999.0</td>\n",
       "      <td>374</td>\n",
       "      <td>http://images.amazon.com/images/P/0374157065.0...</td>\n",
       "      <td>0</td>\n",
       "      <td>['Medical']</td>\n",
       "      <td>Describes the great flu epidemic of 1918, an o...</td>\n",
       "      <td>images/0374157065.01.THUMBZZZ.jpg</td>\n",
       "    </tr>\n",
       "    <tr>\n",
       "      <th>3</th>\n",
       "      <td>0399135782</td>\n",
       "      <td>The Kitchen God's Wife</td>\n",
       "      <td>Amy Tan</td>\n",
       "      <td>1991.0</td>\n",
       "      <td>399</td>\n",
       "      <td>http://images.amazon.com/images/P/0399135782.0...</td>\n",
       "      <td>0</td>\n",
       "      <td>['Fiction']</td>\n",
       "      <td>A Chinese immigrant who is convinced she is dy...</td>\n",
       "      <td>images/0399135782.01.THUMBZZZ.jpg</td>\n",
       "    </tr>\n",
       "    <tr>\n",
       "      <th>4</th>\n",
       "      <td>0425176428</td>\n",
       "      <td>What If?: The World's Foremost Military Histor...</td>\n",
       "      <td>Robert Cowley</td>\n",
       "      <td>2000.0</td>\n",
       "      <td>425</td>\n",
       "      <td>http://images.amazon.com/images/P/0425176428.0...</td>\n",
       "      <td>0</td>\n",
       "      <td>['History']</td>\n",
       "      <td>Essays by respected military historians, inclu...</td>\n",
       "      <td>images/0425176428.01.THUMBZZZ.jpg</td>\n",
       "    </tr>\n",
       "  </tbody>\n",
       "</table>\n",
       "</div>"
      ],
      "text/plain": [
       "         isbn                                         book_title  \\\n",
       "0  0002005018                                       Clara Callan   \n",
       "1  0060973129                               Decision in Normandy   \n",
       "2  0374157065  Flu: The Story of the Great Influenza Pandemic...   \n",
       "3  0399135782                             The Kitchen God's Wife   \n",
       "4  0425176428  What If?: The World's Foremost Military Histor...   \n",
       "\n",
       "            book_author  year_of_publication  publisher  \\\n",
       "0  Richard Bruce Wright               2001.0          0   \n",
       "1          Carlo D'Este               1991.0          6   \n",
       "2      Gina Bari Kolata               1999.0        374   \n",
       "3               Amy Tan               1991.0        399   \n",
       "4         Robert Cowley               2000.0        425   \n",
       "\n",
       "                                             img_url  language       category  \\\n",
       "0  http://images.amazon.com/images/P/0002005018.0...         0  ['Actresses']   \n",
       "1  http://images.amazon.com/images/P/0060973129.0...         0  ['1940-1949']   \n",
       "2  http://images.amazon.com/images/P/0374157065.0...         0    ['Medical']   \n",
       "3  http://images.amazon.com/images/P/0399135782.0...         0    ['Fiction']   \n",
       "4  http://images.amazon.com/images/P/0425176428.0...         0    ['History']   \n",
       "\n",
       "                                             summary  \\\n",
       "0  In a small town in Canada, Clara Callan reluct...   \n",
       "1  Here, for the first time in paperback, is an o...   \n",
       "2  Describes the great flu epidemic of 1918, an o...   \n",
       "3  A Chinese immigrant who is convinced she is dy...   \n",
       "4  Essays by respected military historians, inclu...   \n",
       "\n",
       "                            img_path  \n",
       "0  images/0002005018.01.THUMBZZZ.jpg  \n",
       "1  images/0060973129.01.THUMBZZZ.jpg  \n",
       "2  images/0374157065.01.THUMBZZZ.jpg  \n",
       "3  images/0399135782.01.THUMBZZZ.jpg  \n",
       "4  images/0425176428.01.THUMBZZZ.jpg  "
      ]
     },
     "execution_count": 19,
     "metadata": {},
     "output_type": "execute_result"
    }
   ],
   "source": [
    "books.head()"
   ]
  },
  {
   "cell_type": "markdown",
   "metadata": {},
   "source": [
    "카테고리 숫자 10개로 나누기"
   ]
  },
  {
   "cell_type": "code",
   "execution_count": 20,
   "metadata": {},
   "outputs": [],
   "source": [
    "category_list=books['category'].unique().tolist()\n",
    "cate_dict={}\n",
    "cnt=0\n",
    "for i in range(len(category_list)):\n",
    "    if category_list[i]==-1:\n",
    "        cate_dict[category_list[i]]=-1\n",
    "\n",
    "    elif ('fiction' in str(category_list[i]).lower()) or ('fictitious' in str(category_list[i]).lower()) or ('act' in str(category_list[i]).lower()) \\\n",
    "    or ('adolescence' in str(category_list[i]).lower()) or ('humor' in str(category_list[i]).lower()) or ('travel' in str(category_list[i]).lower()) \\\n",
    "    or ('poetry' in str(category_list[i]).lower()) or ('literary criticism' in str(category_list[i]).lower()) or ('drama' in str(category_list[i]).lower()) \\\n",
    "    or ('comic' in str(category_list[i]).lower()) or ('stories' in str(category_list[i]).lower()) or ('story' in str(category_list[i]).lower()) \\\n",
    "    or ('literary' in str(category_list[i]).lower()) or ('brother' in str(category_list[i]).lower()) or ('cats' in str(category_list[i]).lower())\\\n",
    "    or ('england' in str(category_list[i]).lower()) or ('australia' in str(category_list[i]).lower()) or ('britain' in str(category_list[i]).lower())\\\n",
    "    or ('america' in str(category_list[i]).lower()) or ('adventure' in str(category_list[i]).lower()) or ('children' in str(category_list[i]).lower())\\\n",
    "    or ('fantasy' in str(category_list[i]).lower()) or ('horror' in str(category_list[i]).lower()) or ('dog' in str(category_list[i]).lower())\\\n",
    "    or ('france' in str(category_list[i]).lower()) or ('tale' in str(category_list[i]).lower()) or ('united states' in str(category_list[i]).lower()) \\\n",
    "    or ('canada' in str(category_list[i]).lower()) or ('authors' in str(category_list[i]).lower()):\n",
    "        cate_dict[category_list[i]]=8\n",
    "\n",
    "    elif ('psychology' in str(category_list[i]).lower()) or ('philosophy' in str(category_list[i]).lower()):\n",
    "        cate_dict[category_list[i]]=1\n",
    "\n",
    "    elif ('religion' in str(category_list[i]).lower()) or ('jews' in str(category_list[i]).lower()) or ('bible' in str(category_list[i]).lower())\\\n",
    "        or ('christian' in str(category_list[i]).lower()):\n",
    "        cate_dict[category_list[i]]=2\n",
    "\n",
    "    elif ('social' in str(category_list[i]).lower()) or ('econom' in str(category_list[i]).lower()) or ('mind' in str(category_list[i]).lower()) \\\n",
    "        or ('famil' in str(category_list[i]).lower()) or ('self-help' in str(category_list[i]).lower()) or ('law' in str(category_list[i]).lower()) \\\n",
    "        or ('crime' in str(category_list[i]).lower()) or ('education' in str(category_list[i]).lower()) or ('friendship' in str(category_list[i]).lower()) \\\n",
    "        or ('life' in str(category_list[i]).lower()) or ('murder' in str(category_list[i]).lower()):\n",
    "        cate_dict[category_list[i]]=3\n",
    "\n",
    "    elif ('computer' in str(category_list[i]).lower()) or ('cooking' in str(category_list[i]).lower()) or ('reference' in str(category_list[i]).lower()) \\\n",
    "        or ('gardening' in str(category_list[i]).lower()) or ('medical' in str(category_list[i]).lower()) or ('technology' in str(category_list[i]).lower()) \\\n",
    "        or ('house' in str(category_list[i]).lower()) or ('transportation' in str(category_list[i]).lower()):\n",
    "        cate_dict[category_list[i]]=5\n",
    "\n",
    "    elif ('fitness' in str(category_list[i]).lower()) or ('art' in str(category_list[i]).lower()) or ('music' in str(category_list[i]).lower()) \\\n",
    "        or ('sports' in str(category_list[i]).lower()) or ('hobb' in str(category_list[i]).lower()) or ('photo' in str(category_list[i]).lower()) \\\n",
    "        or ('architecture' in str(category_list[i]).lower()) or ('game' in str(category_list[i]).lower()) or ('antiques' in str(category_list[i]).lower())\\\n",
    "        or ('design' in str(category_list[i]).lower()):\n",
    "        cate_dict[category_list[i]]=6\n",
    "\n",
    "    elif ('language' in str(category_list[i]).lower()):\n",
    "        cate_dict[category_list[i]]=7\n",
    "\n",
    "    elif ('nature' in str(category_list[i]).lower()) or ('science' in str(category_list[i]).lower()) or ('pet' in str(category_list[i]).lower()) \\\n",
    "        or ('animal' in str(category_list[i]).lower()) or ('planet' in str(category_list[i]).lower()) or ('math' in str(category_list[i]).lower()) \\\n",
    "        or ('dinosaur' in str(category_list[i]).lower()):\n",
    "        cate_dict[category_list[i]]=4\n",
    "        \n",
    "    elif ('biography' in str(category_list[i]).lower()) or ('histor' in str(category_list[i]).lower()) or ('1940-' in str(category_list[i]).lower()):\n",
    "        cate_dict[category_list[i]]=9\n",
    "\n",
    "    elif ('biography' in str(category_list[i]).lower()):\n",
    "        cate_dict[category_list[i]]=9"
   ]
  },
  {
   "cell_type": "code",
   "execution_count": 21,
   "metadata": {},
   "outputs": [],
   "source": [
    "books['category']=books['category'].map(cate_dict)"
   ]
  },
  {
   "cell_type": "code",
   "execution_count": 22,
   "metadata": {},
   "outputs": [
    {
     "name": "stdout",
     "output_type": "stream",
     "text": [
      "<class 'pandas.core.frame.DataFrame'>\n",
      "RangeIndex: 149570 entries, 0 to 149569\n",
      "Data columns (total 10 columns):\n",
      " #   Column               Non-Null Count   Dtype  \n",
      "---  ------               --------------   -----  \n",
      " 0   isbn                 149570 non-null  object \n",
      " 1   book_title           149570 non-null  object \n",
      " 2   book_author          149570 non-null  object \n",
      " 3   year_of_publication  149570 non-null  float64\n",
      " 4   publisher            149570 non-null  int64  \n",
      " 5   img_url              149570 non-null  object \n",
      " 6   language             149570 non-null  int64  \n",
      " 7   category             74376 non-null   float64\n",
      " 8   summary              82343 non-null   object \n",
      " 9   img_path             149570 non-null  object \n",
      "dtypes: float64(2), int64(2), object(6)\n",
      "memory usage: 11.4+ MB\n"
     ]
    }
   ],
   "source": [
    "books.info()"
   ]
  },
  {
   "cell_type": "markdown",
   "metadata": {},
   "source": [
    "남은 카테고리는 유저들이 읽은 다른책이용해서 카테고리 채우기"
   ]
  },
  {
   "cell_type": "code",
   "execution_count": 23,
   "metadata": {},
   "outputs": [
    {
     "name": "stdout",
     "output_type": "stream",
     "text": [
      "<class 'pandas.core.frame.DataFrame'>\n",
      "RangeIndex: 149570 entries, 0 to 149569\n",
      "Data columns (total 10 columns):\n",
      " #   Column               Non-Null Count   Dtype  \n",
      "---  ------               --------------   -----  \n",
      " 0   isbn                 149570 non-null  object \n",
      " 1   book_title           149570 non-null  object \n",
      " 2   book_author          149570 non-null  object \n",
      " 3   year_of_publication  149570 non-null  float64\n",
      " 4   publisher            149570 non-null  int64  \n",
      " 5   img_url              149570 non-null  object \n",
      " 6   language             149570 non-null  int64  \n",
      " 7   category             130751 non-null  float64\n",
      " 8   summary              82343 non-null   object \n",
      " 9   img_path             149570 non-null  object \n",
      "dtypes: float64(2), int64(2), object(6)\n",
      "memory usage: 11.4+ MB\n"
     ]
    }
   ],
   "source": [
    "datasets2=datasets.copy()\n",
    "datasets2['category']=datasets['category'].map(cate_dict)\n",
    "user_cate=datasets2.groupby('user_id').mean()['category'].dropna().apply(lambda x:int(x)).to_dict()\n",
    "datasets2['category']=np.where(datasets2['category'].isna(),datasets2['user_id'].map(user_cate),datasets2['category'])\n",
    "isbn_cate=datasets2.groupby('isbn').mean()['category'].dropna().to_dict()\n",
    "books['category']=np.where(books['category'].isna(),books['isbn'].map(isbn_cate),books['category'])\n",
    "books.info()"
   ]
  },
  {
   "cell_type": "code",
   "execution_count": 24,
   "metadata": {},
   "outputs": [],
   "source": [
    "books.to_csv('books_2.0.csv',index=False)\n",
    "users.to_csv('users_2.0.csv',index=False)"
   ]
  },
  {
   "cell_type": "code",
   "execution_count": null,
   "metadata": {},
   "outputs": [],
   "source": []
  }
 ],
 "metadata": {
  "kernelspec": {
   "display_name": "Python 3 (ipykernel)",
   "language": "python",
   "name": "python3"
  },
  "language_info": {
   "codemirror_mode": {
    "name": "ipython",
    "version": 3
   },
   "file_extension": ".py",
   "mimetype": "text/x-python",
   "name": "python",
   "nbconvert_exporter": "python",
   "pygments_lexer": "ipython3",
   "version": "3.8.13"
  },
  "vscode": {
   "interpreter": {
    "hash": "d4d1e4263499bec80672ea0156c357c1ee493ec2b1c70f0acce89fc37c4a6abe"
   }
  }
 },
 "nbformat": 4,
 "nbformat_minor": 2
}
