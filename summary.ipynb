{
 "cells": [
  {
   "cell_type": "code",
   "execution_count": 169,
   "metadata": {},
   "outputs": [
    {
     "data": {
      "text/html": [
       "<div>\n",
       "<style scoped>\n",
       "    .dataframe tbody tr th:only-of-type {\n",
       "        vertical-align: middle;\n",
       "    }\n",
       "\n",
       "    .dataframe tbody tr th {\n",
       "        vertical-align: top;\n",
       "    }\n",
       "\n",
       "    .dataframe thead th {\n",
       "        text-align: right;\n",
       "    }\n",
       "</style>\n",
       "<table border=\"1\" class=\"dataframe\">\n",
       "  <thead>\n",
       "    <tr style=\"text-align: right;\">\n",
       "      <th></th>\n",
       "      <th>isbn</th>\n",
       "      <th>summary</th>\n",
       "    </tr>\n",
       "  </thead>\n",
       "  <tbody>\n",
       "    <tr>\n",
       "      <th>0</th>\n",
       "      <td>0002005018</td>\n",
       "      <td>In a small town in Canada, Clara Callan reluct...</td>\n",
       "    </tr>\n",
       "    <tr>\n",
       "      <th>1</th>\n",
       "      <td>0060973129</td>\n",
       "      <td>Here, for the first time in paperback, is an o...</td>\n",
       "    </tr>\n",
       "    <tr>\n",
       "      <th>2</th>\n",
       "      <td>0374157065</td>\n",
       "      <td>Describes the great flu epidemic of 1918, an o...</td>\n",
       "    </tr>\n",
       "    <tr>\n",
       "      <th>3</th>\n",
       "      <td>0399135782</td>\n",
       "      <td>A Chinese immigrant who is convinced she is dy...</td>\n",
       "    </tr>\n",
       "    <tr>\n",
       "      <th>4</th>\n",
       "      <td>0425176428</td>\n",
       "      <td>Essays by respected military historians, inclu...</td>\n",
       "    </tr>\n",
       "  </tbody>\n",
       "</table>\n",
       "</div>"
      ],
      "text/plain": [
       "         isbn                                            summary\n",
       "0  0002005018  In a small town in Canada, Clara Callan reluct...\n",
       "1  0060973129  Here, for the first time in paperback, is an o...\n",
       "2  0374157065  Describes the great flu epidemic of 1918, an o...\n",
       "3  0399135782  A Chinese immigrant who is convinced she is dy...\n",
       "4  0425176428  Essays by respected military historians, inclu..."
      ]
     },
     "execution_count": 169,
     "metadata": {},
     "output_type": "execute_result"
    }
   ],
   "source": [
    "import os\n",
    "import re\n",
    "import warnings\n",
    "import pandas as pd\n",
    "import numpy as np\n",
    "import requests\n",
    "import tqdm\n",
    "from tqdm import tqdm_notebook\n",
    "\n",
    "\n",
    "import matplotlib.pyplot as plt\n",
    "from PIL import Image\n",
    "\n",
    "\n",
    "from sklearn.model_selection import train_test_split\n",
    "import torch\n",
    "import torch.nn as nn\n",
    "import torch.optim as optim\n",
    "from torch.utils.data import DataLoader, Dataset\n",
    "\n",
    "\n",
    "import nltk\n",
    "from nltk import tokenize\n",
    "from transformers import BertModel, BertTokenizer\n",
    "\n",
    "\n",
    "books=pd.read_csv('books_1.0.csv')\n",
    "users=pd.read_csv('users_f_location_1.1.csv')\n",
    "ratings=pd.read_csv('train_ratings.csv')\n",
    "\n",
    " \n",
    "\n",
    "\n",
    "books_text_df = books[['isbn', 'summary']].copy()\n",
    "books_text_df['summary'].fillna('None', inplace=True)\n",
    "books_text_df.shape\n",
    "books_text_df.head()"
   ]
  },
  {
   "cell_type": "code",
   "execution_count": 170,
   "metadata": {},
   "outputs": [],
   "source": [
    "# 기본적인 전처리\n",
    "# 필요에 따라 전처리 함수 추가 가능\n",
    "def text_preprocessing(summary):\n",
    "    summary = re.sub(\"[.,\\'\\\"''\"\"!?]\", \"\", summary)\n",
    "    summary = re.sub(\"[^0-9a-zA-Z\\\\s]\", \" \", summary)\n",
    "    summary = re.sub(\"\\s+\", \" \", summary)\n",
    "    summary = summary.lower()\n",
    "    return summary"
   ]
  },
  {
   "cell_type": "code",
   "execution_count": 171,
   "metadata": {},
   "outputs": [
    {
     "name": "stdout",
     "output_type": "stream",
     "text": [
      "[before]\n",
      "In a small town in Canada, Clara Callan reluctantly takes leave of her\n",
      "sister, Nora, who is bound for New York.\n",
      "[after]\n",
      "in a small town in canada clara callan reluctantly takes leave of her sister nora who is bound for new york\n"
     ]
    }
   ],
   "source": [
    "print(\"[before]\")\n",
    "print(books_text_df['summary'][0])\n",
    "print(\"[after]\")\n",
    "print(text_preprocessing(books_text_df['summary'][0]))\n",
    "\n",
    "# 적용\n",
    "books_text_df['summary'] = books_text_df['summary'].apply(lambda x:text_preprocessing(x))\n",
    "books_text_df['summary'].replace({'':'None', ' ':'None'}, inplace=True)"
   ]
  },
  {
   "cell_type": "code",
   "execution_count": 172,
   "metadata": {},
   "outputs": [
    {
     "name": "stdout",
     "output_type": "stream",
     "text": [
      "(306795, 5)\n"
     ]
    },
    {
     "data": {
      "text/html": [
       "<div>\n",
       "<style scoped>\n",
       "    .dataframe tbody tr th:only-of-type {\n",
       "        vertical-align: middle;\n",
       "    }\n",
       "\n",
       "    .dataframe tbody tr th {\n",
       "        vertical-align: top;\n",
       "    }\n",
       "\n",
       "    .dataframe thead th {\n",
       "        text-align: right;\n",
       "    }\n",
       "</style>\n",
       "<table border=\"1\" class=\"dataframe\">\n",
       "  <thead>\n",
       "    <tr style=\"text-align: right;\">\n",
       "      <th></th>\n",
       "      <th>user_id</th>\n",
       "      <th>isbn</th>\n",
       "      <th>rating</th>\n",
       "      <th>summary</th>\n",
       "      <th>summary_length</th>\n",
       "    </tr>\n",
       "  </thead>\n",
       "  <tbody>\n",
       "    <tr>\n",
       "      <th>0</th>\n",
       "      <td>8</td>\n",
       "      <td>0002005018</td>\n",
       "      <td>4</td>\n",
       "      <td>in a small town in canada clara callan relucta...</td>\n",
       "      <td>107</td>\n",
       "    </tr>\n",
       "    <tr>\n",
       "      <th>1</th>\n",
       "      <td>67544</td>\n",
       "      <td>0002005018</td>\n",
       "      <td>7</td>\n",
       "      <td>in a small town in canada clara callan relucta...</td>\n",
       "      <td>107</td>\n",
       "    </tr>\n",
       "    <tr>\n",
       "      <th>2</th>\n",
       "      <td>123629</td>\n",
       "      <td>0002005018</td>\n",
       "      <td>8</td>\n",
       "      <td>in a small town in canada clara callan relucta...</td>\n",
       "      <td>107</td>\n",
       "    </tr>\n",
       "    <tr>\n",
       "      <th>3</th>\n",
       "      <td>200273</td>\n",
       "      <td>0002005018</td>\n",
       "      <td>8</td>\n",
       "      <td>in a small town in canada clara callan relucta...</td>\n",
       "      <td>107</td>\n",
       "    </tr>\n",
       "    <tr>\n",
       "      <th>4</th>\n",
       "      <td>210926</td>\n",
       "      <td>0002005018</td>\n",
       "      <td>9</td>\n",
       "      <td>in a small town in canada clara callan relucta...</td>\n",
       "      <td>107</td>\n",
       "    </tr>\n",
       "  </tbody>\n",
       "</table>\n",
       "</div>"
      ],
      "text/plain": [
       "   user_id        isbn  rating  \\\n",
       "0        8  0002005018       4   \n",
       "1    67544  0002005018       7   \n",
       "2   123629  0002005018       8   \n",
       "3   200273  0002005018       8   \n",
       "4   210926  0002005018       9   \n",
       "\n",
       "                                             summary  summary_length  \n",
       "0  in a small town in canada clara callan relucta...             107  \n",
       "1  in a small town in canada clara callan relucta...             107  \n",
       "2  in a small town in canada clara callan relucta...             107  \n",
       "3  in a small town in canada clara callan relucta...             107  \n",
       "4  in a small town in canada clara callan relucta...             107  "
      ]
     },
     "execution_count": 172,
     "metadata": {},
     "output_type": "execute_result"
    }
   ],
   "source": [
    "df = ratings.copy()\n",
    "df_fe = pd.merge(df, books_text_df[['isbn', 'summary']], how='inner', on='isbn')\n",
    "df_fe['summary_length'] = df_fe['summary'].apply(lambda x:len(x))\n",
    "print(df_fe.shape)\n",
    "df_fe.head()"
   ]
  },
  {
   "cell_type": "code",
   "execution_count": 173,
   "metadata": {},
   "outputs": [
    {
     "name": "stderr",
     "output_type": "stream",
     "text": [
      "Some weights of the model checkpoint at bert-base-uncased were not used when initializing BertModel: ['cls.predictions.transform.dense.weight', 'cls.predictions.bias', 'cls.predictions.transform.dense.bias', 'cls.seq_relationship.weight', 'cls.predictions.transform.LayerNorm.bias', 'cls.seq_relationship.bias', 'cls.predictions.decoder.weight', 'cls.predictions.transform.LayerNorm.weight']\n",
      "- This IS expected if you are initializing BertModel from the checkpoint of a model trained on another task or with another architecture (e.g. initializing a BertForSequenceClassification model from a BertForPreTraining model).\n",
      "- This IS NOT expected if you are initializing BertModel from the checkpoint of a model that you expect to be exactly identical (initializing a BertForSequenceClassification model from a BertForSequenceClassification model).\n"
     ]
    }
   ],
   "source": [
    "device = torch.device(\"cuda:0\" if torch.cuda.is_available() else \"cpu\")\n",
    "tokenizer = BertTokenizer.from_pretrained('bert-base-uncased')\n",
    "model = BertModel.from_pretrained('bert-base-uncased').to(device)"
   ]
  },
  {
   "cell_type": "code",
   "execution_count": 174,
   "metadata": {},
   "outputs": [],
   "source": [
    "# 유저 별 하나의 요약 문서 만들기\n",
    "def summary_merge(df, user_id, max_summary):\n",
    "    return \" \".join(df[df['user_id'] == user_id].sort_values(by='summary_length', ascending=False)['summary'].values[:max_summary])\n",
    "\n",
    "# 텍스트 벡터화\n",
    "def text_to_vector(text, device):\n",
    "    for sent in tokenize.sent_tokenize(text):\n",
    "        text_ = \"[CLS] \" + sent + \" [SEP]\"\n",
    "        tokenized = tokenizer.tokenize(text_)\n",
    "        indexed = tokenizer.convert_tokens_to_ids(tokenized)\n",
    "        segments_idx = [1] * len(tokenized)\n",
    "        token_tensor = torch.tensor([indexed])\n",
    "        sgments_tensor = torch.tensor([segments_idx])\n",
    "        with torch.no_grad():\n",
    "            outputs = model(token_tensor.to(device), sgments_tensor.to(device))\n",
    "            encode_layers = outputs[0]\n",
    "            sentence_embedding = torch.mean(encode_layers[0], dim=0)\n",
    "    return sentence_embedding.cpu().detach().numpy()"
   ]
  },
  {
   "cell_type": "code",
   "execution_count": 7,
   "metadata": {},
   "outputs": [
    {
     "data": {
      "text/html": [
       "<div>\n",
       "<style scoped>\n",
       "    .dataframe tbody tr th:only-of-type {\n",
       "        vertical-align: middle;\n",
       "    }\n",
       "\n",
       "    .dataframe tbody tr th {\n",
       "        vertical-align: top;\n",
       "    }\n",
       "\n",
       "    .dataframe thead th {\n",
       "        text-align: right;\n",
       "    }\n",
       "</style>\n",
       "<table border=\"1\" class=\"dataframe\">\n",
       "  <thead>\n",
       "    <tr style=\"text-align: right;\">\n",
       "      <th></th>\n",
       "      <th>user_id</th>\n",
       "      <th>user_summary_merge_vector</th>\n",
       "    </tr>\n",
       "  </thead>\n",
       "  <tbody>\n",
       "    <tr>\n",
       "      <th>0</th>\n",
       "      <td>8</td>\n",
       "      <td>[-0.10631599, 0.07719624, 0.3148368, -0.046547...</td>\n",
       "    </tr>\n",
       "    <tr>\n",
       "      <th>1</th>\n",
       "      <td>67544</td>\n",
       "      <td>[-0.26861295, -0.05863912, 0.47870007, 0.00170...</td>\n",
       "    </tr>\n",
       "    <tr>\n",
       "      <th>2</th>\n",
       "      <td>123629</td>\n",
       "      <td>[-0.21812886, -0.20392, 0.064398155, -0.135915...</td>\n",
       "    </tr>\n",
       "    <tr>\n",
       "      <th>3</th>\n",
       "      <td>200273</td>\n",
       "      <td>[-0.21812886, -0.20392, 0.064398155, -0.135915...</td>\n",
       "    </tr>\n",
       "    <tr>\n",
       "      <th>4</th>\n",
       "      <td>210926</td>\n",
       "      <td>[-0.38687736, 0.074735105, 0.17002048, -0.2698...</td>\n",
       "    </tr>\n",
       "  </tbody>\n",
       "</table>\n",
       "</div>"
      ],
      "text/plain": [
       "   user_id                          user_summary_merge_vector\n",
       "0        8  [-0.10631599, 0.07719624, 0.3148368, -0.046547...\n",
       "1    67544  [-0.26861295, -0.05863912, 0.47870007, 0.00170...\n",
       "2   123629  [-0.21812886, -0.20392, 0.064398155, -0.135915...\n",
       "3   200273  [-0.21812886, -0.20392, 0.064398155, -0.135915...\n",
       "4   210926  [-0.38687736, 0.074735105, 0.17002048, -0.2698..."
      ]
     },
     "execution_count": 7,
     "metadata": {},
     "output_type": "execute_result"
    }
   ],
   "source": [
    "user_summary_merge_vector = list(map(lambda x:text_to_vector(summary_merge(df_fe, x, 5), device), df_fe['user_id'].unique()))\n",
    "user_review_text_df = pd.DataFrame(df_fe['user_id'].unique(), columns=['user_id'])\n",
    "user_review_text_df['user_summary_merge_vector'] = user_summary_merge_vector\n",
    "user_review_text_df.head()"
   ]
  },
  {
   "cell_type": "code",
   "execution_count": 175,
   "metadata": {},
   "outputs": [],
   "source": [
    "item_summary_vector = list(map(lambda x:text_to_vector(x, device), books_text_df['summary'].tolist()))"
   ]
  },
  {
   "cell_type": "code",
   "execution_count": 178,
   "metadata": {},
   "outputs": [
    {
     "name": "stdout",
     "output_type": "stream",
     "text": [
      "unique user_id : 59803\n",
      "unique isbn : 129777\n",
      "(306795, 7)\n"
     ]
    },
    {
     "data": {
      "text/html": [
       "<div>\n",
       "<style scoped>\n",
       "    .dataframe tbody tr th:only-of-type {\n",
       "        vertical-align: middle;\n",
       "    }\n",
       "\n",
       "    .dataframe tbody tr th {\n",
       "        vertical-align: top;\n",
       "    }\n",
       "\n",
       "    .dataframe thead th {\n",
       "        text-align: right;\n",
       "    }\n",
       "</style>\n",
       "<table border=\"1\" class=\"dataframe\">\n",
       "  <thead>\n",
       "    <tr style=\"text-align: right;\">\n",
       "      <th></th>\n",
       "      <th>user_id</th>\n",
       "      <th>isbn</th>\n",
       "      <th>rating</th>\n",
       "      <th>summary</th>\n",
       "      <th>summary_length</th>\n",
       "      <th>user_summary_merge_vector</th>\n",
       "      <th>item_summary_vector</th>\n",
       "    </tr>\n",
       "  </thead>\n",
       "  <tbody>\n",
       "    <tr>\n",
       "      <th>0</th>\n",
       "      <td>0</td>\n",
       "      <td>0</td>\n",
       "      <td>4</td>\n",
       "      <td>in a small town in canada clara callan relucta...</td>\n",
       "      <td>107</td>\n",
       "      <td>[-0.10631599, 0.07719624, 0.3148368, -0.046547...</td>\n",
       "      <td>[-0.21812886, -0.20392, 0.064398155, -0.135915...</td>\n",
       "    </tr>\n",
       "    <tr>\n",
       "      <th>1</th>\n",
       "      <td>1</td>\n",
       "      <td>0</td>\n",
       "      <td>7</td>\n",
       "      <td>in a small town in canada clara callan relucta...</td>\n",
       "      <td>107</td>\n",
       "      <td>[-0.26861295, -0.05863912, 0.47870007, 0.00170...</td>\n",
       "      <td>[-0.21812886, -0.20392, 0.064398155, -0.135915...</td>\n",
       "    </tr>\n",
       "    <tr>\n",
       "      <th>2</th>\n",
       "      <td>2</td>\n",
       "      <td>0</td>\n",
       "      <td>8</td>\n",
       "      <td>in a small town in canada clara callan relucta...</td>\n",
       "      <td>107</td>\n",
       "      <td>[-0.21812886, -0.20392, 0.064398155, -0.135915...</td>\n",
       "      <td>[-0.21812886, -0.20392, 0.064398155, -0.135915...</td>\n",
       "    </tr>\n",
       "    <tr>\n",
       "      <th>3</th>\n",
       "      <td>3</td>\n",
       "      <td>0</td>\n",
       "      <td>8</td>\n",
       "      <td>in a small town in canada clara callan relucta...</td>\n",
       "      <td>107</td>\n",
       "      <td>[-0.21812886, -0.20392, 0.064398155, -0.135915...</td>\n",
       "      <td>[-0.21812886, -0.20392, 0.064398155, -0.135915...</td>\n",
       "    </tr>\n",
       "    <tr>\n",
       "      <th>4</th>\n",
       "      <td>4</td>\n",
       "      <td>0</td>\n",
       "      <td>9</td>\n",
       "      <td>in a small town in canada clara callan relucta...</td>\n",
       "      <td>107</td>\n",
       "      <td>[-0.38687736, 0.074735105, 0.17002048, -0.2698...</td>\n",
       "      <td>[-0.21812886, -0.20392, 0.064398155, -0.135915...</td>\n",
       "    </tr>\n",
       "  </tbody>\n",
       "</table>\n",
       "</div>"
      ],
      "text/plain": [
       "   user_id  isbn  rating                                            summary  \\\n",
       "0        0     0       4  in a small town in canada clara callan relucta...   \n",
       "1        1     0       7  in a small town in canada clara callan relucta...   \n",
       "2        2     0       8  in a small town in canada clara callan relucta...   \n",
       "3        3     0       8  in a small town in canada clara callan relucta...   \n",
       "4        4     0       9  in a small town in canada clara callan relucta...   \n",
       "\n",
       "   summary_length                          user_summary_merge_vector  \\\n",
       "0             107  [-0.10631599, 0.07719624, 0.3148368, -0.046547...   \n",
       "1             107  [-0.26861295, -0.05863912, 0.47870007, 0.00170...   \n",
       "2             107  [-0.21812886, -0.20392, 0.064398155, -0.135915...   \n",
       "3             107  [-0.21812886, -0.20392, 0.064398155, -0.135915...   \n",
       "4             107  [-0.38687736, 0.074735105, 0.17002048, -0.2698...   \n",
       "\n",
       "                                 item_summary_vector  \n",
       "0  [-0.21812886, -0.20392, 0.064398155, -0.135915...  \n",
       "1  [-0.21812886, -0.20392, 0.064398155, -0.135915...  \n",
       "2  [-0.21812886, -0.20392, 0.064398155, -0.135915...  \n",
       "3  [-0.21812886, -0.20392, 0.064398155, -0.135915...  \n",
       "4  [-0.21812886, -0.20392, 0.064398155, -0.135915...  "
      ]
     },
     "execution_count": 178,
     "metadata": {},
     "output_type": "execute_result"
    }
   ],
   "source": [
    "books_text_df['item_summary_vector'] = item_summary_vector\n",
    "\n",
    "# User Review Text Vector 결합\n",
    "df_fe_join = pd.merge(df_fe, user_review_text_df, on='user_id', how='left')\n",
    "#  Item Review Text Vector 결합\n",
    "df_fe_join = pd.merge(df_fe_join, books_text_df[['isbn', 'item_summary_vector']], on='isbn', how='left')\n",
    "# encoding\n",
    "user2idx = {v:k for k,v in enumerate(df_fe['user_id'].unique())}\n",
    "book2idx = {v:k for k,v in enumerate(df_fe['isbn'].unique())}\n",
    "print('unique user_id :', len(user2idx))\n",
    "print('unique isbn :', len(book2idx))\n",
    "df_fe_join['isbn'] = df_fe_join['isbn'].map(book2idx)\n",
    "df_fe_join['user_id'] = df_fe_join['user_id'].map(user2idx)\n",
    "\n",
    "print(df_fe_join.shape)\n",
    "df_fe_join.head()"
   ]
  },
  {
   "cell_type": "code",
   "execution_count": 179,
   "metadata": {},
   "outputs": [
    {
     "name": "stdout",
     "output_type": "stream",
     "text": [
      "(306795, 5)\n",
      "(245436, 4)\n",
      "(61359, 4)\n"
     ]
    }
   ],
   "source": [
    "size = 0.2\n",
    "seed = 42\n",
    "X_train, X_test, y_train, y_test = train_test_split(\n",
    "                                                    df_fe_join[['user_id', 'isbn', 'user_summary_merge_vector', 'item_summary_vector']], \n",
    "                                                    df_fe_join['rating'], \n",
    "                                                    test_size=size, \n",
    "                                                    random_state=seed,\n",
    "                                                    )\n",
    "print(df_fe.shape)\n",
    "print(X_train.shape)\n",
    "print(X_test.shape)"
   ]
  },
  {
   "cell_type": "code",
   "execution_count": 203,
   "metadata": {},
   "outputs": [],
   "source": [
    "class CNN(nn.Module):\n",
    "    def __init__(self, word_dim, out_dim, kernel_size, conv_1d_out_dim):\n",
    "        super(CNN, self).__init__()\n",
    "        self.conv = nn.Sequential(\n",
    "                                nn.Conv1d(\n",
    "                                        in_channels=word_dim,\n",
    "                                        out_channels=out_dim,\n",
    "                                        kernel_size=kernel_size,\n",
    "                                        padding=(kernel_size - 1) // 2), \n",
    "                                nn.ReLU(),\n",
    "                                nn.MaxPool2d(kernel_size=(kernel_size, 1)),  \n",
    "                                nn.Dropout(p=0.5)\n",
    "                                )\n",
    "        self.linear = nn.Sequential(\n",
    "                                    nn.Linear(int(out_dim/kernel_size), conv_1d_out_dim),\n",
    "                                    nn.ReLU(),\n",
    "                                    nn.Dropout(p=0.5))\n",
    "\n",
    "    def forward(self, vec): \n",
    "        output = self.conv(vec)  \n",
    "        output = self.linear(output.reshape(-1, output.size(1)))\n",
    "        return output \n",
    "\n",
    "class FactorizationMachine(nn.Module):\n",
    "    def __init__(self, input_dim, latent_dim):  \n",
    "        super().__init__()\n",
    "        self.v = nn.Parameter(torch.rand(input_dim, latent_dim), requires_grad = True)\n",
    "        self.linear = nn.Linear(input_dim, 1, bias=True)\n",
    "    def forward(self, x):\n",
    "        linear = self.linear(x)  \n",
    "        square_of_sum = torch.mm(x, self.v) ** 2\n",
    "        sum_of_square = torch.mm(x ** 2, self.v ** 2)\n",
    "        pair_interactions = torch.sum(square_of_sum - sum_of_square, dim=1, keepdim=True)\n",
    "        output = linear + (0.5 * pair_interactions)\n",
    "        return output  \n",
    "\n",
    "class DeepCoNN(nn.Module):\n",
    "    def __init__(self, word_dim, out_dim, kernel_size, conv_1d_out_dim, latent_dim):\n",
    "        super(DeepCoNN, self).__init__()\n",
    "        self.cnn_u = CNN(\n",
    "                         word_dim=word_dim, \n",
    "                         out_dim=out_dim, \n",
    "                         kernel_size=kernel_size, \n",
    "                         conv_1d_out_dim=conv_1d_out_dim,\n",
    "                        )\n",
    "        self.cnn_i = CNN(\n",
    "                         word_dim=word_dim, \n",
    "                         out_dim=out_dim, \n",
    "                         kernel_size=kernel_size, \n",
    "                         conv_1d_out_dim=conv_1d_out_dim,\n",
    "                        )\n",
    "        self.fm = FactorizationMachine(\n",
    "                                       input_dim=conv_1d_out_dim * 2, \n",
    "                                       latent_dim=latent_dim,\n",
    "                                       )\n",
    "    def forward(self, x):\n",
    "        user_text_vector, item_text_vector = x[0], x[1]\n",
    "        user_text_feature = self.cnn_u(user_text_vector)\n",
    "        item_text_feature = self.cnn_i(item_text_vector)\n",
    "        feature_vector = torch.cat([user_text_feature, item_text_feature], dim=1)\n",
    "        output = self.fm(feature_vector)\n",
    "        return output.squeeze(1)\n",
    "\n",
    "class Dataset(Dataset):\n",
    "    def __init__(self, user_summary_merge_vector, item_summary_vector, label):\n",
    "        self.user_summary_merge_vector = user_summary_merge_vector\n",
    "        self.item_summary_vector = item_summary_vector\n",
    "        self.label = label\n",
    "        \n",
    "    def __len__(self):\n",
    "        return self.user_summary_merge_vector.shape[0]\n",
    "    \n",
    "    def __getitem__(self, i):\n",
    "        return {\n",
    "                'user_summary_merge_vector' : torch.tensor(self.user_summary_merge_vector[i].reshape(-1, 1), dtype=torch.float32),\n",
    "                'item_summary_vector' : torch.tensor(self.user_summary_merge_vector[i].reshape(-1, 1), dtype=torch.float32),\n",
    "                'label' : torch.tensor(self.label[i], dtype=torch.float32),\n",
    "                }\n",
    "                \n",
    "class RMSELoss(torch.nn.Module):\n",
    "    def __init__(self):\n",
    "        super(RMSELoss,self).__init__()\n",
    "        self.eps = 1e-6\n",
    "\n",
    "    def forward(self, x, y):\n",
    "        criterion = nn.MSELoss()\n",
    "        loss = torch.sqrt(criterion(x, y)+self.eps)\n",
    "        return loss\n",
    "\n",
    "def rmse_score(actual, inference):\n",
    "    return np.sqrt(sum((actual-inference)**2)/len(actual))\n",
    "\n",
    "def train(model, optimizer, data_loader, criterion, device, epochs, model_name):\n",
    "    minimum_loss = 999999999\n",
    "    model.train()\n",
    "    loss_list = []\n",
    "    tk0 = tqdm.tqdm(range(epochs), smoothing=0, mininterval=1.0)\n",
    "    for epoch in tk0:\n",
    "        total_loss = 0\n",
    "        n = 0\n",
    "        for i, data in enumerate(data_loader):\n",
    "            if len(data)==3:\n",
    "                fields, target = [data['user_summary_merge_vector'].to(device), data['item_summary_vector'].to(device)], data['label'].to(device)\n",
    "            elif len(data)==4:\n",
    "                fields, target = [data['user_isbn_vector'].to(device), data['user_summary_merge_vector'].to(device), data['item_summary_vector'].to(device)], data['label'].to(device)\n",
    "            \n",
    "            y = model(fields)\n",
    "            loss = criterion(y, target.float())\n",
    "            model.zero_grad()\n",
    "            loss.backward()\n",
    "            optimizer.step()\n",
    "            total_loss += loss.item()\n",
    "            n += 1\n",
    "        if minimum_loss > (total_loss/n):\n",
    "            minimum_loss = (total_loss/n)\n",
    "            torch.save(model.state_dict(), './{}.pt'.format(model_name))\n",
    "            loss_list.append([epoch, total_loss/n, 'Model saved'])\n",
    "        else:\n",
    "            loss_list.append([epoch, total_loss/n, 'None'])\n",
    "        tk0.set_postfix(loss=total_loss/n)\n",
    "    loss_df = pd.DataFrame(loss_list, columns=['epoch', 'loss', 'check'])\n",
    "    plt.figure(figsize=(21, 5))\n",
    "    plt.title(\"Epoch vs Loss Plot\")\n",
    "    plt.plot(loss_df['epoch'], loss_df['loss'], label='loss', marker='o')\n",
    "    plt.xlabel('Epoch')\n",
    "    plt.ylabel('Loss')\n",
    "    plt.ylim(0, 10)\n",
    "    plt.legend()\n",
    "    plt.show()\n",
    "\n",
    "def test(model, data_loader, device, model_name):\n",
    "    model.eval()\n",
    "    model.load_state_dict(torch.load('./{}.pt'.format(model_name)))\n",
    "    targets, predicts = list(), list()\n",
    "    with torch.no_grad():\n",
    "        for data in tqdm.tqdm(data_loader, smoothing=0, mininterval=1.0):\n",
    "            if len(data)==3:\n",
    "                fields, target = [data['user_summary_merge_vector'].to(device), data['item_summary_vector'].to(device)], data['label'].to(device)\n",
    "            elif len(data)==4:\n",
    "                fields, target = [data['user_isbn_vector'].to(device), data['user_summary_merge_vector'].to(device), data['item_summary_vector'].to(device)], data['label'].to(device)\n",
    "            y = model(fields)\n",
    "            targets.extend(target.tolist())\n",
    "            predicts.extend(y.tolist())\n",
    "    return targets, predicts\n",
    "    "
   ]
  },
  {
   "cell_type": "code",
   "execution_count": 204,
   "metadata": {},
   "outputs": [],
   "source": [
    "class CNN(nn.Module):\n",
    "    def __init__(self, word_dim, out_dim, kernel_size, conv_1d_out_dim):\n",
    "        super(CNN, self).__init__()\n",
    "        self.conv = nn.Sequential(\n",
    "                                nn.Conv1d(\n",
    "                                        in_channels=word_dim,\n",
    "                                        out_channels=out_dim,\n",
    "                                        kernel_size=kernel_size,\n",
    "                                        padding=(kernel_size - 1) // 2), \n",
    "                                nn.ReLU(),\n",
    "                                nn.MaxPool2d(kernel_size=(kernel_size, 1)),  \n",
    "                                nn.Dropout(p=0.5)\n",
    "                                )\n",
    "        self.linear = nn.Sequential(\n",
    "                                    nn.Linear(int(out_dim/kernel_size), conv_1d_out_dim),\n",
    "                                    nn.ReLU(),\n",
    "                                    nn.Dropout(p=0.5))\n",
    "\n",
    "    def forward(self, vec): \n",
    "        output = self.conv(vec)  \n",
    "        output = self.linear(output.reshape(-1, output.size(1)))\n",
    "        return output \n",
    "\n",
    "class FeaturesEmbedding(torch.nn.Module):\n",
    "    def __init__(self, field_dims, embed_dim):\n",
    "        super().__init__()\n",
    "        self.embedding = torch.nn.Embedding(sum(field_dims), embed_dim)\n",
    "        self.offsets = np.array((0, *np.cumsum(field_dims)[:-1]), dtype=np.long)\n",
    "        torch.nn.init.xavier_uniform_(self.embedding.weight.data)\n",
    "    def forward(self, x):\n",
    "        x = x + x.new_tensor(self.offsets).unsqueeze(0)\n",
    "        x = self.embedding(x)\n",
    "        return x.view(-1, x.size(1) * x.size(2))\n",
    "\n",
    "class DeepCoNN(nn.Module):\n",
    "    def __init__(self, field_dims, embed_dim, word_dim, out_dim, kernel_size, conv_1d_out_dim, latent_dim):\n",
    "        super(DeepCoNN, self).__init__()\n",
    "        self.embedding = FeaturesEmbedding(field_dims, embed_dim)\n",
    "        self.cnn_u = CNN(\n",
    "                         word_dim=word_dim, \n",
    "                         out_dim=out_dim, \n",
    "                         kernel_size=kernel_size, \n",
    "                         conv_1d_out_dim=conv_1d_out_dim,\n",
    "                        )\n",
    "        self.cnn_i = CNN(\n",
    "                         word_dim=word_dim, \n",
    "                         out_dim=out_dim, \n",
    "                         kernel_size=kernel_size, \n",
    "                         conv_1d_out_dim=conv_1d_out_dim,\n",
    "                        )\n",
    "        self.fm = FactorizationMachine(\n",
    "                                       input_dim=(conv_1d_out_dim * 2) + (embed_dim*len(field_dims)), \n",
    "                                       latent_dim=latent_dim,\n",
    "                                       )\n",
    "    def forward(self, x):\n",
    "        user_isbn_vector, user_text_vector, item_text_vector = x[0], x[1], x[2]\n",
    "        user_isbn_feature = self.embedding(user_isbn_vector)                    \n",
    "        user_text_feature = self.cnn_u(user_text_vector)\n",
    "        item_text_feature = self.cnn_i(item_text_vector)\n",
    "        feature_vector = torch.cat([user_isbn_feature, user_text_feature, item_text_feature], dim=1)\n",
    "        output = self.fm(feature_vector)\n",
    "        return output.squeeze(1)\n",
    "\n",
    "class Dataset(Dataset):\n",
    "    def __init__(self, user_isbn_vector, user_summary_merge_vector, item_summary_vector, label):\n",
    "        self.user_isbn_vector = user_isbn_vector\n",
    "        self.user_summary_merge_vector = user_summary_merge_vector\n",
    "        self.item_summary_vector = item_summary_vector\n",
    "        self.label = label\n",
    "        \n",
    "    def __len__(self):\n",
    "        return self.user_isbn_vector.shape[0]\n",
    "    \n",
    "    def __getitem__(self, i):\n",
    "        return {\n",
    "                'user_isbn_vector' : np.array(self.user_isbn_vector[i], dtype=np.long),\n",
    "                'user_summary_merge_vector' : torch.tensor(self.user_summary_merge_vector[i].reshape(-1, 1), dtype=torch.float32),\n",
    "                'item_summary_vector' : torch.tensor(self.item_summary_vector[i].reshape(-1, 1), dtype=torch.float32),\n",
    "                'label' : torch.tensor(self.label[i], dtype=torch.float32),\n",
    "                }"
   ]
  },
  {
   "cell_type": "code",
   "execution_count": 303,
   "metadata": {},
   "outputs": [],
   "source": [
    "# dataloader define\n",
    "train_dataset = Dataset(\n",
    "                        X_train[['user_id', 'isbn']].values,\n",
    "                        X_train['user_summary_merge_vector'].values, \n",
    "                        X_train['item_summary_vector'].values, \n",
    "                        y_train.values\n",
    "                        )\n",
    "test_dataset = Dataset(\n",
    "                        X_test[['user_id', 'isbn']].values,\n",
    "                        X_test['user_summary_merge_vector'].values, \n",
    "                        X_test['item_summary_vector'].values, \n",
    "                        y_test.values\n",
    "                        )\n",
    "\n",
    "#test_dataset = Dataset(\n",
    "#                        df_fe_join[['user_id', 'isbn']].values,\n",
    "#                        df_fe_join['user_summary_merge_vector'].values, \n",
    "#                        df_fe_join['item_summary_vector'].values, \n",
    "#                        df_fe_join['rating'].values\n",
    "#                        )\n",
    "user_isbn_text_train_dataloader = torch.utils.data.DataLoader(train_dataset, batch_size=64, num_workers=0, shuffle=True)\n",
    "user_isbn_text_test_dataloader = torch.utils.data.DataLoader(test_dataset, batch_size=64, num_workers=0, shuffle=False)"
   ]
  },
  {
   "cell_type": "code",
   "execution_count": 206,
   "metadata": {},
   "outputs": [
    {
     "name": "stderr",
     "output_type": "stream",
     "text": [
      "/tmp/ipykernel_57839/3612814842.py:3: DeprecationWarning: `np.long` is a deprecated alias for `np.compat.long`. To silence this warning, use `np.compat.long` by itself. In the likely event your code does not need to work on Python 2 you can use the builtin `int` for which `np.compat.long` is itself an alias. Doing this will not modify any behaviour and is safe. When replacing `np.long`, you may wish to use e.g. `np.int64` or `np.int32` to specify the precision. If you wish to review your current use, check the release note link for additional information.\n",
      "Deprecated in NumPy 1.20; for more details and guidance: https://numpy.org/devdocs/release/1.20.0-notes.html#deprecations\n",
      "  field_dims=np.array([len(user2idx), len(book2idx)], dtype=np.long),\n",
      "/tmp/ipykernel_57839/1845160713.py:28: DeprecationWarning: `np.long` is a deprecated alias for `np.compat.long`. To silence this warning, use `np.compat.long` by itself. In the likely event your code does not need to work on Python 2 you can use the builtin `int` for which `np.compat.long` is itself an alias. Doing this will not modify any behaviour and is safe. When replacing `np.long`, you may wish to use e.g. `np.int64` or `np.int32` to specify the precision. If you wish to review your current use, check the release note link for additional information.\n",
      "Deprecated in NumPy 1.20; for more details and guidance: https://numpy.org/devdocs/release/1.20.0-notes.html#deprecations\n",
      "  self.offsets = np.array((0, *np.cumsum(field_dims)[:-1]), dtype=np.long)\n"
     ]
    }
   ],
   "source": [
    "device = torch.device(\"cuda:0\" if torch.cuda.is_available() else \"cpu\")\n",
    "user_isbn_text_deepconn = DeepCoNN(\n",
    "                                    field_dims=np.array([len(user2idx), len(book2idx)], dtype=np.long), \n",
    "                                    embed_dim=128,\n",
    "                                    word_dim=768, \n",
    "                                    out_dim=100, \n",
    "                                    kernel_size=3, \n",
    "                                    conv_1d_out_dim=50, \n",
    "                                    latent_dim=10,\n",
    "                                    ).to(device)\n",
    "opt = torch.optim.Adam(user_isbn_text_deepconn.parameters(), lr=1e-3)\n",
    "loss = RMSELoss()"
   ]
  },
  {
   "cell_type": "code",
   "execution_count": 207,
   "metadata": {},
   "outputs": [
    {
     "name": "stderr",
     "output_type": "stream",
     "text": [
      "  0%|          | 0/10 [00:00<?, ?it/s]/tmp/ipykernel_57839/1845160713.py:76: DeprecationWarning: `np.long` is a deprecated alias for `np.compat.long`. To silence this warning, use `np.compat.long` by itself. In the likely event your code does not need to work on Python 2 you can use the builtin `int` for which `np.compat.long` is itself an alias. Doing this will not modify any behaviour and is safe. When replacing `np.long`, you may wish to use e.g. `np.int64` or `np.int32` to specify the precision. If you wish to review your current use, check the release note link for additional information.\n",
      "Deprecated in NumPy 1.20; for more details and guidance: https://numpy.org/devdocs/release/1.20.0-notes.html#deprecations\n",
      "  'user_isbn_vector' : np.array(self.user_isbn_vector[i], dtype=np.long),\n",
      "100%|██████████| 10/10 [06:20<00:00, 38.09s/it, loss=0.684]\n"
     ]
    },
    {
     "data": {
      "image/png": "[encoded data removed]",
      "text/plain": [
       "<Figure size 2100x500 with 1 Axes>"
      ]
     },
     "metadata": {},
     "output_type": "display_data"
    }
   ],
   "source": [
    "# train\n",
    "train(\n",
    "    model=user_isbn_text_deepconn,\n",
    "    optimizer=opt,\n",
    "    data_loader=user_isbn_text_train_dataloader,\n",
    "    criterion=loss,\n",
    "    device=device,\n",
    "    epochs=10,\n",
    "    model_name='user_isbn_text_deepconn_rmse',\n",
    ")"
   ]
  },
  {
   "cell_type": "code",
   "execution_count": 208,
   "metadata": {},
   "outputs": [
    {
     "name": "stderr",
     "output_type": "stream",
     "text": [
      "/tmp/ipykernel_57839/1796103825.py:3: DeprecationWarning: `np.long` is a deprecated alias for `np.compat.long`. To silence this warning, use `np.compat.long` by itself. In the likely event your code does not need to work on Python 2 you can use the builtin `int` for which `np.compat.long` is itself an alias. Doing this will not modify any behaviour and is safe. When replacing `np.long`, you may wish to use e.g. `np.int64` or `np.int32` to specify the precision. If you wish to review your current use, check the release note link for additional information.\n",
      "Deprecated in NumPy 1.20; for more details and guidance: https://numpy.org/devdocs/release/1.20.0-notes.html#deprecations\n",
      "  field_dims=np.array([len(user2idx), len(book2idx)], dtype=np.long),\n",
      "/tmp/ipykernel_57839/1845160713.py:28: DeprecationWarning: `np.long` is a deprecated alias for `np.compat.long`. To silence this warning, use `np.compat.long` by itself. In the likely event your code does not need to work on Python 2 you can use the builtin `int` for which `np.compat.long` is itself an alias. Doing this will not modify any behaviour and is safe. When replacing `np.long`, you may wish to use e.g. `np.int64` or `np.int32` to specify the precision. If you wish to review your current use, check the release note link for additional information.\n",
      "Deprecated in NumPy 1.20; for more details and guidance: https://numpy.org/devdocs/release/1.20.0-notes.html#deprecations\n",
      "  self.offsets = np.array((0, *np.cumsum(field_dims)[:-1]), dtype=np.long)\n"
     ]
    }
   ],
   "source": [
    "device = torch.device(\"cuda:0\" if torch.cuda.is_available() else \"cpu\")\n",
    "user_isbn_text_deepconn = DeepCoNN(\n",
    "                                    field_dims=np.array([len(user2idx), len(book2idx)], dtype=np.long), \n",
    "                                    embed_dim=128,\n",
    "                                    word_dim=768, \n",
    "                                    out_dim=100, \n",
    "                                    kernel_size=3, \n",
    "                                    conv_1d_out_dim=50, \n",
    "                                    latent_dim=10,\n",
    "                                    ).to(device)\n",
    "opt = torch.optim.Adam(user_isbn_text_deepconn.parameters(), lr=1e-3)\n",
    "loss = nn.MSELoss()"
   ]
  },
  {
   "cell_type": "code",
   "execution_count": 209,
   "metadata": {},
   "outputs": [
    {
     "name": "stderr",
     "output_type": "stream",
     "text": [
      "  0%|          | 0/10 [00:00<?, ?it/s]/tmp/ipykernel_57839/1845160713.py:76: DeprecationWarning: `np.long` is a deprecated alias for `np.compat.long`. To silence this warning, use `np.compat.long` by itself. In the likely event your code does not need to work on Python 2 you can use the builtin `int` for which `np.compat.long` is itself an alias. Doing this will not modify any behaviour and is safe. When replacing `np.long`, you may wish to use e.g. `np.int64` or `np.int32` to specify the precision. If you wish to review your current use, check the release note link for additional information.\n",
      "Deprecated in NumPy 1.20; for more details and guidance: https://numpy.org/devdocs/release/1.20.0-notes.html#deprecations\n",
      "  'user_isbn_vector' : np.array(self.user_isbn_vector[i], dtype=np.long),\n",
      "100%|██████████| 10/10 [06:13<00:00, 37.38s/it, loss=0.495]\n"
     ]
    },
    {
     "data": {
      "image/png": "[encoded data removed]",
      "text/plain": [
       "<Figure size 2100x500 with 1 Axes>"
      ]
     },
     "metadata": {},
     "output_type": "display_data"
    }
   ],
   "source": [
    "# train\n",
    "train(\n",
    "    model=user_isbn_text_deepconn,\n",
    "    optimizer=opt,\n",
    "    data_loader=user_isbn_text_train_dataloader,\n",
    "    criterion=loss,\n",
    "    device=device,\n",
    "    epochs=10,\n",
    "    model_name='user_isbn_text_deepconn_mse',\n",
    ")"
   ]
  },
  {
   "cell_type": "code",
   "execution_count": 210,
   "metadata": {},
   "outputs": [
    {
     "name": "stderr",
     "output_type": "stream",
     "text": [
      "/tmp/ipykernel_57839/3025055694.py:3: DeprecationWarning: `np.long` is a deprecated alias for `np.compat.long`. To silence this warning, use `np.compat.long` by itself. In the likely event your code does not need to work on Python 2 you can use the builtin `int` for which `np.compat.long` is itself an alias. Doing this will not modify any behaviour and is safe. When replacing `np.long`, you may wish to use e.g. `np.int64` or `np.int32` to specify the precision. If you wish to review your current use, check the release note link for additional information.\n",
      "Deprecated in NumPy 1.20; for more details and guidance: https://numpy.org/devdocs/release/1.20.0-notes.html#deprecations\n",
      "  field_dims=np.array([len(user2idx), len(book2idx)], dtype=np.long),\n",
      "/tmp/ipykernel_57839/1845160713.py:28: DeprecationWarning: `np.long` is a deprecated alias for `np.compat.long`. To silence this warning, use `np.compat.long` by itself. In the likely event your code does not need to work on Python 2 you can use the builtin `int` for which `np.compat.long` is itself an alias. Doing this will not modify any behaviour and is safe. When replacing `np.long`, you may wish to use e.g. `np.int64` or `np.int32` to specify the precision. If you wish to review your current use, check the release note link for additional information.\n",
      "Deprecated in NumPy 1.20; for more details and guidance: https://numpy.org/devdocs/release/1.20.0-notes.html#deprecations\n",
      "  self.offsets = np.array((0, *np.cumsum(field_dims)[:-1]), dtype=np.long)\n"
     ]
    }
   ],
   "source": [
    "device = torch.device(\"cuda:0\" if torch.cuda.is_available() else \"cpu\")\n",
    "user_isbn_text_deepconn = DeepCoNN(\n",
    "                                    field_dims=np.array([len(user2idx), len(book2idx)], dtype=np.long), \n",
    "                                    embed_dim=128,\n",
    "                                    word_dim=768, \n",
    "                                    out_dim=100, \n",
    "                                    kernel_size=3, \n",
    "                                    conv_1d_out_dim=50, \n",
    "                                    latent_dim=10,\n",
    "                                    ).to(device)\n",
    "opt = torch.optim.Adam(user_isbn_text_deepconn.parameters(), lr=1e-3)\n",
    "loss = nn.L1Loss()"
   ]
  },
  {
   "cell_type": "code",
   "execution_count": 211,
   "metadata": {},
   "outputs": [
    {
     "name": "stderr",
     "output_type": "stream",
     "text": [
      "  0%|          | 0/10 [00:00<?, ?it/s]/tmp/ipykernel_57839/1845160713.py:76: DeprecationWarning: `np.long` is a deprecated alias for `np.compat.long`. To silence this warning, use `np.compat.long` by itself. In the likely event your code does not need to work on Python 2 you can use the builtin `int` for which `np.compat.long` is itself an alias. Doing this will not modify any behaviour and is safe. When replacing `np.long`, you may wish to use e.g. `np.int64` or `np.int32` to specify the precision. If you wish to review your current use, check the release note link for additional information.\n",
      "Deprecated in NumPy 1.20; for more details and guidance: https://numpy.org/devdocs/release/1.20.0-notes.html#deprecations\n",
      "  'user_isbn_vector' : np.array(self.user_isbn_vector[i], dtype=np.long),\n",
      "100%|██████████| 10/10 [06:14<00:00, 37.44s/it, loss=0.573]\n"
     ]
    },
    {
     "data": {
      "image/png": "[encoded data removed]",
      "text/plain": [
       "<Figure size 2100x500 with 1 Axes>"
      ]
     },
     "metadata": {},
     "output_type": "display_data"
    }
   ],
   "source": [
    "# train\n",
    "train(\n",
    "    model=user_isbn_text_deepconn,\n",
    "    optimizer=opt,\n",
    "    data_loader=user_isbn_text_train_dataloader,\n",
    "    criterion=loss,\n",
    "    device=device,\n",
    "    epochs=10,\n",
    "    model_name='user_isbn_text_deepconn_mae',\n",
    ")"
   ]
  },
  {
   "cell_type": "code",
   "execution_count": 212,
   "metadata": {},
   "outputs": [
    {
     "name": "stderr",
     "output_type": "stream",
     "text": [
      "  0%|          | 0/959 [00:00<?, ?it/s]/tmp/ipykernel_57839/1845160713.py:76: DeprecationWarning: `np.long` is a deprecated alias for `np.compat.long`. To silence this warning, use `np.compat.long` by itself. In the likely event your code does not need to work on Python 2 you can use the builtin `int` for which `np.compat.long` is itself an alias. Doing this will not modify any behaviour and is safe. When replacing `np.long`, you may wish to use e.g. `np.int64` or `np.int32` to specify the precision. If you wish to review your current use, check the release note link for additional information.\n",
      "Deprecated in NumPy 1.20; for more details and guidance: https://numpy.org/devdocs/release/1.20.0-notes.html#deprecations\n",
      "  'user_isbn_vector' : np.array(self.user_isbn_vector[i], dtype=np.long),\n",
      "100%|██████████| 959/959 [00:04<00:00, 237.83it/s]\n"
     ]
    },
    {
     "name": "stdout",
     "output_type": "stream",
     "text": [
      "test score : 2.46\n",
      "(61359, 2)\n"
     ]
    },
    {
     "data": {
      "text/html": [
       "<div>\n",
       "<style scoped>\n",
       "    .dataframe tbody tr th:only-of-type {\n",
       "        vertical-align: middle;\n",
       "    }\n",
       "\n",
       "    .dataframe tbody tr th {\n",
       "        vertical-align: top;\n",
       "    }\n",
       "\n",
       "    .dataframe thead th {\n",
       "        text-align: right;\n",
       "    }\n",
       "</style>\n",
       "<table border=\"1\" class=\"dataframe\">\n",
       "  <thead>\n",
       "    <tr style=\"text-align: right;\">\n",
       "      <th></th>\n",
       "      <th>actual_score</th>\n",
       "      <th>inference_score</th>\n",
       "    </tr>\n",
       "  </thead>\n",
       "  <tbody>\n",
       "    <tr>\n",
       "      <th>0</th>\n",
       "      <td>7.0</td>\n",
       "      <td>6.200879</td>\n",
       "    </tr>\n",
       "    <tr>\n",
       "      <th>1</th>\n",
       "      <td>6.0</td>\n",
       "      <td>7.557038</td>\n",
       "    </tr>\n",
       "    <tr>\n",
       "      <th>2</th>\n",
       "      <td>8.0</td>\n",
       "      <td>7.984062</td>\n",
       "    </tr>\n",
       "    <tr>\n",
       "      <th>3</th>\n",
       "      <td>7.0</td>\n",
       "      <td>5.183307</td>\n",
       "    </tr>\n",
       "    <tr>\n",
       "      <th>4</th>\n",
       "      <td>9.0</td>\n",
       "      <td>6.249569</td>\n",
       "    </tr>\n",
       "  </tbody>\n",
       "</table>\n",
       "</div>"
      ],
      "text/plain": [
       "   actual_score  inference_score\n",
       "0           7.0         6.200879\n",
       "1           6.0         7.557038\n",
       "2           8.0         7.984062\n",
       "3           7.0         5.183307\n",
       "4           9.0         6.249569"
      ]
     },
     "execution_count": 212,
     "metadata": {},
     "output_type": "execute_result"
    }
   ],
   "source": [
    "# User Isbn Text DeepCoNN model(mse) test\n",
    "targets, predicts = test(\n",
    "                        model=user_isbn_text_deepconn, \n",
    "                        data_loader=user_isbn_text_test_dataloader, \n",
    "                        device=device, \n",
    "                        model_name='user_isbn_text_deepconn_mse',\n",
    "                        )\n",
    "\n",
    "# score\n",
    "user_isbn_text_deepconn_mse_score = pd.DataFrame([targets, predicts]).T\n",
    "user_isbn_text_deepconn_mse_score.columns = ['actual_score', 'inference_score']\n",
    "print(\"test score : {:.2f}\".format(rmse_score(user_isbn_text_deepconn_mse_score['actual_score'].values , user_isbn_text_deepconn_mse_score['inference_score'].values)))\n",
    "print(user_isbn_text_deepconn_mse_score.shape)\n",
    "user_isbn_text_deepconn_mse_score.head()"
   ]
  },
  {
   "cell_type": "code",
   "execution_count": 213,
   "metadata": {},
   "outputs": [
    {
     "name": "stderr",
     "output_type": "stream",
     "text": [
      "  0%|          | 0/959 [00:00<?, ?it/s]/tmp/ipykernel_57839/1845160713.py:76: DeprecationWarning: `np.long` is a deprecated alias for `np.compat.long`. To silence this warning, use `np.compat.long` by itself. In the likely event your code does not need to work on Python 2 you can use the builtin `int` for which `np.compat.long` is itself an alias. Doing this will not modify any behaviour and is safe. When replacing `np.long`, you may wish to use e.g. `np.int64` or `np.int32` to specify the precision. If you wish to review your current use, check the release note link for additional information.\n",
      "Deprecated in NumPy 1.20; for more details and guidance: https://numpy.org/devdocs/release/1.20.0-notes.html#deprecations\n",
      "  'user_isbn_vector' : np.array(self.user_isbn_vector[i], dtype=np.long),\n",
      "100%|██████████| 959/959 [00:04<00:00, 237.59it/s]\n"
     ]
    },
    {
     "name": "stdout",
     "output_type": "stream",
     "text": [
      "test score : 2.35\n",
      "(61359, 2)\n"
     ]
    },
    {
     "data": {
      "text/html": [
       "<div>\n",
       "<style scoped>\n",
       "    .dataframe tbody tr th:only-of-type {\n",
       "        vertical-align: middle;\n",
       "    }\n",
       "\n",
       "    .dataframe tbody tr th {\n",
       "        vertical-align: top;\n",
       "    }\n",
       "\n",
       "    .dataframe thead th {\n",
       "        text-align: right;\n",
       "    }\n",
       "</style>\n",
       "<table border=\"1\" class=\"dataframe\">\n",
       "  <thead>\n",
       "    <tr style=\"text-align: right;\">\n",
       "      <th></th>\n",
       "      <th>actual_score</th>\n",
       "      <th>inference_score</th>\n",
       "    </tr>\n",
       "  </thead>\n",
       "  <tbody>\n",
       "    <tr>\n",
       "      <th>0</th>\n",
       "      <td>7.0</td>\n",
       "      <td>7.119844</td>\n",
       "    </tr>\n",
       "    <tr>\n",
       "      <th>1</th>\n",
       "      <td>6.0</td>\n",
       "      <td>7.662937</td>\n",
       "    </tr>\n",
       "    <tr>\n",
       "      <th>2</th>\n",
       "      <td>8.0</td>\n",
       "      <td>8.332333</td>\n",
       "    </tr>\n",
       "    <tr>\n",
       "      <th>3</th>\n",
       "      <td>7.0</td>\n",
       "      <td>6.082517</td>\n",
       "    </tr>\n",
       "    <tr>\n",
       "      <th>4</th>\n",
       "      <td>9.0</td>\n",
       "      <td>9.511997</td>\n",
       "    </tr>\n",
       "  </tbody>\n",
       "</table>\n",
       "</div>"
      ],
      "text/plain": [
       "   actual_score  inference_score\n",
       "0           7.0         7.119844\n",
       "1           6.0         7.662937\n",
       "2           8.0         8.332333\n",
       "3           7.0         6.082517\n",
       "4           9.0         9.511997"
      ]
     },
     "execution_count": 213,
     "metadata": {},
     "output_type": "execute_result"
    }
   ],
   "source": [
    "# User Isbn Text DeepCoNN model(mae) test\n",
    "targets, predicts = test(\n",
    "                        model=user_isbn_text_deepconn, \n",
    "                        data_loader=user_isbn_text_test_dataloader, \n",
    "                        device=device, \n",
    "                        model_name='user_isbn_text_deepconn_mae',\n",
    "                        )\n",
    "\n",
    "# score\n",
    "user_isbn_text_deepconn_mae_score = pd.DataFrame([targets, predicts]).T\n",
    "user_isbn_text_deepconn_mae_score.columns = ['actual_score', 'inference_score']\n",
    "print(\"test score : {:.2f}\".format(rmse_score(user_isbn_text_deepconn_mae_score['actual_score'].values , user_isbn_text_deepconn_mae_score['inference_score'].values)))\n",
    "print(user_isbn_text_deepconn_mae_score.shape)\n",
    "user_isbn_text_deepconn_mae_score.head()"
   ]
  },
  {
   "cell_type": "code",
   "execution_count": 308,
   "metadata": {},
   "outputs": [
    {
     "name": "stderr",
     "output_type": "stream",
     "text": [
      "  0%|          | 0/959 [00:00<?, ?it/s]/tmp/ipykernel_57839/1845160713.py:76: DeprecationWarning: `np.long` is a deprecated alias for `np.compat.long`. To silence this warning, use `np.compat.long` by itself. In the likely event your code does not need to work on Python 2 you can use the builtin `int` for which `np.compat.long` is itself an alias. Doing this will not modify any behaviour and is safe. When replacing `np.long`, you may wish to use e.g. `np.int64` or `np.int32` to specify the precision. If you wish to review your current use, check the release note link for additional information.\n",
      "Deprecated in NumPy 1.20; for more details and guidance: https://numpy.org/devdocs/release/1.20.0-notes.html#deprecations\n",
      "  'user_isbn_vector' : np.array(self.user_isbn_vector[i], dtype=np.long),\n",
      "100%|██████████| 959/959 [00:04<00:00, 237.31it/s]\n"
     ]
    },
    {
     "name": "stdout",
     "output_type": "stream",
     "text": [
      "test score : 2.45\n",
      "(61359, 2)\n"
     ]
    },
    {
     "data": {
      "text/html": [
       "<div>\n",
       "<style scoped>\n",
       "    .dataframe tbody tr th:only-of-type {\n",
       "        vertical-align: middle;\n",
       "    }\n",
       "\n",
       "    .dataframe tbody tr th {\n",
       "        vertical-align: top;\n",
       "    }\n",
       "\n",
       "    .dataframe thead th {\n",
       "        text-align: right;\n",
       "    }\n",
       "</style>\n",
       "<table border=\"1\" class=\"dataframe\">\n",
       "  <thead>\n",
       "    <tr style=\"text-align: right;\">\n",
       "      <th></th>\n",
       "      <th>actual_score</th>\n",
       "      <th>inference_score</th>\n",
       "    </tr>\n",
       "  </thead>\n",
       "  <tbody>\n",
       "    <tr>\n",
       "      <th>0</th>\n",
       "      <td>7.0</td>\n",
       "      <td>6.175921</td>\n",
       "    </tr>\n",
       "    <tr>\n",
       "      <th>1</th>\n",
       "      <td>6.0</td>\n",
       "      <td>7.362338</td>\n",
       "    </tr>\n",
       "    <tr>\n",
       "      <th>2</th>\n",
       "      <td>8.0</td>\n",
       "      <td>8.081655</td>\n",
       "    </tr>\n",
       "    <tr>\n",
       "      <th>3</th>\n",
       "      <td>7.0</td>\n",
       "      <td>5.237461</td>\n",
       "    </tr>\n",
       "    <tr>\n",
       "      <th>4</th>\n",
       "      <td>9.0</td>\n",
       "      <td>8.614761</td>\n",
       "    </tr>\n",
       "  </tbody>\n",
       "</table>\n",
       "</div>"
      ],
      "text/plain": [
       "   actual_score  inference_score\n",
       "0           7.0         6.175921\n",
       "1           6.0         7.362338\n",
       "2           8.0         8.081655\n",
       "3           7.0         5.237461\n",
       "4           9.0         8.614761"
      ]
     },
     "execution_count": 308,
     "metadata": {},
     "output_type": "execute_result"
    }
   ],
   "source": [
    "# User Isbn Text DeepCoNN model(rmse) test\n",
    "targets, predicts = test(\n",
    "                        model=user_isbn_text_deepconn, \n",
    "                        data_loader=user_isbn_text_test_dataloader, \n",
    "                        device=device, \n",
    "                        model_name='user_isbn_text_deepconn_rmse',\n",
    "                        )\n",
    "\n",
    "# score\n",
    "user_isbn_text_deepconn_rmse_score = pd.DataFrame([targets, predicts]).T\n",
    "user_isbn_text_deepconn_rmse_score.columns = ['actual_score', 'inference_score']\n",
    "\n",
    "print(\"test score : {:.2f}\".format(rmse_score(user_isbn_text_deepconn_rmse_score['actual_score'].values , user_isbn_text_deepconn_rmse_score['inference_score'].values)))\n",
    "print(user_isbn_text_deepconn_rmse_score.shape)\n",
    "user_isbn_text_deepconn_rmse_score.head()"
   ]
  },
  {
   "cell_type": "code",
   "execution_count": null,
   "metadata": {},
   "outputs": [],
   "source": []
  },
  {
   "cell_type": "code",
   "execution_count": 321,
   "metadata": {},
   "outputs": [],
   "source": [
    "import math\n",
    "user_isbn_text_deepconn_mae_score['error']=np.abs(user_isbn_text_deepconn_mae_score['actual_score']-user_isbn_text_deepconn_mae_score['inference_score'])\n",
    "merge=pd.concat([user_isbn_text_deepconn_mae_score,X_test.reset_index()],axis=1)\n",
    "mt3=merge[merge['error']>=2]\n",
    "lt3=merge[merge['error']<2]"
   ]
  },
  {
   "cell_type": "code",
   "execution_count": 322,
   "metadata": {},
   "outputs": [
    {
     "data": {
      "text/plain": [
       "(40967, 20392)"
      ]
     },
     "execution_count": 322,
     "metadata": {},
     "output_type": "execute_result"
    }
   ],
   "source": [
    "len(lt3), len(mt3)"
   ]
  },
  {
   "cell_type": "code",
   "execution_count": 325,
   "metadata": {},
   "outputs": [
    {
     "data": {
      "text/plain": [
       "8.0     11994\n",
       "7.0      9297\n",
       "9.0      6813\n",
       "10.0     4617\n",
       "6.0      3969\n",
       "5.0      1677\n",
       "4.0      1230\n",
       "3.0       688\n",
       "2.0       507\n",
       "1.0       175\n",
       "Name: actual_score, dtype: int64"
      ]
     },
     "execution_count": 325,
     "metadata": {},
     "output_type": "execute_result"
    }
   ],
   "source": [
    "lt3['actual_score'].value_counts()"
   ]
  },
  {
   "cell_type": "code",
   "execution_count": 299,
   "metadata": {},
   "outputs": [],
   "source": [
    "#df_fe_join.to_csv('summayembedding.csv',header=False)"
   ]
  },
  {
   "cell_type": "code",
   "execution_count": 311,
   "metadata": {},
   "outputs": [
    {
     "name": "stdout",
     "output_type": "stream",
     "text": [
      "test score : 2.35\n"
     ]
    }
   ],
   "source": [
    "print(\"test score : {:.2f}\".format(rmse_score(user_isbn_text_deepconn_rmse_score['actual_score'].values , merge['inference_score'].values)))\n"
   ]
  },
  {
   "cell_type": "code",
   "execution_count": 301,
   "metadata": {},
   "outputs": [
    {
     "data": {
      "text/plain": [
       "0         7\n",
       "1         8\n",
       "2         8\n",
       "3         6\n",
       "4        10\n",
       "         ..\n",
       "61354     6\n",
       "61355     6\n",
       "61356     2\n",
       "61357     9\n",
       "61358     7\n",
       "Name: inference_score, Length: 61359, dtype: int64"
      ]
     },
     "execution_count": 301,
     "metadata": {},
     "output_type": "execute_result"
    }
   ],
   "source": []
  },
  {
   "cell_type": "code",
   "execution_count": null,
   "metadata": {},
   "outputs": [],
   "source": []
  },
  {
   "cell_type": "code",
   "execution_count": null,
   "metadata": {},
   "outputs": [],
   "source": []
  }
 ],
 "metadata": {
  "kernelspec": {
   "display_name": "dl_study",
   "language": "python",
   "name": "python3"
  },
  "language_info": {
   "codemirror_mode": {
    "name": "ipython",
    "version": 3
   },
   "file_extension": ".py",
   "mimetype": "text/x-python",
   "name": "python",
   "nbconvert_exporter": "python",
   "pygments_lexer": "ipython3",
   "version": "3.8.13 | packaged by conda-forge | (default, Mar 25 2022, 06:04:14) \n[Clang 12.0.1 ]"
  },
  "vscode": {
   "interpreter": {
    "hash": "c4478857f5fc162708f083f40f9e8d53df17dd0b55d608ff3c8e3b659d8e6724"
   }
  }
 },
 "nbformat": 4,
 "nbformat_minor": 2
}
